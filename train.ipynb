{
 "cells": [
  {
   "cell_type": "code",
   "execution_count": 2446,
   "metadata": {},
   "outputs": [],
   "source": [
    "import numpy as np\n",
    "import pandas as pd\n",
    "import seaborn as sns\n",
    "import matplotlib.pyplot as plt"
   ]
  },
  {
   "cell_type": "code",
   "execution_count": 2447,
   "metadata": {},
   "outputs": [
    {
     "name": "stderr",
     "output_type": "stream",
     "text": [
      "C:\\Users\\erena\\AppData\\Local\\Temp\\ipykernel_10472\\2825929267.py:1: DtypeWarning: Columns (13,15,19,30,32,37,41,42) have mixed types. Specify dtype option on import or set low_memory=False.\n",
      "  train_df = pd.read_csv('train.csv')\n"
     ]
    }
   ],
   "source": [
    "train_df = pd.read_csv('train.csv')\n",
    "test_df = pd.read_csv('test_x.csv')"
   ]
  },
  {
   "cell_type": "code",
   "execution_count": 2448,
   "metadata": {},
   "outputs": [],
   "source": [
    "train_df = train_df.drop(['Burslu ise Burs Yuzdesi','Daha Once Baska Bir Universiteden Mezun Olmus','Lise Adi Diger','Lise Bolum Diger','Uye Oldugunuz Kulubun Ismi','Stk Projesine Katildiniz Mi?','Ingilizce Seviyeniz?','Daha Önceden Mezun Olunduysa, Mezun Olunan Üniversite']\n",
    "                         ,axis=1)\n",
    "\n",
    "test_df = test_df.drop(['Burslu ise Burs Yuzdesi','Daha Once Baska Bir Universiteden Mezun Olmus','Lise Adi Diger','Lise Bolum Diger','Uye Oldugunuz Kulubun Ismi','Stk Projesine Katildiniz Mi?','Ingilizce Seviyeniz?','Daha Önceden Mezun Olunduysa, Mezun Olunan Üniversite']\n",
    "                         ,axis=1)"
   ]
  },
  {
   "cell_type": "code",
   "execution_count": 2449,
   "metadata": {},
   "outputs": [],
   "source": [
    "train_df = train_df[train_df['Cinsiyet'].notna() & (train_df['Cinsiyet'] != '')]"
   ]
  },
  {
   "cell_type": "code",
   "execution_count": 2450,
   "metadata": {},
   "outputs": [],
   "source": [
    "train_df = train_df[train_df['Degerlendirme Puani'].notna() & (train_df['Degerlendirme Puani'] != '')]"
   ]
  },
  {
   "cell_type": "code",
   "execution_count": 2451,
   "metadata": {},
   "outputs": [],
   "source": [
    "train_df = train_df[train_df['Dogum Tarihi'].notna() & (train_df['Dogum Tarihi'] != '')]"
   ]
  },
  {
   "cell_type": "code",
   "execution_count": 2452,
   "metadata": {},
   "outputs": [],
   "source": [
    "train_df = train_df[train_df['Ikametgah Sehri'].notna() & (train_df['Ikametgah Sehri'] != '')]"
   ]
  },
  {
   "cell_type": "code",
   "execution_count": 2453,
   "metadata": {},
   "outputs": [],
   "source": [
    "train_df = train_df[train_df['Universite Kacinci Sinif'].notna() & (train_df['Universite Kacinci Sinif'] != '')]"
   ]
  },
  {
   "cell_type": "code",
   "execution_count": 2454,
   "metadata": {},
   "outputs": [],
   "source": [
    "train_df = train_df[train_df['Universite Adi'].notna() & (train_df['Universite Adi'] != '')]"
   ]
  },
  {
   "cell_type": "code",
   "execution_count": 2455,
   "metadata": {},
   "outputs": [],
   "source": [
    "train_df = train_df[train_df['Bölüm'].notna() & (train_df['Bölüm'] != '')]"
   ]
  },
  {
   "cell_type": "code",
   "execution_count": 2456,
   "metadata": {},
   "outputs": [],
   "source": [
    "train_df.loc[(train_df['Universite Kacinci Sinif'] == '1') & (train_df['Universite Not Ortalamasi'].isnull()), 'Universite Not Ortalamasi'] = 0"
   ]
  },
  {
   "cell_type": "code",
   "execution_count": 2457,
   "metadata": {},
   "outputs": [],
   "source": [
    "train_df.loc[(train_df['Universite Kacinci Sinif'] == 'Hazırlık') & (train_df['Universite Not Ortalamasi'].isnull()), 'Universite Not Ortalamasi'] = 0"
   ]
  },
  {
   "cell_type": "code",
   "execution_count": 2458,
   "metadata": {},
   "outputs": [],
   "source": [
    "train_df = train_df[train_df['Universite Not Ortalamasi'].notna() & (train_df['Universite Not Ortalamasi'] != '')]\n"
   ]
  },
  {
   "cell_type": "code",
   "execution_count": 2459,
   "metadata": {},
   "outputs": [],
   "source": [
    "#train_df['Daha Once Baska Bir Universiteden Mezun Olmus'] = train_df['Daha Once Baska Bir Universiteden Mezun Olmus'].fillna('Hayır')\n",
    "#test_df['Daha Once Baska Bir Universiteden Mezun Olmus'] = test_df['Daha Once Baska Bir Universiteden Mezun Olmus'].fillna('Hayır')"
   ]
  },
  {
   "cell_type": "code",
   "execution_count": 2460,
   "metadata": {},
   "outputs": [],
   "source": [
    "train_df = train_df[train_df['Lise Adi'].notna() & (train_df['Lise Adi'] != '')]"
   ]
  },
  {
   "cell_type": "code",
   "execution_count": 2461,
   "metadata": {},
   "outputs": [],
   "source": [
    "# train_df['Daha Once Baska Bir Universiteden Mezun Olmus'] = train_df['Daha Once Baska Bir Universiteden Mezun Olmus'].fillna('Hayır')"
   ]
  },
  {
   "cell_type": "code",
   "execution_count": 2462,
   "metadata": {},
   "outputs": [],
   "source": [
    "train_df['Girisimcilik Kulupleri Tarzi Bir Kulube Uye misiniz?'] = train_df['Girisimcilik Kulupleri Tarzi Bir Kulube Uye misiniz?'].fillna('Hayır')"
   ]
  },
  {
   "cell_type": "code",
   "execution_count": 2463,
   "metadata": {},
   "outputs": [],
   "source": [
    "train_df.loc[train_df['Ingilizce Biliyor musunuz?'].isnull(), ['Ingilizce Biliyor musunuz?']] = 'Yok'"
   ]
  },
  {
   "cell_type": "code",
   "execution_count": 2464,
   "metadata": {},
   "outputs": [],
   "source": [
    "train_df = train_df[train_df['Lise Mezuniyet Notu'].notna() & (train_df['Lise Mezuniyet Notu'] != '')]"
   ]
  },
  {
   "cell_type": "code",
   "execution_count": 2465,
   "metadata": {},
   "outputs": [],
   "source": [
    "train_df.loc[train_df['Universite Adi'] == ('MARMARA ÜNİVERSİTESİ'), ['Universite Turu']] = 'Devlet'\n",
    "train_df.loc[train_df['Universite Adi'] == ('HACETTEPE ÜNİVERSİTESİ'), ['Universite Turu']] = 'Devlet'\n",
    "train_df.loc[train_df['Universite Adi'] == ('BEYKENT ÜNİVERSİTESİ'), ['Universite Turu']] = 'Özel'\n",
    "train_df.loc[train_df['Universite Adi'] == ('VAN YÜZÜNCÜ YIL ÜNİVERSİTESİ'), ['Universite Turu']] = 'Devlet'\n"
   ]
  },
  {
   "cell_type": "code",
   "execution_count": 2466,
   "metadata": {},
   "outputs": [],
   "source": [
    "#train_df.loc[train_df['Universite Turu'] == 'DEVLET', ['Burslu ise Burs Yuzdesi']]= 100.0\n"
   ]
  },
  {
   "cell_type": "code",
   "execution_count": 2467,
   "metadata": {},
   "outputs": [],
   "source": [
    "#train_df.loc[train_df['Universite Turu'] == 'Devlet', ['Burslu ise Burs Yuzdesi']]= 100.0"
   ]
  },
  {
   "cell_type": "code",
   "execution_count": 2468,
   "metadata": {},
   "outputs": [],
   "source": [
    "train_df.loc[(train_df['Aktif olarak bir STK üyesi misiniz?'].isnull()) & \n",
    "       (train_df['Hangi STK\\'nin Uyesisiniz?']=='Yok'), \n",
    "       'Aktif olarak bir STK üyesi misiniz?'] = 'Hayır'"
   ]
  },
  {
   "cell_type": "code",
   "execution_count": 2469,
   "metadata": {},
   "outputs": [],
   "source": [
    "# train_df.loc[train_df['Stk Projesine Katildiniz Mi?'].isnull(), ['Stk Projesine Katildiniz Mi?']]='Hayır'"
   ]
  },
  {
   "cell_type": "code",
   "execution_count": 2470,
   "metadata": {},
   "outputs": [],
   "source": [
    "train_df.loc[train_df['Baska Bir Kurumdan Burs Aliyor mu?'].isnull(), ['Baska Bir Kurumdan Burs Aliyor mu?']]='Hayır'\n"
   ]
  },
  {
   "cell_type": "code",
   "execution_count": 2471,
   "metadata": {},
   "outputs": [],
   "source": [
    "train_df[\"Lise Turu\"]=train_df[\"Lise Turu\"].str.lower()\n",
    "test_df[\"Lise Turu\"]=test_df[\"Lise Turu\"].str.lower()"
   ]
  },
  {
   "cell_type": "code",
   "execution_count": 2472,
   "metadata": {},
   "outputs": [],
   "source": [
    "evet_hayir_emekli={'Evet':1,'Hayır':0,'Emekli':0}\n",
    "train_df['Anne Calisma Durumu'] = train_df['Anne Calisma Durumu'].map(evet_hayir_emekli).fillna(0)\n",
    "test_df['Anne Calisma Durumu'] = test_df['Anne Calisma Durumu'].map(evet_hayir_emekli).fillna(0)"
   ]
  },
  {
   "cell_type": "code",
   "execution_count": 2473,
   "metadata": {},
   "outputs": [],
   "source": [
    "train_df=train_df.drop('Anne Sektor',axis=1)\n",
    "train_df=train_df.drop('Anne Egitim Durumu',axis=1)\n",
    "test_df=test_df.drop('Anne Sektor',axis=1)\n",
    "test_df=test_df.drop('Anne Egitim Durumu',axis=1)"
   ]
  },
  {
   "cell_type": "code",
   "execution_count": 2474,
   "metadata": {},
   "outputs": [],
   "source": [
    "train_df=train_df.drop('Baba Sektor',axis=1)\n",
    "train_df=train_df.drop('Baba Egitim Durumu',axis=1)\n",
    "train_df['Baba Calisma Durumu'] = train_df['Baba Calisma Durumu'].map(evet_hayir_emekli).fillna(0)\n",
    "test_df=test_df.drop('Baba Sektor',axis=1)\n",
    "test_df=test_df.drop('Baba Egitim Durumu',axis=1)\n",
    "test_df['Baba Calisma Durumu'] = test_df['Baba Calisma Durumu'].map(evet_hayir_emekli).fillna(0)"
   ]
  },
  {
   "cell_type": "code",
   "execution_count": 2475,
   "metadata": {},
   "outputs": [],
   "source": [
    "train_df[\"Kardes Sayisi\"]=train_df[\"Kardes Sayisi\"].fillna(0)\n",
    "test_df[\"Kardes Sayisi\"]=test_df[\"Kardes Sayisi\"].fillna(0)"
   ]
  },
  {
   "cell_type": "code",
   "execution_count": 2476,
   "metadata": {},
   "outputs": [],
   "source": [
    "evet_hayir={'Evet':1,'Hayır':0,'evet':1,'EVET':1,'hayır':0,'HAYIR':0}\n",
    "train_df['Profesyonel Bir Spor Daliyla Mesgul musunuz?'] = train_df['Profesyonel Bir Spor Daliyla Mesgul musunuz?'].map(evet_hayir).fillna(0)\n",
    "test_df['Profesyonel Bir Spor Daliyla Mesgul musunuz?'] = test_df['Profesyonel Bir Spor Daliyla Mesgul musunuz?'].map(evet_hayir).fillna(0)"
   ]
  },
  {
   "cell_type": "code",
   "execution_count": 2477,
   "metadata": {},
   "outputs": [],
   "source": [
    "train_df[\"Aktif olarak bir STK üyesi misiniz?\"]=train_df[\"Aktif olarak bir STK üyesi misiniz?\"].map(evet_hayir).fillna(0)\n",
    "test_df[\"Aktif olarak bir STK üyesi misiniz?\"]=test_df[\"Aktif olarak bir STK üyesi misiniz?\"].map(evet_hayir).fillna(0)"
   ]
  },
  {
   "cell_type": "code",
   "execution_count": 2478,
   "metadata": {},
   "outputs": [],
   "source": [
    "train_df.loc[(train_df['Aktif olarak bir STK üyesi misiniz?']==0) & \n",
    "       (train_df['Hangi STK\\'nin Uyesisiniz?'].isnull()), \n",
    "       'Hangi STK\\'nin Uyesisiniz?'] = '-'"
   ]
  },
  {
   "cell_type": "code",
   "execution_count": 2479,
   "metadata": {},
   "outputs": [],
   "source": [
    "train_df = train_df[train_df['Hangi STK\\'nin Uyesisiniz?'].notna() & (train_df['Hangi STK\\'nin Uyesisiniz?'] != '')]\n"
   ]
  },
  {
   "cell_type": "code",
   "execution_count": 2480,
   "metadata": {},
   "outputs": [],
   "source": [
    "# train_df[\"Stk Projesine Katildiniz Mi?\"]=train_df[\"Stk Projesine Katildiniz Mi?\"].map(evet_hayir)\n",
    "train_df[\"Girisimcilikle Ilgili Deneyiminiz Var Mi?\"]=train_df[\"Girisimcilikle Ilgili Deneyiminiz Var Mi?\"].map(evet_hayir).fillna(0)\n",
    "train_df=train_df.drop(\"Girisimcilikle Ilgili Deneyiminizi Aciklayabilir misiniz?\",axis=1)\n",
    "# test_df[\"Stk Projesine Katildiniz Mi?\"]=test_df[\"Stk Projesine Katildiniz Mi?\"].map(evet_hayir)\n",
    "test_df[\"Girisimcilikle Ilgili Deneyiminiz Var Mi?\"]=test_df[\"Girisimcilikle Ilgili Deneyiminiz Var Mi?\"].map(evet_hayir).fillna(0)\n",
    "test_df=test_df.drop(\"Girisimcilikle Ilgili Deneyiminizi Aciklayabilir misiniz?\",axis=1)"
   ]
  },
  {
   "cell_type": "code",
   "execution_count": 2481,
   "metadata": {},
   "outputs": [],
   "source": [
    "train_df[\"Ingilizce Biliyor musunuz?\"]=train_df[\"Ingilizce Biliyor musunuz?\"].map(evet_hayir).fillna(0)\n",
    "test_df[\"Ingilizce Biliyor musunuz?\"]=test_df[\"Ingilizce Biliyor musunuz?\"].map(evet_hayir).fillna(0)"
   ]
  },
  {
   "cell_type": "code",
   "execution_count": 2482,
   "metadata": {},
   "outputs": [],
   "source": [
    "train_df[\"Girisimcilik Kulupleri Tarzi Bir Kulube Uye misiniz?\"]=train_df[\"Girisimcilik Kulupleri Tarzi Bir Kulube Uye misiniz?\"].map(evet_hayir)\n",
    "test_df[\"Girisimcilik Kulupleri Tarzi Bir Kulube Uye misiniz?\"]=test_df[\"Girisimcilik Kulupleri Tarzi Bir Kulube Uye misiniz?\"].map(evet_hayir)"
   ]
  },
  {
   "cell_type": "code",
   "execution_count": 2483,
   "metadata": {},
   "outputs": [],
   "source": [
    "train_df=train_df.drop(\"Baska Kurumdan Aldigi Burs Miktari\",axis=1)\n",
    "test_df=test_df.drop(\"Baska Kurumdan Aldigi Burs Miktari\",axis=1)"
   ]
  },
  {
   "cell_type": "code",
   "execution_count": 2484,
   "metadata": {},
   "outputs": [],
   "source": [
    "train_df=train_df.drop(\"Burs Aldigi Baska Kurum\",axis=1)\n",
    "test_df=test_df.drop(\"Burs Aldigi Baska Kurum\",axis=1)"
   ]
  },
  {
   "cell_type": "code",
   "execution_count": 2485,
   "metadata": {},
   "outputs": [],
   "source": [
    "train_df[\"Baska Bir Kurumdan Burs Aliyor mu?\"]=train_df[\"Baska Bir Kurumdan Burs Aliyor mu?\"].map(evet_hayir)\n",
    "test_df[\"Baska Bir Kurumdan Burs Aliyor mu?\"]=test_df[\"Baska Bir Kurumdan Burs Aliyor mu?\"].map(evet_hayir)"
   ]
  },
  {
   "cell_type": "code",
   "execution_count": 2486,
   "metadata": {},
   "outputs": [],
   "source": [
    "train_df[\"Burs Aliyor mu?\"]=train_df[\"Burs Aliyor mu?\"].map(evet_hayir)\n",
    "test_df[\"Burs Aliyor mu?\"]=test_df[\"Burs Aliyor mu?\"].map(evet_hayir)"
   ]
  },
  {
   "cell_type": "code",
   "execution_count": 2487,
   "metadata": {},
   "outputs": [],
   "source": [
    "uni_not_mapping = {'ORTALAMA BULUNMUYOR': 0, 'Not ortalaması yok': 0, 'Ortalama bulunmuyor': 0,'Hazırlığım': 0,'0':0,\n",
    "                   '0 - 1.79': 0,'1.00 - 2.50':1,'1.80 - 2.49':1,'2.50 ve altı':1,'2.00 - 2.50':1,\"3.00-2.50\":2,\n",
    "                   \"2.50 - 3.00\":2,\"2.50 - 2.99\":2,'2.50 -3.00':2,'3.00 - 3.50':3,'3.50-3':3,'3.00 - 3.49':3,'3.00 - 4.00':3,'3.50 - 4.00':4,'4-3.5':4,'4.0-3.5':4}"
   ]
  },
  {
   "cell_type": "code",
   "execution_count": 2488,
   "metadata": {},
   "outputs": [],
   "source": [
    "train_df[\"Universite Not Ortalamasi\"]=train_df[\"Universite Not Ortalamasi\"].map(uni_not_mapping)\n",
    "test_df[\"Universite Not Ortalamasi\"]=test_df[\"Universite Not Ortalamasi\"].map(uni_not_mapping)"
   ]
  },
  {
   "cell_type": "code",
   "execution_count": 2489,
   "metadata": {},
   "outputs": [],
   "source": [
    "train_df[\"Universite Not Ortalamasi\"]=train_df[\"Universite Not Ortalamasi\"].fillna(0)\n",
    "test_df[\"Universite Not Ortalamasi\"]=test_df[\"Universite Not Ortalamasi\"].fillna(0)"
   ]
  },
  {
   "cell_type": "code",
   "execution_count": 2490,
   "metadata": {},
   "outputs": [],
   "source": [
    "lise_mapping = {'anadolu lisesi':0,'diğer':0,'devlet':0,'düz lise':0,'özel':1,'meslek lisesi':2,'fen lisesi':3,'meslek':2,'özel lisesi':1,'imam hatip lisesi':4}"
   ]
  },
  {
   "cell_type": "code",
   "execution_count": 2491,
   "metadata": {},
   "outputs": [],
   "source": [
    "train_df[\"Lise Turu\"]=train_df[\"Lise Turu\"].map(lise_mapping)\n",
    "test_df[\"Lise Turu\"]=test_df[\"Lise Turu\"].map(lise_mapping)"
   ]
  },
  {
   "cell_type": "code",
   "execution_count": 2492,
   "metadata": {},
   "outputs": [],
   "source": [
    "train_df[\"Lise Turu\"]=train_df[\"Lise Turu\"].fillna(0)\n",
    "test_df[\"Lise Turu\"]=test_df[\"Lise Turu\"].fillna(0)"
   ]
  },
  {
   "cell_type": "code",
   "execution_count": 2493,
   "metadata": {},
   "outputs": [],
   "source": [
    "lisetürü=train_df[\"Lise Bolumu\"].value_counts()"
   ]
  },
  {
   "cell_type": "code",
   "execution_count": 2494,
   "metadata": {},
   "outputs": [],
   "source": [
    "cinsiyet_mapping = {'kadın':0,'Kadın':0,'Erkek':1,'erkek':1,'ERKEK':1,'Belirtmek istemiyorum':2}"
   ]
  },
  {
   "cell_type": "code",
   "execution_count": 2495,
   "metadata": {},
   "outputs": [],
   "source": [
    "train_df['Cinsiyet'] = train_df['Cinsiyet'].map(cinsiyet_mapping)\n",
    "test_df['Cinsiyet'] = test_df['Cinsiyet'].map(cinsiyet_mapping)"
   ]
  },
  {
   "cell_type": "code",
   "execution_count": 2496,
   "metadata": {},
   "outputs": [],
   "source": [
    "# train_df.loc[(train_df['Universite Turu'] == 'Devlet') & (train_df['Universite Turu'] == 'devlet') & (train_df['Universite Turu'] == 'DEVLET'), 'Burslu ise Burs Yuzdesi'] = 100"
   ]
  },
  {
   "cell_type": "code",
   "execution_count": 2497,
   "metadata": {},
   "outputs": [],
   "source": [
    "train_df.loc[train_df['Universite Adi'] == ('AFYON KOCATEPE ÜNİVERSİTESİ'), ['Universite Turu']] = 'Devlet'\n",
    "train_df.loc[train_df['Universite Adi'] == ('AKDENİZ ÜNİVERSİTESİ'), ['Universite Turu']] = 'Devlet'\n",
    "train_df.loc[train_df['Universite Adi'] == ('BAHÇEŞEHİR ÜNİVERSİTESİ'), ['Universite Turu']] = 'Özel'\n",
    "train_df.loc[train_df['Universite Adi'] == ('ANKARA YILDIRIM BEYAZIT ÜNİVERSİTESİ'), ['Universite Turu']] = 'Devlet'"
   ]
  },
  {
   "cell_type": "code",
   "execution_count": 2498,
   "metadata": {},
   "outputs": [],
   "source": [
    "train_df.loc[train_df['Universite Adi'] == ('TRAKYA ÜNİVERSİTESİ'), ['Universite Turu']] = 'Devlet'\n",
    "train_df.loc[train_df['Universite Adi'] == ('SELÇUK ÜNİVERSİTESİ'), ['Universite Turu']] = 'Devlet'\n",
    "train_df.loc[train_df['Universite Adi'] == ('BAŞKENT ÜNİVERSİTESİ'), ['Universite Turu']] = 'Özel'\n",
    "train_df.loc[train_df['Universite Adi'] == ('ÇUKUROVA ÜNİVERSİTESİ'), ['Universite Turu']] = 'Devlet'"
   ]
  },
  {
   "cell_type": "code",
   "execution_count": 2499,
   "metadata": {},
   "outputs": [],
   "source": [
    "train_df.loc[train_df['Universite Adi'] == ('GAZİ ÜNİVERSİTESİ'), ['Universite Turu']] = 'Devlet'\n",
    "train_df.loc[train_df['Universite Adi'] == ('YILDIZ TEKNİK ÜNİVERSİTESİ'), ['Universite Turu']] = 'Devlet'\n",
    "train_df.loc[train_df['Universite Adi'] == ('İSTANBUL AREL ÜNİVERSİTESİ'), ['Universite Turu']] = 'Özel'\n",
    "train_df.loc[train_df['Universite Adi'] == ('İSTANBUL AYDIN ÜNİVERSİTESİ'), ['Universite Turu']] = 'Özel'\n",
    "train_df.loc[train_df['Universite Adi'] == ('ÖZYEĞİN ÜNİVERSİTESİ'), ['Universite Turu']] = 'Özel'\n",
    "train_df.loc[train_df['Universite Adi'] == ('BURSA ULUDAĞ ÜNİVERSİTESİ'), ['Universite Turu']] = 'Devlet'\n",
    "train_df.loc[train_df['Universite Adi'] == ('BOĞAZİÇİ ÜNİVERSİTESİ'), ['Universite Turu']] = 'Devlet'"
   ]
  },
  {
   "cell_type": "code",
   "execution_count": 2500,
   "metadata": {},
   "outputs": [],
   "source": [
    "train_df.loc[train_df['Universite Adi'] == ('BİLECİK ŞEYH EDEBALİ ÜNİVERSİTESİ'), ['Universite Turu']] = 'Devlet'\n",
    "train_df.loc[train_df['Universite Adi'] == ('DOKUZ EYLÜL ÜNİVERSİTESİ'), ['Universite Turu']] = 'Devlet'\n",
    "train_df.loc[train_df['Universite Adi'] == ('DOĞUŞ ÜNİVERSİTESİ'), ['Universite Turu']] = 'Özel'\n",
    "train_df.loc[train_df['Universite Adi'] == ('MEF ÜNİVERSİTESİ'), ['Universite Turu']] = 'Özel'\n",
    "train_df.loc[train_df['Universite Adi'] == ('YEDİTEPE ÜNİVERSİTESİ'), ['Universite Turu']] = 'Özel'\n",
    "train_df.loc[train_df['Universite Adi'] == ('EGE ÜNİVERSİTESİ'), ['Universite Turu']] = 'Devlet'\n",
    "train_df.loc[train_df['Universite Adi'] == ('BOĞAZİÇİ ÜNİVERSİTESİ'), ['Universite Turu']] = 'Devlet'"
   ]
  },
  {
   "cell_type": "code",
   "execution_count": 2501,
   "metadata": {},
   "outputs": [],
   "source": [
    "train_df.loc[train_df['Universite Adi'] == ('İSTANBUL TEKNİK ÜNİVERSİTESİ'), ['Universite Turu']] = 'Devlet'\n",
    "train_df.loc[train_df['Universite Adi'] == ('TOKAT GAZİOSMANPAŞA ÜNİVERSİTESİ'), ['Universite Turu']] = 'Devlet'\n",
    "train_df.loc[train_df['Universite Adi'] == ('HASAN KALYONCU ÜNİVERSİTESİ'), ['Universite Turu']] = 'Özel'\n",
    "train_df.loc[train_df['Universite Adi'] == ('SİVAS CUMHURİYET ÜNİVERSİTESİ'), ['Universite Turu']] = 'Devlet'\n",
    "train_df.loc[train_df['Universite Adi'] == ('YOZGAT BOZOK ÜNİVERSİTESİ'), ['Universite Turu']] = 'Devlet'\n",
    "train_df.loc[train_df['Universite Adi'] == ('AYDIN ADNAN MENDERES'), ['Universite Turu']] = 'Devlet'\n",
    "train_df.loc[train_df['Universite Adi'] == ('ARDAHAN ÜNİVERSİTESİ'), ['Universite Turu']] = 'Devlet'\n",
    "train_df.loc[train_df['Universite Adi'] == ('ATATÜRK ÜNİVERSİTESİ'), ['Universite Turu']] = 'Devlet'\n",
    "train_df.loc[train_df['Universite Adi'] == ('DİCLE ÜNİVERSİTESİ'), ['Universite Turu']] = 'Devlet'\n",
    "train_df.loc[train_df['Universite Adi'] == ('ERCİYES ÜNİVERSİTESİ'), ['Universite Turu']] = 'Devlet'\n",
    "train_df.loc[train_df['Universite Adi'] == ('ERZURUM TEKNİK ÜNİVERSİTESİ'), ['Universite Turu']] = 'Devlet'\n",
    "train_df.loc[train_df['Universite Adi'] == ('GÜMÜŞHANE ÜNİVERSİTESİ'), ['Universite Turu']] = 'Devlet'\n",
    "train_df.loc[train_df['Universite Adi'] == ('KARABÜK ÜNİVERSİTESİ'), ['Universite Turu']] = 'Devlet'\n",
    "train_df.loc[train_df['Universite Adi'] == ('KASTAMONU ÜNİVERSİTESİ'), ['Universite Turu']] = 'Devlet'\n",
    "train_df.loc[train_df['Universite Adi'] == ('KIRŞEHİR AHİ EVRAN ÜNİVERSİTESİ'), ['Universite Turu']] = 'Devlet'\n",
    "train_df.loc[train_df['Universite Adi'] == ('KOCAELİ ÜNİVERSİTESİ'), ['Universite Turu']] = 'Devlet'\n",
    "train_df.loc[train_df['Universite Adi'] == ('MARDİN ARTUKLU ÜNİVERSİTESİ'), ['Universite Turu']] = 'Devlet'\n",
    "train_df.loc[train_df['Universite Adi'] == ('MEHMET AKİF ERSOY ÜNİVERSİTESİ'), ['Universite Turu']] = 'Devlet'\n",
    "train_df.loc[train_df['Universite Adi'] == ('MERSİN ÜNİVERSİTESİ'), ['Universite Turu']] = 'Devlet'\n",
    "train_df.loc[train_df['Universite Adi'] == ('MUĞLA SITKI KOÇMAN ÜNİVERSİTESİ'), ['Universite Turu']] = 'Devlet'"
   ]
  },
  {
   "cell_type": "code",
   "execution_count": 2502,
   "metadata": {},
   "outputs": [],
   "source": [
    "train_df.loc[train_df['Universite Adi'] == ('İSTANBUL ÜNİVERSİTESİ'), ['Universite Turu']] = 'Devlet'\n",
    "train_df.loc[train_df['Universite Adi'] == ('İSTANBUL ÜNİVERSİTESİ-'), ['Universite Turu']] = 'Devlet'\n",
    "train_df.loc[train_df['Universite Adi'] == ('NECMETTİN ERBAKAN ÜNİVERSİTESİ'), ['Universite Turu']] = 'Devlet'\n",
    "train_df.loc[train_df['Universite Adi'] == ('ESKİŞEHİR TEKNİK ÜNİVERSİTESİ'), ['Universite Turu']] = 'Özel'\n",
    "train_df.loc[train_df['Universite Adi'] == ('MUŞ ALPARSLAN ÜNİVERSİTESİ'), ['Universite Turu']] = 'Devlet'\n",
    "train_df.loc[train_df['Universite Adi'] == ('NUH NACİ YAZGAN ÜNİVERSİTESİ'), ['Universite Turu']] = 'Özel'\n",
    "train_df.loc[train_df['Universite Adi'] == ('ONDOKUZ MAYIS ÜNİVERSİTESİ'), ['Universite Turu']] = 'Devlet'\n",
    "train_df.loc[train_df['Universite Adi'] == ('SİNOP ÜNİVERSİTESİ'), ['Universite Turu']] = 'Devlet'\n",
    "train_df.loc[train_df['Universite Adi'] == ('SİİRT ÜNİVERSİTESİ'), ['Universite Turu']] = 'Devlet'\n",
    "train_df.loc[train_df['Universite Adi'] == ('TEKİRDAĞ NAMIK KEMAL ÜNİVERSİTESİ'), ['Universite Turu']] = 'Devlet'\n",
    "train_df.loc[train_df['Universite Adi'] == ('YALOVA ÜNİVERSİTESİ'), ['Universite Turu']] = 'Devlet'\n",
    "train_df.loc[train_df['Universite Adi'] == ('ÇANAKKALE ONSEKİZ MART ÜNİVERSİTESİ'), ['Universite Turu']] = 'Devlet'"
   ]
  },
  {
   "cell_type": "code",
   "execution_count": 2503,
   "metadata": {},
   "outputs": [],
   "source": [
    "train_df.loc[train_df['Universite Adi'] == ('İZMİR BAKIRÇAY ÜNİVERSİTESİ'), ['Universite Turu']] = 'Devlet'\n",
    "train_df.loc[train_df['Universite Adi'] == ('İZMİR YÜKSEK TEKNOLOJİ ENSTİTÜSÜ'), ['Universite Turu']] = 'Devlet'\n",
    "train_df.loc[train_df['Universite Adi'] == ('SAĞLIK BİLİMLERİ ÜNİVERSİTESİ'), ['Universite Turu']] = 'Devlet'\n",
    "\n",
    "\n",
    "\n"
   ]
  },
  {
   "cell_type": "code",
   "execution_count": 2504,
   "metadata": {},
   "outputs": [],
   "source": [
    "train_df.loc[(train_df['Universite Turu'].isnull()) , 'Universite Turu'] = 'Özel'"
   ]
  },
  {
   "cell_type": "code",
   "execution_count": 2505,
   "metadata": {},
   "outputs": [],
   "source": [
    "# train_df = train_df[train_df['Universite Adi'] != 'Diğer']"
   ]
  },
  {
   "cell_type": "code",
   "execution_count": 2506,
   "metadata": {},
   "outputs": [
    {
     "data": {
      "text/plain": [
       "Universite Turu\n",
       "Devlet    37738\n",
       "Özel       7360\n",
       "DEVLET     6509\n",
       "ÖZEL       1952\n",
       "Name: count, dtype: int64"
      ]
     },
     "execution_count": 2506,
     "metadata": {},
     "output_type": "execute_result"
    }
   ],
   "source": [
    "train_df['Universite Turu'].value_counts()"
   ]
  },
  {
   "cell_type": "code",
   "execution_count": 2507,
   "metadata": {},
   "outputs": [],
   "source": [
    "universite_tur_mapping = {'Devlet':1,'DEVLET':1,'Özel':0,'ÖZEL':0}"
   ]
  },
  {
   "cell_type": "code",
   "execution_count": 2508,
   "metadata": {},
   "outputs": [],
   "source": [
    "train_df['Universite Turu'] = train_df['Universite Turu'].map(universite_tur_mapping)\n",
    "test_df['Universite Turu'] = test_df['Universite Turu'].map(universite_tur_mapping)"
   ]
  },
  {
   "cell_type": "code",
   "execution_count": 2509,
   "metadata": {},
   "outputs": [],
   "source": [
    "# train_df.loc[(train_df['Universite Turu']==1) , 'Burslu ise Burs Yuzdesi'] = 100"
   ]
  },
  {
   "cell_type": "code",
   "execution_count": 2510,
   "metadata": {},
   "outputs": [],
   "source": [
    "# train_df.loc[(train_df['Universite Turu']==0) & (train_df['Burslu ise Burs Yuzdesi'].isnull()), 'Burslu ise Burs Yuzdesi'] = 0"
   ]
  },
  {
   "cell_type": "code",
   "execution_count": 2511,
   "metadata": {},
   "outputs": [],
   "source": [
    "train_df.loc[train_df['Lise Bolumu'].str.contains('Fen', case=False, na=False), 'Lise Bolumu'] = 'Sayısal'\n",
    "train_df.loc[train_df['Lise Bolumu'].str.contains('Sayısal', case=False, na=False), 'Lise Bolumu'] = 'Sayısal'\n",
    "train_df.loc[train_df['Lise Bolumu'].str.contains('Sayisal', case=False, na=False), 'Lise Bolumu'] = 'Sayısal'\n",
    "train_df.loc[train_df['Lise Bolumu'].str.contains('mf', case=False, na=False), 'Lise Bolumu'] = 'Sayısal'"
   ]
  },
  {
   "cell_type": "code",
   "execution_count": 2512,
   "metadata": {},
   "outputs": [],
   "source": [
    "train_df.loc[train_df['Lise Bolumu'].str.contains('eşit', case=False, na=False), 'Lise Bolumu'] = 'Eşit Ağırlık'\n",
    "train_df.loc[train_df['Lise Bolumu'].str.contains('esıt', case=False, na=False), 'Lise Bolumu'] = 'Eşit Ağırlık'\n",
    "train_df.loc[train_df['Lise Bolumu'].str.contains('Türkçe-Matematik', case=False, na=False), 'Lise Bolumu'] = 'Eşit Ağırlık'\n",
    "train_df.loc[train_df['Lise Bolumu'].str.contains('Türkçe - Matematik', case=False, na=False), 'Lise Bolumu'] = 'Eşit Ağırlık'\n",
    "train_df.loc[train_df['Lise Bolumu'].str.contains('TÜRKÇE /MATEMATİK', case=False, na=False), 'Lise Bolumu'] = 'Eşit Ağırlık'\n",
    "train_df.loc[train_df['Lise Bolumu'].str.contains('Türkçe- Matematik', case=False, na=False), 'Lise Bolumu'] = 'Eşit Ağırlık'\n",
    "train_df.loc[train_df['Lise Bolumu'].str.contains('Türkçe Matematik', case=False, na=False), 'Lise Bolumu'] = 'Eşit Ağırlık'\n",
    "train_df.loc[train_df['Lise Bolumu'].str.contains('TM', case=False, na=False), 'Lise Bolumu'] = 'Eşit Ağırlık'"
   ]
  },
  {
   "cell_type": "code",
   "execution_count": 2513,
   "metadata": {},
   "outputs": [],
   "source": [
    "train_df.loc[train_df['Lise Bolumu'].str.contains('söz', case=False, na=False), 'Lise Bolumu'] = 'Sözel'\n",
    "train_df.loc[train_df['Lise Bolumu'].str.contains('sosyal', case=False, na=False), 'Lise Bolumu'] = 'Sözel'\n",
    "train_df.loc[train_df['Lise Bolumu'].str.contains('ts', case=False, na=False), 'Lise Bolumu'] = 'Sözel'"
   ]
  },
  {
   "cell_type": "code",
   "execution_count": 2514,
   "metadata": {},
   "outputs": [],
   "source": [
    "train_df.loc[train_df['Lise Bolumu'].str.contains('yabancı', case=False, na=False), 'Lise Bolumu'] = 'Dil'\n",
    "train_df.loc[train_df['Lise Bolumu'].str.contains('dil', case=False, na=False), 'Lise Bolumu'] = 'Dil'\n",
    "train_df.loc[train_df['Lise Bolumu'].str.contains('dıl', case=False, na=False), 'Lise Bolumu'] = 'Dil'\n",
    "\n",
    "\n",
    "\n"
   ]
  },
  {
   "cell_type": "code",
   "execution_count": 2515,
   "metadata": {},
   "outputs": [],
   "source": [
    "# Türkçe karakterleri İngilizce karakterlere çeviren fonksiyon\n",
    "def convert_characters(text):\n",
    "    # Karakter dönüşüm tablosu\n",
    "    turkish_to_english = str.maketrans(\"çğıöşüÇĞİÖŞÜ\", \"cgiosuCGIOSU\")\n",
    "    \n",
    "    # Küçük harfe çevir, Türkçe karakterleri dönüştür ve boşlukları kaldır\n",
    "    return text.lower().translate(turkish_to_english).replace(\" \", \"\")"
   ]
  },
  {
   "cell_type": "code",
   "execution_count": 2516,
   "metadata": {},
   "outputs": [],
   "source": [
    "train_df['Lise Adi'] = train_df['Lise Adi'].apply(convert_characters)\n",
    "test_df['Lise Adi'] = test_df['Lise Adi'].apply(convert_characters)"
   ]
  },
  {
   "cell_type": "code",
   "execution_count": 2517,
   "metadata": {},
   "outputs": [],
   "source": [
    "train_df['Bölüm'] = train_df['Bölüm'].apply(convert_characters)\n",
    "test_df['Bölüm'] = test_df['Bölüm'].apply(convert_characters)"
   ]
  },
  {
   "cell_type": "code",
   "execution_count": 2518,
   "metadata": {},
   "outputs": [],
   "source": [
    "train_df.loc[(train_df['Dogum Yeri']=='İstanbul') , 'Dogum Yeri'] = 'istanbul'\n",
    "train_df.loc[(train_df['Dogum Yeri']=='istanbul') , 'Dogum Yeri'] = 'istanbul'\n",
    "train_df.loc[(train_df['Dogum Yeri']=='Istanbul') , 'Dogum Yeri'] = 'istanbul'"
   ]
  },
  {
   "cell_type": "code",
   "execution_count": 2519,
   "metadata": {},
   "outputs": [],
   "source": [
    "train_df = train_df[train_df['Lise Bolumu'].notna() & (train_df['Lise Bolumu'] != '')]\n",
    "test_df = test_df[test_df['Lise Bolumu'].notna() & (test_df['Lise Bolumu'] != '')]"
   ]
  },
  {
   "cell_type": "code",
   "execution_count": 2520,
   "metadata": {},
   "outputs": [],
   "source": [
    "# train_df.loc[(train_df['Dogum Yeri']=='İstanbul') , 'Dogum Yeri'] = 'istanbul'\n",
    "# train_df.loc[(train_df['Dogum Yeri']=='istanbul') , 'Dogum Yeri'] = 'istanbul'\n",
    "# train_df.loc[(train_df['Dogum Yeri']=='Istanbul') , 'Dogum Yeri'] = 'istanbul'\n",
    "# # test_df.loc[(test_df['Dogum Yeri']=='İstanbul') , 'Dogum Yeri'] = 'istanbul'"
   ]
  },
  {
   "cell_type": "code",
   "execution_count": null,
   "metadata": {},
   "outputs": [],
   "source": []
  },
  {
   "cell_type": "code",
   "execution_count": 2521,
   "metadata": {},
   "outputs": [],
   "source": [
    "import re\n",
    "def extract_year(date_str):\n",
    "\n",
    "    match = re.search(r'(\\d{4})', str(date_str))\n",
    "    if match:\n",
    "        return int(match.group(1))\n",
    "    return None\n",
    "\n",
    "train_df['Dogum Yili'] = train_df['Dogum Tarihi'].apply(extract_year)\n",
    "train_df['Basvuru Yasi'] = train_df['Basvuru Yili'] - train_df['Dogum Yili']\n",
    "\n",
    "test_df['Dogum Yili'] = test_df['Dogum Tarihi'].apply(extract_year)\n",
    "test_df['Basvuru Yasi'] = test_df['Basvuru Yili'] - test_df['Dogum Yili']"
   ]
  },
  {
   "cell_type": "code",
   "execution_count": 2522,
   "metadata": {},
   "outputs": [
    {
     "name": "stderr",
     "output_type": "stream",
     "text": [
      "C:\\Users\\erena\\AppData\\Local\\Temp\\ipykernel_10472\\1834617375.py:4: UserWarning: Could not infer format, so each element will be parsed individually, falling back to `dateutil`. To ensure parsing is consistent and as-expected, please specify a format.\n",
      "  train_df.loc[mask, 'Dogum Yili'] = pd.to_datetime(train_df.loc[mask, 'Dogum Tarihi'], dayfirst=True, errors='coerce').dt.year\n"
     ]
    }
   ],
   "source": [
    "train_df['Dogum Tarihi'] = train_df['Dogum Tarihi'].str.replace('__', '', regex=False)\n",
    "train_df['Dogum Tarihi'] = train_df['Dogum Tarihi'].str.replace('_', '', regex=False)\n",
    "mask = train_df['Dogum Yili'].isna()  # Dogum_Yili sütunu boş olanlar\n",
    "train_df.loc[mask, 'Dogum Yili'] = pd.to_datetime(train_df.loc[mask, 'Dogum Tarihi'], dayfirst=True, errors='coerce').dt.year\n",
    "\n",
    "test_df['Dogum Tarihi'] = test_df['Dogum Tarihi'].str.replace('__', '', regex=False)\n",
    "test_df['Dogum Tarihi'] = test_df['Dogum Tarihi'].str.replace('_', '', regex=False)\n",
    "mask = test_df['Dogum Yili'].isna()  # Dogum_Yili sütunu boş olanlar\n",
    "test_df.loc[mask, 'Dogum Yili'] = pd.to_datetime(test_df.loc[mask, 'Dogum Tarihi'], dayfirst=True, errors='coerce').dt.year"
   ]
  },
  {
   "cell_type": "code",
   "execution_count": 2523,
   "metadata": {},
   "outputs": [],
   "source": [
    "train_df['Basvuru Yasi'] = train_df['Basvuru Yili'] - train_df['Dogum Yili']\n",
    "test_df['Basvuru Yasi'] = test_df['Basvuru Yili'] - test_df['Dogum Yili']\n"
   ]
  },
  {
   "cell_type": "code",
   "execution_count": 2524,
   "metadata": {},
   "outputs": [],
   "source": [
    "train_df = train_df[train_df['Dogum Yili'] <= 2012]\n",
    "\n"
   ]
  },
  {
   "cell_type": "code",
   "execution_count": 2525,
   "metadata": {},
   "outputs": [],
   "source": [
    "train_df = train_df[train_df['Dogum Yili'] > 1970]\n"
   ]
  },
  {
   "cell_type": "code",
   "execution_count": 2526,
   "metadata": {},
   "outputs": [],
   "source": [
    "lise_not_mapping = {'0 - 24':1,'0 - 25':1,'25 - 49':1,'44-0':1,'25 - 50':1,'Not ortalaması yok':0,'54-45':2,'2.50 ve altı':2,'50 - 74':3,'3.00-2.50':3,'3.50-3':4,'69-55':3,'3.50-3.00':4,'3.00 - 4.00':4,'50 - 75':3,'4.00-3.50':5,'100-85':5,'84-70':4,'75 - 100':5}"
   ]
  },
  {
   "cell_type": "code",
   "execution_count": 2527,
   "metadata": {},
   "outputs": [],
   "source": [
    "train_df[\"Lise Mezuniyet Notu\"] = train_df[\"Lise Mezuniyet Notu\"].map(lise_not_mapping)\n",
    "test_df[\"Lise Mezuniyet Notu\"] = test_df[\"Lise Mezuniyet Notu\"].map(lise_not_mapping)\n"
   ]
  },
  {
   "cell_type": "code",
   "execution_count": 2528,
   "metadata": {},
   "outputs": [],
   "source": [
    "train_df =train_df.drop(\"Dogum Yili\",axis=1)\n",
    "test_df =test_df.drop(\"Dogum Yili\",axis=1)\n"
   ]
  },
  {
   "cell_type": "code",
   "execution_count": 2529,
   "metadata": {},
   "outputs": [],
   "source": [
    "train_df = train_df.drop(\"Dogum Tarihi\",axis=1)\n",
    "test_df = test_df.drop(\"Dogum Tarihi\",axis=1)"
   ]
  },
  {
   "cell_type": "code",
   "execution_count": 2530,
   "metadata": {},
   "outputs": [],
   "source": [
    "counts = train_df[\"Lise Bolumu\"].value_counts()\n",
    "train_df = train_df[train_df[\"Lise Bolumu\"].isin(counts[counts > 2].index)]\n"
   ]
  },
  {
   "cell_type": "code",
   "execution_count": 2531,
   "metadata": {},
   "outputs": [],
   "source": [
    "train_df[\"Universite Kacinci Sinif\"] = train_df[\"Universite Kacinci Sinif\"].str.lower()\n",
    "test_df[\"Universite Kacinci Sinif\"] = test_df[\"Universite Kacinci Sinif\"].str.lower()"
   ]
  },
  {
   "cell_type": "code",
   "execution_count": 2532,
   "metadata": {},
   "outputs": [],
   "source": [
    "uni_sinif_mapping = {'1':1,'2':2,'3':3,'4':4,'5':5,'6':6,'hazırlık':0,'mezun':7,'yüksek lisans':8,'tez':8}\n"
   ]
  },
  {
   "cell_type": "code",
   "execution_count": 2533,
   "metadata": {},
   "outputs": [],
   "source": [
    "train_df[\"Universite Kacinci Sinif\"] = train_df[\"Universite Kacinci Sinif\"].map(uni_sinif_mapping)\n",
    "test_df[\"Universite Kacinci Sinif\"] = test_df[\"Universite Kacinci Sinif\"].map(uni_sinif_mapping)\n"
   ]
  },
  {
   "cell_type": "code",
   "execution_count": 2534,
   "metadata": {},
   "outputs": [],
   "source": [
    "train_df.loc[(train_df['Ikametgah Sehri']=='İstanbul') , 'Ikametgah Sehri'] = 'istanbul'\n",
    "train_df.loc[(train_df['Ikametgah Sehri']=='İzmir' ) , 'Ikametgah Sehri'] = 'izmir'\n",
    "train_df.loc[(train_df['Ikametgah Sehri']=='Isparta') , 'Ikametgah Sehri'] = 'isparta'\n",
    "train_df.loc[(train_df['Ikametgah Sehri']=='Iğdır') , 'Ikametgah Sehri'] = 'igdir'\n",
    "train_df.loc[train_df['Ikametgah Sehri'].str.contains('stanb', case=False, na=False), 'Ikametgah Sehri'] = 'istanbul'\n",
    "train_df.loc[train_df['Ikametgah Sehri'].str.contains('ankara', case=False, na=False), 'Ikametgah Sehri'] = 'ankara'\n",
    "train_df.loc[train_df['Ikametgah Sehri'].str.contains('zm', case=False, na=False), 'Ikametgah Sehri'] = 'izmir'\n",
    "train_df.loc[train_df['Ikametgah Sehri'].str.contains('afyon', case=False, na=False), 'Ikametgah Sehri'] = 'afyonkarahisar'\n",
    "train_df.loc[train_df['Ikametgah Sehri'].str.contains('maras', case=False, na=False), 'Ikametgah Sehri'] = 'kahramanmaras'\n",
    "train_df[\"Ikametgah Sehri\"] = train_df[\"Ikametgah Sehri\"].apply(convert_characters)\n",
    "\n",
    "\n",
    "test_df.loc[(test_df['Ikametgah Sehri']=='İstanbul') , 'Ikametgah Sehri'] = 'istanbul'\n",
    "test_df.loc[(test_df['Ikametgah Sehri']=='İzmir' ) , 'Ikametgah Sehri'] = 'izmir'\n",
    "test_df.loc[(test_df['Ikametgah Sehri']=='Isparta') , 'Ikametgah Sehri'] = 'isparta'\n",
    "test_df.loc[(test_df['Ikametgah Sehri']=='Iğdır') , 'Ikametgah Sehri'] = 'igdir'\n",
    "test_df.loc[test_df['Ikametgah Sehri'].str.contains('stanb', case=False, na=False), 'Ikametgah Sehri'] = 'istanbul'\n",
    "test_df.loc[test_df['Ikametgah Sehri'].str.contains('ankara', case=False, na=False), 'Ikametgah Sehri'] = 'ankara'\n",
    "test_df.loc[test_df['Ikametgah Sehri'].str.contains('zm', case=False, na=False), 'Ikametgah Sehri'] = 'izmir'\n",
    "test_df.loc[test_df['Ikametgah Sehri'].str.contains('afyon', case=False, na=False), 'Ikametgah Sehri'] = 'afyonkarahisar'\n",
    "test_df.loc[test_df['Ikametgah Sehri'].str.contains('maras', case=False, na=False), 'Ikametgah Sehri'] = 'kahramanmaras'\n",
    "test_df[\"Ikametgah Sehri\"] = test_df[\"Ikametgah Sehri\"].apply(convert_characters)\n",
    "\n",
    "\n",
    "asdas=train_df[\"Lise Sehir\"].value_counts()\n"
   ]
  },
  {
   "cell_type": "code",
   "execution_count": 2535,
   "metadata": {},
   "outputs": [
    {
     "data": {
      "text/plain": [
       "dtype('O')"
      ]
     },
     "execution_count": 2535,
     "metadata": {},
     "output_type": "execute_result"
    }
   ],
   "source": [
    "lisesehir = train_df.copy()\n",
    "train_df['Lise Sehir'].dtype\n",
    "train_df['Lise Sehir'] = train_df['Lise Sehir'].astype(str)\n",
    "train_df['Lise Sehir'].dtype\n"
   ]
  },
  {
   "cell_type": "code",
   "execution_count": 2536,
   "metadata": {},
   "outputs": [],
   "source": [
    "lisesehir.loc[(lisesehir['Lise Sehir']=='İstanbul') , 'Lise Sehir'] = 'istanbul'\n",
    "lisesehir.loc[(lisesehir['Lise Sehir']=='İzmir' ) , 'Lise Sehir'] = 'izmir'\n",
    "lisesehir.loc[(lisesehir['Lise Sehir']=='Isparta') , 'Lise Sehir'] = 'isparta'\n",
    "lisesehir.loc[(lisesehir['Lise Sehir']=='Iğdır') , 'Lise Sehir'] = 'igdir'\n",
    "lisesehir.loc[lisesehir['Lise Sehir'].str.contains('stanb', case=False, na=False), 'Lise Sehir'] = 'istanbul'\n",
    "lisesehir.loc[lisesehir['Lise Sehir'].str.contains('ankara', case=False, na=False), 'Lise Sehir'] = 'ankara'\n",
    "lisesehir.loc[lisesehir['Lise Sehir'].str.contains('zm', case=False, na=False), 'Lise Sehir'] = 'izmir'\n",
    "lisesehir.loc[lisesehir['Lise Sehir'].str.contains('afyon', case=False, na=False), 'Lise Sehir'] = 'afyonkarahisar'\n",
    "lisesehir.loc[lisesehir['Lise Sehir'].str.contains('maras', case=False, na=False), 'Lise Sehir'] = 'kahramanmaras'\n",
    "asasassa = lisesehir[\"Lise Sehir\"].value_counts()\n",
    "train_df[\"Lise Sehir\"] = train_df[\"Lise Sehir\"].apply(convert_characters)\n",
    "\n",
    "\n",
    "# test_df.loc[(test_df['Lise Sehir']=='İstanbul') , 'Lise Sehir'] = 'istanbul'\n",
    "# test_df.loc[(test_df['Lise Sehir']=='İzmir' ) , 'Lise Sehir'] = 'izmir'\n",
    "# test_df.loc[(test_df['Lise Sehir']=='Isparta') , 'Lise Sehir'] = 'isparta'\n",
    "# test_df.loc[(test_df['Lise Sehir']=='Iğdır') , 'Lise Sehir'] = 'igdir'\n",
    "# test_df.loc[test_df['Lise Sehir'].str.contains('stanb', case=False, na=False), 'Lise Sehir'] = 'istanbul'\n",
    "# test_df.loc[test_df['Lise Sehir'].str.contains('ankara', case=False, na=False), 'Lise Sehir'] = 'ankara'\n",
    "# test_df.loc[test_df['Lise Sehir'].str.contains('zm', case=False, na=False), 'Lise Sehir'] = 'izmir'\n",
    "# test_df.loc[test_df['Lise Sehir'].str.contains('afyon', case=False, na=False), 'Lise Sehir'] = 'afyonkarahisar'\n",
    "# test_df.loc[test_df['Lise Sehir'].str.contains('maras', case=False, na=False), 'Lise Sehir'] = 'kahramanmaras'\n",
    "# test_df[\"Lise Sehir\"] = test_df[\"Lise Sehir\"].apply(convert_characters)\n",
    "\n"
   ]
  },
  {
   "cell_type": "code",
   "execution_count": 2537,
   "metadata": {},
   "outputs": [],
   "source": [
    "sehirler_mapping = {\n",
    "    'adana': 1, 'adiyaman': 2, 'afyonkarahisar': 3, 'agri': 4,'aksaray': 5, 'amasya': 6,'ankara': 7,'antalya': 8,'ardahan': 9,'artvin': 10,\n",
    "    'aydin': 11,'balikesir': 12,'bartin': 13,'batman': 14,'bayburt': 15,'bilecik': 16,'bingol': 17,'bitlis': 18,'bolu': 19,'burdur': 20,\n",
    "    'bursa': 21,'canakkale': 22,'cankiri': 23,'corum': 24,'denizli': 25,'diyarbakir': 26,'duzce': 27,'edirne': 28,'elazig': 29,'erzincan': 30,'erzurum': 31,\n",
    "    'eskisehir': 32,'gaziantep': 33,'giresun': 34,'gumushane': 35,'hakkari': 36,'hatay': 37,'igdir': 38,'isparta': 39,'istanbul': 40,'izmir': 41,\n",
    "    'kahramanmaras': 42,'karabuk': 43,'karaman': 44,'kars': 45,'kastamonu': 46,'kayseri': 47,'kilis': 48,'kirikkale': 49,'kirklareli': 50,'kirsehir': 51,\n",
    "    'kocaeli': 52,'konya': 53,'kutahya': 54,'malatya': 55,'manisa': 56,'mardin': 57,'mersin': 58,'mugla': 59,'mus': 60,'nevsehir': 61,'nigde': 62,\n",
    "    'ordu': 63,'osmaniye': 64,'rize': 65,'sakarya': 66,'samsun': 67,'siirt': 68,'sinop': 69,'sivas': 70,'sanliurfa': 71,'sirnak': 72,\n",
    "    'tekirdag': 73,'tokat': 74,'trabzon': 75, 'tunceli': 76,'usak': 77,'van': 78,'yalova': 79,'yozgat': 80,'zonguldak': 81,'kktc':82,'yurtdisi':83\n",
    "}\n"
   ]
  },
  {
   "cell_type": "code",
   "execution_count": 2538,
   "metadata": {},
   "outputs": [],
   "source": [
    "city_map = {'istanbul':1,'ankara':2,'izmir':3}"
   ]
  },
  {
   "cell_type": "code",
   "execution_count": 2539,
   "metadata": {},
   "outputs": [],
   "source": [
    "train_df[\"Ikametgah Sehri\"]  = train_df[\"Ikametgah Sehri\"].map(sehirler_mapping)\n",
    "test_df[\"Ikametgah Sehri\"]  = test_df[\"Ikametgah Sehri\"].map(sehirler_mapping)\n",
    "\n",
    "\n",
    "train_df['Lise Sehir'] = train_df['Lise Sehir'].str.lower().map(city_map).fillna(0)\n",
    "test_df['Lise Sehir'] = test_df['Lise Sehir'].str.lower().map(city_map).fillna(0)"
   ]
  },
  {
   "cell_type": "code",
   "execution_count": 2540,
   "metadata": {},
   "outputs": [],
   "source": [
    "train_df=train_df[train_df[\"Ikametgah Sehri\"].notna()]\n",
    "train_df=train_df[train_df[\"Lise Sehir\"].notna()]\n",
    "# test_df=test_df[test_df[\"Ikametgah Sehri\"].notna()]"
   ]
  },
  {
   "cell_type": "code",
   "execution_count": 2541,
   "metadata": {},
   "outputs": [],
   "source": [
    "train_df=train_df.drop(\"Dogum Yeri\",axis=1)\n",
    "test_df=test_df.drop(\"Dogum Yeri\",axis=1)"
   ]
  },
  {
   "cell_type": "code",
   "execution_count": 2542,
   "metadata": {},
   "outputs": [],
   "source": [
    "from sklearn.preprocessing import LabelEncoder"
   ]
  },
  {
   "cell_type": "code",
   "execution_count": 2543,
   "metadata": {},
   "outputs": [],
   "source": [
    "le = LabelEncoder()\n",
    "train_df[\"Universite Adi\"] = le.fit_transform(train_df[\"Universite Adi\"])\n",
    "test_df[\"Universite Adi\"] = le.fit_transform(test_df[\"Universite Adi\"])"
   ]
  },
  {
   "cell_type": "code",
   "execution_count": 2544,
   "metadata": {},
   "outputs": [],
   "source": [
    "train_df[\"Bölüm\"] = le.fit_transform(train_df[\"Bölüm\"])\n",
    "train_df[\"Lise Adi\"] = le.fit_transform(train_df[\"Lise Adi\"])\n",
    "\n",
    "test_df[\"Bölüm\"] = le.fit_transform(test_df[\"Bölüm\"])\n",
    "test_df[\"Lise Adi\"] = le.fit_transform(test_df[\"Lise Adi\"])"
   ]
  },
  {
   "cell_type": "code",
   "execution_count": 2545,
   "metadata": {},
   "outputs": [],
   "source": [
    "kardes_mapping = {\n",
    "                '0':0,'0.0':0,0:0,\n",
    "                '1.0':1,1:1,'1':1,\n",
    "                '2.0':2,'2':2,2:2,\n",
    "                '3.0':3,'3':3,3:3,\n",
    "                '4.0':4,'4':4,4:4,\n",
    "                '5.0':5,'5':5,5:5,\n",
    "                '6.0':6,'6':6,6:6,\n",
    "                '7.0':7,'7':7,7:7,\n",
    "                '8.0':8,'8':8,8:8,\n",
    "                '9.0':9,'9':9,9:9,\n",
    "                '10.0':10,'10':10,10:10,\n",
    "                '11.0':11,'11':11,11:11,\n",
    "                '12.0':12,'12':12,12:12,\n",
    "                '13.0':13,'13':13,13:13,\n",
    "                '14.0':14,'14':14,14:14}\n",
    "\n",
    "train_df[\"Kardes Sayisi\"] = train_df[\"Kardes Sayisi\"].map(kardes_mapping)\n",
    "test_df[\"Kardes Sayisi\"] = test_df[\"Kardes Sayisi\"].map(kardes_mapping)\n"
   ]
  },
  {
   "cell_type": "code",
   "execution_count": 2546,
   "metadata": {},
   "outputs": [],
   "source": [
    "\n",
    "# enson buraya kadar geldim"
   ]
  },
  {
   "cell_type": "code",
   "execution_count": 2547,
   "metadata": {},
   "outputs": [],
   "source": [
    "train_df = train_df.drop(\"Hangi STK'nin Uyesisiniz?\",axis=1)\n",
    "train_df = train_df.drop('Basvuru Yili',axis=1)\n",
    "\n",
    "test_df = test_df.drop(\"Hangi STK'nin Uyesisiniz?\",axis=1)\n",
    "test_df = test_df.drop('Basvuru Yili',axis=1)\n"
   ]
  },
  {
   "cell_type": "code",
   "execution_count": null,
   "metadata": {},
   "outputs": [],
   "source": []
  },
  {
   "cell_type": "code",
   "execution_count": 2548,
   "metadata": {},
   "outputs": [],
   "source": [
    "lise_bolum_mapping={'Sayısal':0,'Eşit Ağırlık':1,'Dil':2,'Sözel':3}\n",
    "train_df[\"Lise Bolumu\"] = train_df[\"Lise Bolumu\"].map(lise_bolum_mapping)\n",
    "test_df[\"Lise Bolumu\"] = test_df[\"Lise Bolumu\"].map(lise_bolum_mapping)\n"
   ]
  },
  {
   "cell_type": "code",
   "execution_count": 2549,
   "metadata": {},
   "outputs": [],
   "source": [
    "train_df=train_df[train_df[\"Lise Bolumu\"].notna()] "
   ]
  },
  {
   "cell_type": "code",
   "execution_count": 2550,
   "metadata": {},
   "outputs": [],
   "source": [
    "train_df = train_df.drop(\"Spor Dalindaki Rolunuz Nedir?\",axis=1)\n",
    "test_df = test_df.drop(\"Spor Dalindaki Rolunuz Nedir?\",axis=1)"
   ]
  },
  {
   "cell_type": "code",
   "execution_count": 2551,
   "metadata": {},
   "outputs": [],
   "source": [
    "y_train = train_df['Degerlendirme Puani']\n",
    "X_train = train_df.drop('Degerlendirme Puani',axis=1)\n",
    "X_test = test_df\n",
    "y_pred= ['Degerlendirme Puani']"
   ]
  },
  {
   "cell_type": "code",
   "execution_count": 2554,
   "metadata": {},
   "outputs": [
    {
     "name": "stdout",
     "output_type": "stream",
     "text": [
      "[LightGBM] [Warning] Found whitespace in feature_names, replace with underlines\n",
      "[LightGBM] [Info] Auto-choosing row-wise multi-threading, the overhead of testing was 0,005437 seconds.\n",
      "You can set `force_row_wise=true` to remove the overhead.\n",
      "And if memory is not enough, you can set `force_col_wise=true`.\n",
      "[LightGBM] [Info] Total Bins 1177\n",
      "[LightGBM] [Info] Number of data points in the train set: 49933, number of used features: 24\n",
      "[LightGBM] [Info] Start training from score 28,859872\n",
      "[LightGBM] [Warning] No further splits with positive gain, best gain: -inf\n",
      "[LightGBM] [Warning] No further splits with positive gain, best gain: -inf\n",
      "[LightGBM] [Warning] No further splits with positive gain, best gain: -inf\n",
      "[LightGBM] [Warning] No further splits with positive gain, best gain: -inf\n",
      "[LightGBM] [Warning] No further splits with positive gain, best gain: -inf\n"
     ]
    }
   ],
   "source": [
    "from lightgbm import LGBMRegressor\n",
    "lgbm=LGBMRegressor(num_leaves=61,max_depth=5,n_estimators=500) \n",
    "lgbm.fit(X_train,y_train)\n",
    "y_pred=lgbm.predict(X_test)\n",
    "\n"
   ]
  },
  {
   "cell_type": "code",
   "execution_count": 2555,
   "metadata": {},
   "outputs": [],
   "source": [
    "id=X_test['id']\n",
    "y_pred_s=pd.Series(y_pred,name='Degerlendirme Puani')\n",
    "submission_csv=pd.concat([id,y_pred_s],axis=1)"
   ]
  },
  {
   "cell_type": "code",
   "execution_count": null,
   "metadata": {},
   "outputs": [],
   "source": []
  }
 ],
 "metadata": {
  "kernelspec": {
   "display_name": "Python 3",
   "language": "python",
   "name": "python3"
  },
  "language_info": {
   "codemirror_mode": {
    "name": "ipython",
    "version": 3
   },
   "file_extension": ".py",
   "mimetype": "text/x-python",
   "name": "python",
   "nbconvert_exporter": "python",
   "pygments_lexer": "ipython3",
   "version": "3.11.7"
  }
 },
 "nbformat": 4,
 "nbformat_minor": 2
}
