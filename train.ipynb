{
 "cells": [
  {
   "cell_type": "code",
   "execution_count": 60,
   "metadata": {},
   "outputs": [],
   "source": [
    "import numpy as np\n",
    "import pandas as pd\n",
    "import seaborn as sns\n",
    "import matplotlib.pyplot as plt"
   ]
  },
  {
   "cell_type": "code",
   "execution_count": 61,
   "metadata": {},
   "outputs": [
    {
     "name": "stderr",
     "output_type": "stream",
     "text": [
      "C:\\Users\\erena\\AppData\\Local\\Temp\\ipykernel_12672\\2436019669.py:1: DtypeWarning: Columns (13,15,19,30,32,37,41,42) have mixed types. Specify dtype option on import or set low_memory=False.\n",
      "  df = pd.read_csv('train.csv')\n"
     ]
    }
   ],
   "source": [
    "df = pd.read_csv('train.csv')"
   ]
  },
  {
   "cell_type": "code",
   "execution_count": 62,
   "metadata": {},
   "outputs": [],
   "source": [
    "df = df[df['Cinsiyet'].notna() & (df['Cinsiyet'] != '')]"
   ]
  },
  {
   "cell_type": "code",
   "execution_count": 63,
   "metadata": {},
   "outputs": [
    {
     "data": {
      "text/plain": [
       "array(['Hayır', 'Evet', nan], dtype=object)"
      ]
     },
     "execution_count": 63,
     "metadata": {},
     "output_type": "execute_result"
    }
   ],
   "source": [
    "unique_val = df['Baska Bir Kurumdan Burs Aliyor mu?'].unique()\n",
    "unique_val"
   ]
  },
  {
   "cell_type": "code",
   "execution_count": 64,
   "metadata": {},
   "outputs": [],
   "source": [
    "df.loc[df['Baska Bir Kurumdan Burs Aliyor mu?'] == 'Hayır', 'Burs Aldigi Baska Kurum'] = 0"
   ]
  },
  {
   "cell_type": "code",
   "execution_count": 65,
   "metadata": {},
   "outputs": [],
   "source": [
    "df.loc[df['Baska Bir Kurumdan Burs Aliyor mu?'].isnull(), 'Burs Aldigi Baska Kurum'] = 0"
   ]
  },
  {
   "cell_type": "code",
   "execution_count": 66,
   "metadata": {},
   "outputs": [
    {
     "data": {
      "text/html": [
       "<div>\n",
       "<style scoped>\n",
       "    .dataframe tbody tr th:only-of-type {\n",
       "        vertical-align: middle;\n",
       "    }\n",
       "\n",
       "    .dataframe tbody tr th {\n",
       "        vertical-align: top;\n",
       "    }\n",
       "\n",
       "    .dataframe thead th {\n",
       "        text-align: right;\n",
       "    }\n",
       "</style>\n",
       "<table border=\"1\" class=\"dataframe\">\n",
       "  <thead>\n",
       "    <tr style=\"text-align: right;\">\n",
       "      <th></th>\n",
       "      <th>Basvuru Yili</th>\n",
       "      <th>Degerlendirme Puani</th>\n",
       "      <th>Burslu ise Burs Yuzdesi</th>\n",
       "      <th>id</th>\n",
       "    </tr>\n",
       "  </thead>\n",
       "  <tbody>\n",
       "    <tr>\n",
       "      <th>count</th>\n",
       "      <td>64956.000000</td>\n",
       "      <td>64955.000000</td>\n",
       "      <td>22404.000000</td>\n",
       "      <td>64956.000000</td>\n",
       "    </tr>\n",
       "    <tr>\n",
       "      <th>mean</th>\n",
       "      <td>2018.272461</td>\n",
       "      <td>32.112539</td>\n",
       "      <td>34.202910</td>\n",
       "      <td>32545.815752</td>\n",
       "    </tr>\n",
       "    <tr>\n",
       "      <th>std</th>\n",
       "      <td>2.671200</td>\n",
       "      <td>18.144754</td>\n",
       "      <td>41.639146</td>\n",
       "      <td>18802.364670</td>\n",
       "    </tr>\n",
       "    <tr>\n",
       "      <th>min</th>\n",
       "      <td>2014.000000</td>\n",
       "      <td>0.000000</td>\n",
       "      <td>0.000000</td>\n",
       "      <td>0.000000</td>\n",
       "    </tr>\n",
       "    <tr>\n",
       "      <th>25%</th>\n",
       "      <td>2016.000000</td>\n",
       "      <td>18.000000</td>\n",
       "      <td>0.000000</td>\n",
       "      <td>16272.750000</td>\n",
       "    </tr>\n",
       "    <tr>\n",
       "      <th>50%</th>\n",
       "      <td>2019.000000</td>\n",
       "      <td>29.000000</td>\n",
       "      <td>0.000000</td>\n",
       "      <td>32520.500000</td>\n",
       "    </tr>\n",
       "    <tr>\n",
       "      <th>75%</th>\n",
       "      <td>2021.000000</td>\n",
       "      <td>44.000000</td>\n",
       "      <td>75.000000</td>\n",
       "      <td>48835.250000</td>\n",
       "    </tr>\n",
       "    <tr>\n",
       "      <th>max</th>\n",
       "      <td>2022.000000</td>\n",
       "      <td>102.000000</td>\n",
       "      <td>100.000000</td>\n",
       "      <td>65124.000000</td>\n",
       "    </tr>\n",
       "  </tbody>\n",
       "</table>\n",
       "</div>"
      ],
      "text/plain": [
       "       Basvuru Yili  Degerlendirme Puani  Burslu ise Burs Yuzdesi  \\\n",
       "count  64956.000000         64955.000000             22404.000000   \n",
       "mean    2018.272461            32.112539                34.202910   \n",
       "std        2.671200            18.144754                41.639146   \n",
       "min     2014.000000             0.000000                 0.000000   \n",
       "25%     2016.000000            18.000000                 0.000000   \n",
       "50%     2019.000000            29.000000                 0.000000   \n",
       "75%     2021.000000            44.000000                75.000000   \n",
       "max     2022.000000           102.000000               100.000000   \n",
       "\n",
       "                 id  \n",
       "count  64956.000000  \n",
       "mean   32545.815752  \n",
       "std    18802.364670  \n",
       "min        0.000000  \n",
       "25%    16272.750000  \n",
       "50%    32520.500000  \n",
       "75%    48835.250000  \n",
       "max    65124.000000  "
      ]
     },
     "execution_count": 66,
     "metadata": {},
     "output_type": "execute_result"
    }
   ],
   "source": [
    "df.describe()"
   ]
  },
  {
   "cell_type": "code",
   "execution_count": 67,
   "metadata": {},
   "outputs": [],
   "source": [
    "df = df[df['Degerlendirme Puani'].notna() & (df['Degerlendirme Puani'] != '')]"
   ]
  },
  {
   "cell_type": "code",
   "execution_count": 68,
   "metadata": {},
   "outputs": [],
   "source": [
    "df = df[df['Dogum Tarihi'].notna() & (df['Dogum Tarihi'] != '')]"
   ]
  },
  {
   "cell_type": "code",
   "execution_count": 69,
   "metadata": {},
   "outputs": [],
   "source": [
    "df = df[df['Dogum Yeri'].notna() & (df['Dogum Yeri'] != '')]"
   ]
  },
  {
   "cell_type": "code",
   "execution_count": 70,
   "metadata": {},
   "outputs": [],
   "source": [
    "df = df[df['Ikametgah Sehri'].notna() & (df['Ikametgah Sehri'] != '')]"
   ]
  },
  {
   "cell_type": "code",
   "execution_count": 71,
   "metadata": {},
   "outputs": [],
   "source": [
    "df['Lise Bolum Diger'] = df['Lise Bolum Diger'].fillna(0)\n"
   ]
  },
  {
   "cell_type": "code",
   "execution_count": 72,
   "metadata": {},
   "outputs": [],
   "source": [
    "df = df[df['Universite Kacinci Sinif'].notna() & (df['Universite Kacinci Sinif'] != '')]"
   ]
  },
  {
   "cell_type": "code",
   "execution_count": 73,
   "metadata": {},
   "outputs": [],
   "source": [
    "df = df[df['Universite Adi'].notna() & (df['Universite Adi'] != '')]"
   ]
  },
  {
   "cell_type": "code",
   "execution_count": 74,
   "metadata": {},
   "outputs": [],
   "source": [
    "df = df[df['Bölüm'].notna() & (df['Bölüm'] != '')]"
   ]
  },
  {
   "cell_type": "code",
   "execution_count": 75,
   "metadata": {},
   "outputs": [],
   "source": [
    "df.loc[(df['Universite Kacinci Sinif'] == '1') & (df['Universite Not Ortalamasi'].isnull()), 'Universite Not Ortalamasi'] = 0"
   ]
  },
  {
   "cell_type": "code",
   "execution_count": 76,
   "metadata": {},
   "outputs": [],
   "source": [
    "df.loc[(df['Universite Kacinci Sinif'] == 'Hazırlık') & (df['Universite Not Ortalamasi'].isnull()), 'Universite Not Ortalamasi'] = 0"
   ]
  },
  {
   "cell_type": "code",
   "execution_count": 77,
   "metadata": {},
   "outputs": [],
   "source": [
    "df = df[df['Universite Not Ortalamasi'].notna() & (df['Universite Not Ortalamasi'] != '')]"
   ]
  },
  {
   "cell_type": "code",
   "execution_count": 78,
   "metadata": {},
   "outputs": [],
   "source": [
    "df['Daha Once Baska Bir Universiteden Mezun Olmus'] = df['Daha Once Baska Bir Universiteden Mezun Olmus'].fillna('Hayır')"
   ]
  },
  {
   "cell_type": "code",
   "execution_count": 79,
   "metadata": {},
   "outputs": [],
   "source": [
    "df = df[df['Lise Adi'].notna() & (df['Lise Adi'] != '')]"
   ]
  },
  {
   "cell_type": "code",
   "execution_count": 80,
   "metadata": {},
   "outputs": [
    {
     "data": {
      "text/plain": [
       "array(['0', 'Kamu', 'Özel Sektör', 'Diğer', nan, 'KAMU', 'ÖZEL SEKTÖR',\n",
       "       'DİĞER', '-'], dtype=object)"
      ]
     },
     "execution_count": 80,
     "metadata": {},
     "output_type": "execute_result"
    }
   ],
   "source": [
    "unique_val = df['Anne Sektor'].unique()\n",
    "unique_val"
   ]
  },
  {
   "cell_type": "code",
   "execution_count": 81,
   "metadata": {},
   "outputs": [],
   "source": [
    "df.loc[df['Anne Calisma Durumu'] == 'Hayır', 'Anne Sektor'] = 0"
   ]
  },
  {
   "cell_type": "code",
   "execution_count": 82,
   "metadata": {},
   "outputs": [],
   "source": [
    "df.loc[df['Anne Calisma Durumu'] == 'Emekli', 'Anne Sektor'] = 0"
   ]
  },
  {
   "cell_type": "code",
   "execution_count": 83,
   "metadata": {},
   "outputs": [],
   "source": [
    "df['Daha Once Baska Bir Universiteden Mezun Olmus'] = df['Daha Once Baska Bir Universiteden Mezun Olmus'].fillna('Hayır')"
   ]
  },
  {
   "cell_type": "code",
   "execution_count": 84,
   "metadata": {},
   "outputs": [],
   "source": [
    "df['Girisimcilik Kulupleri Tarzi Bir Kulube Uye misiniz?'] = df['Girisimcilik Kulupleri Tarzi Bir Kulube Uye misiniz?'].fillna('Hayır')"
   ]
  },
  {
   "cell_type": "code",
   "execution_count": 85,
   "metadata": {},
   "outputs": [],
   "source": [
    "df.loc[df['Ingilizce Biliyor musunuz?'].isnull(), ['Ingilizce Biliyor musunuz?', 'Ingilizce Seviyeniz?']] = 'Yok'"
   ]
  },
  {
   "cell_type": "code",
   "execution_count": 86,
   "metadata": {},
   "outputs": [],
   "source": [
    "df.loc[df['Ingilizce Biliyor musunuz?'] == 'Evet', ['Ingilizce Seviyeniz?']] = 'Baslangic'"
   ]
  },
  {
   "cell_type": "code",
   "execution_count": 87,
   "metadata": {},
   "outputs": [],
   "source": [
    "df.loc[df['Ingilizce Biliyor musunuz?'] == 'Hayır', ['Ingilizce Seviyeniz?']] = 'Yok'"
   ]
  },
  {
   "cell_type": "code",
   "execution_count": 88,
   "metadata": {},
   "outputs": [],
   "source": [
    "df.loc[df['Girisimcilikle Ilgili Deneyiminiz Var Mi?'] == 'Hayır', ['Girisimcilikle Ilgili Deneyiminizi Aciklayabilir misiniz?']] = 'Yok'"
   ]
  },
  {
   "cell_type": "code",
   "execution_count": 89,
   "metadata": {},
   "outputs": [],
   "source": [
    "df.loc[df['Girisimcilikle Ilgili Deneyiminiz Var Mi?'].isnull(), ['Girisimcilikle Ilgili Deneyiminiz Var Mi?','Girisimcilikle Ilgili Deneyiminizi Aciklayabilir misiniz?']] = 'Yok'"
   ]
  },
  {
   "cell_type": "code",
   "execution_count": 90,
   "metadata": {},
   "outputs": [],
   "source": [
    "df.loc[(df['Girisimcilikle Ilgili Deneyiminiz Var Mi?'] == 'Evet') & \n",
    "       (df['Girisimcilikle Ilgili Deneyiminizi Aciklayabilir misiniz?'].isnull()), \n",
    "       'Girisimcilikle Ilgili Deneyiminizi Aciklayabilir misiniz?'] = 'Yok'"
   ]
  },
  {
   "cell_type": "code",
   "execution_count": 91,
   "metadata": {},
   "outputs": [],
   "source": [
    "df.loc[df['Profesyonel Bir Spor Daliyla Mesgul musunuz?'].isnull(), ['Profesyonel Bir Spor Daliyla Mesgul musunuz?','Spor Dalindaki Rolunuz Nedir?']] = 'Yok'"
   ]
  },
  {
   "cell_type": "code",
   "execution_count": 92,
   "metadata": {},
   "outputs": [],
   "source": [
    "df.loc[df['Profesyonel Bir Spor Daliyla Mesgul musunuz?'] == 'Hayır', ['Spor Dalindaki Rolunuz Nedir?']] = 'Yok'"
   ]
  },
  {
   "cell_type": "code",
   "execution_count": 93,
   "metadata": {},
   "outputs": [],
   "source": [
    "df.loc[df['Daha Önceden Mezun Olunduysa, Mezun Olunan Üniversite'].isnull(), ['Daha Önceden Mezun Olunduysa, Mezun Olunan Üniversite']] = 'Yok'"
   ]
  },
  {
   "cell_type": "code",
   "execution_count": 94,
   "metadata": {},
   "outputs": [],
   "source": [
    "df = df[df['Lise Mezuniyet Notu'].notna() & (df['Lise Mezuniyet Notu'] != '')]"
   ]
  },
  {
   "cell_type": "code",
   "execution_count": 95,
   "metadata": {},
   "outputs": [],
   "source": [
    "df.loc[df['Universite Adi'] == ('MARMARA ÜNİVERSİTESİ'), ['Universite Turu']] = 'Devlet'\n",
    "df.loc[df['Universite Adi'] == ('HACETTEPE ÜNİVERSİTESİ'), ['Universite Turu']] = 'Devlet'\n",
    "df.loc[df['Universite Adi'] == ('BEYKENT ÜNİVERSİTESİ'), ['Universite Turu']] = 'Özel'\n",
    "df.loc[df['Universite Adi'] == ('VAN YÜZÜNCÜ YIL ÜNİVERSİTESİ'), ['Universite Turu']] = 'Devlet'"
   ]
  },
  {
   "cell_type": "code",
   "execution_count": 96,
   "metadata": {},
   "outputs": [],
   "source": [
    "df.loc[df['Universite Turu'] == 'DEVLET', ['Burslu ise Burs Yuzdesi']]= 100.0"
   ]
  },
  {
   "cell_type": "code",
   "execution_count": 97,
   "metadata": {},
   "outputs": [],
   "source": [
    "df.loc[df['Universite Turu'] == 'Devlet', ['Burslu ise Burs Yuzdesi']]= 100.0\n"
   ]
  },
  {
   "cell_type": "code",
   "execution_count": 98,
   "metadata": {},
   "outputs": [],
   "source": [
    "df.loc[(df['Aktif olarak bir STK üyesi misiniz?'].isnull()) & \n",
    "       (df['Hangi STK\\'nin Uyesisiniz?']=='Yok'), \n",
    "       'Aktif olarak bir STK üyesi misiniz?'] = 'Hayır'"
   ]
  },
  {
   "cell_type": "code",
   "execution_count": 99,
   "metadata": {},
   "outputs": [],
   "source": [
    "df=df.drop(\"Hangi STK'nin Uyesisiniz?\", axis=1)"
   ]
  },
  {
   "cell_type": "code",
   "execution_count": 100,
   "metadata": {},
   "outputs": [],
   "source": [
    "df.loc[df['Stk Projesine Katildiniz Mi?'].isnull(), ['Stk Projesine Katildiniz Mi?']]='Hayır'"
   ]
  },
  {
   "cell_type": "code",
   "execution_count": 101,
   "metadata": {},
   "outputs": [],
   "source": [
    "df.loc[df['Baska Bir Kurumdan Burs Aliyor mu?'].isnull(), ['Baska Bir Kurumdan Burs Aliyor mu?']]='Hayır'"
   ]
  },
  {
   "cell_type": "code",
   "execution_count": 102,
   "metadata": {},
   "outputs": [
    {
     "name": "stdout",
     "output_type": "stream",
     "text": [
      "ŞENOL GÜNEŞ\n"
     ]
    }
   ],
   "source": [
    "print(\"ŞENOL GÜNEŞ\")"
   ]
  },
  {
   "cell_type": "code",
   "execution_count": 103,
   "metadata": {},
   "outputs": [
    {
     "name": "stdout",
     "output_type": "stream",
     "text": [
      "Ricardo Quaresma\n"
     ]
    }
   ],
   "source": [
    "print(\"Ricardo Quaresma\")"
   ]
  },
  {
   "cell_type": "code",
   "execution_count": 104,
   "metadata": {},
   "outputs": [],
   "source": [
    "df=df.drop(\"Lise Adi Diger\", axis=1)"
   ]
  },
  {
   "cell_type": "code",
   "execution_count": 105,
   "metadata": {},
   "outputs": [],
   "source": [
    "from unidecode import unidecode\n",
    "df[\"Lise Turu\"]=df[\"Lise Turu\"].str.lower()"
   ]
  },
  {
   "cell_type": "code",
   "execution_count": 106,
   "metadata": {},
   "outputs": [],
   "source": [
    "city_map = {\n",
    "    'istanbul': 3,\n",
    "    'ankara': 2,\n",
    "    'izmir': 1\n",
    "}\n",
    "\n",
    "# Şehir değişkenini küçük harfe çevirip haritaya göre atama yapıyoruz, diğerlerini 0 yapıyoruz\n",
    "df['Lise Sehir'] = df['Lise Sehir'].str.lower().map(city_map).fillna(0)"
   ]
  },
  {
   "cell_type": "code",
   "execution_count": 107,
   "metadata": {},
   "outputs": [],
   "source": [
    "df=df.drop(\"Lise Bolum Diger\", axis=1)"
   ]
  },
  {
   "cell_type": "code",
   "execution_count": 108,
   "metadata": {},
   "outputs": [],
   "source": [
    "evet_hayir_emekli={'Evet':1,'Hayır':0,'Emekli':0}\n",
    "df['Anne Calisma Durumu'] = df['Anne Calisma Durumu'].map(evet_hayir_emekli).fillna(0)"
   ]
  },
  {
   "cell_type": "code",
   "execution_count": 109,
   "metadata": {},
   "outputs": [],
   "source": [
    "df=df.drop('Anne Sektor',axis=1)\n",
    "df=df.drop('Anne Egitim Durumu',axis=1)"
   ]
  },
  {
   "cell_type": "code",
   "execution_count": 110,
   "metadata": {},
   "outputs": [],
   "source": [
    "df=df.drop('Baba Sektor',axis=1)\n",
    "df=df.drop('Baba Egitim Durumu',axis=1)\n",
    "df['Baba Calisma Durumu'] = df['Baba Calisma Durumu'].map(evet_hayir_emekli).fillna(0)"
   ]
  },
  {
   "cell_type": "code",
   "execution_count": 111,
   "metadata": {},
   "outputs": [],
   "source": [
    "df[\"Kardes Sayisi\"]=df[\"Kardes Sayisi\"].fillna(0)"
   ]
  },
  {
   "cell_type": "code",
   "execution_count": 112,
   "metadata": {},
   "outputs": [],
   "source": [
    "df=df.drop(\"Uye Oldugunuz Kulubun Ismi\",axis=1)"
   ]
  },
  {
   "cell_type": "code",
   "execution_count": 113,
   "metadata": {},
   "outputs": [],
   "source": [
    "evet_hayir={'Evet':1,'Hayır':0}\n",
    "df['Profesyonel Bir Spor Daliyla Mesgul musunuz?'] = df['Profesyonel Bir Spor Daliyla Mesgul musunuz?'].map(evet_hayir).fillna(0)"
   ]
  },
  {
   "cell_type": "code",
   "execution_count": 115,
   "metadata": {},
   "outputs": [],
   "source": [
    "df[\"Aktif olarak bir STK üyesi misiniz?\"]=df[\"Aktif olarak bir STK üyesi misiniz?\"].map(evet_hayir).fillna(0)"
   ]
  },
  {
   "cell_type": "code",
   "execution_count": null,
   "metadata": {},
   "outputs": [],
   "source": [
    "df[\"Stk Projesine Katildiniz Mi?\"]=df[\"Stk Projesine Katildiniz Mi?\"].map(evet_hayir)\n",
    "df[\"Girisimcilikle Ilgili Deneyiminiz Var Mi?\"]=df[\"Girisimcilikle Ilgili Deneyiminiz Var Mi?\"].map(evet_hayir)"
   ]
  }
 ],
 "metadata": {
  "kernelspec": {
   "display_name": "Python 3",
   "language": "python",
   "name": "python3"
  },
  "language_info": {
   "codemirror_mode": {
    "name": "ipython",
    "version": 3
   },
   "file_extension": ".py",
   "mimetype": "text/x-python",
   "name": "python",
   "nbconvert_exporter": "python",
   "pygments_lexer": "ipython3",
   "version": "3.11.7"
  }
 },
 "nbformat": 4,
 "nbformat_minor": 2
}
