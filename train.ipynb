{
 "cells": [
  {
   "cell_type": "code",
   "execution_count": 3002,
   "metadata": {},
   "outputs": [],
   "source": [
    "import numpy as np\n",
    "import pandas as pd\n",
    "import seaborn as sns\n",
    "import matplotlib.pyplot as plt"
   ]
  },
  {
   "cell_type": "code",
   "execution_count": 3003,
   "metadata": {},
   "outputs": [
    {
     "name": "stderr",
     "output_type": "stream",
     "text": [
      "C:\\Users\\erena\\AppData\\Local\\Temp\\ipykernel_17104\\2436019669.py:1: DtypeWarning: Columns (13,15,19,30,32,37,41,42) have mixed types. Specify dtype option on import or set low_memory=False.\n",
      "  df = pd.read_csv('train.csv')\n"
     ]
    }
   ],
   "source": [
    "train_df = pd.read_csv('train.csv')"
   ]
  },
  {
   "cell_type": "code",
   "execution_count": 3004,
   "metadata": {},
   "outputs": [],
   "source": [
    "train_df = train_df[train_df['Cinsiyet'].notna() & (train_df['Cinsiyet'] != '')]"
   ]
  },
  {
   "cell_type": "code",
   "execution_count": 3005,
   "metadata": {},
   "outputs": [
    {
     "data": {
      "text/plain": [
       "array(['Hayır', 'Evet', nan], dtype=object)"
      ]
     },
     "execution_count": 3005,
     "metadata": {},
     "output_type": "execute_result"
    }
   ],
   "source": [
    "unique_val = train_df['Baska Bir Kurumdan Burs Aliyor mu?'].unique()\n",
    "unique_val"
   ]
  },
  {
   "cell_type": "code",
   "execution_count": 3006,
   "metadata": {},
   "outputs": [],
   "source": [
    "train_df.loc[train_df['Baska Bir Kurumdan Burs Aliyor mu?'] == 'Hayır', 'Burs Aldigi Baska Kurum'] = 0"
   ]
  },
  {
   "cell_type": "code",
   "execution_count": 3007,
   "metadata": {},
   "outputs": [],
   "source": [
    "train_df.loc[train_df['Baska Bir Kurumdan Burs Aliyor mu?'].isnull(), 'Burs Aldigi Baska Kurum'] = 0"
   ]
  },
  {
   "cell_type": "code",
   "execution_count": 3008,
   "metadata": {},
   "outputs": [
    {
     "data": {
      "text/html": [
       "<div>\n",
       "<style scoped>\n",
       "    .dataframe tbody tr th:only-of-type {\n",
       "        vertical-align: middle;\n",
       "    }\n",
       "\n",
       "    .dataframe tbody tr th {\n",
       "        vertical-align: top;\n",
       "    }\n",
       "\n",
       "    .dataframe thead th {\n",
       "        text-align: right;\n",
       "    }\n",
       "</style>\n",
       "<table border=\"1\" class=\"dataframe\">\n",
       "  <thead>\n",
       "    <tr style=\"text-align: right;\">\n",
       "      <th></th>\n",
       "      <th>Basvuru Yili</th>\n",
       "      <th>Degerlendirme Puani</th>\n",
       "      <th>Burslu ise Burs Yuzdesi</th>\n",
       "      <th>id</th>\n",
       "    </tr>\n",
       "  </thead>\n",
       "  <tbody>\n",
       "    <tr>\n",
       "      <th>count</th>\n",
       "      <td>64956.000000</td>\n",
       "      <td>64955.000000</td>\n",
       "      <td>22404.000000</td>\n",
       "      <td>64956.000000</td>\n",
       "    </tr>\n",
       "    <tr>\n",
       "      <th>mean</th>\n",
       "      <td>2018.272461</td>\n",
       "      <td>32.112539</td>\n",
       "      <td>34.202910</td>\n",
       "      <td>32545.815752</td>\n",
       "    </tr>\n",
       "    <tr>\n",
       "      <th>std</th>\n",
       "      <td>2.671200</td>\n",
       "      <td>18.144754</td>\n",
       "      <td>41.639146</td>\n",
       "      <td>18802.364670</td>\n",
       "    </tr>\n",
       "    <tr>\n",
       "      <th>min</th>\n",
       "      <td>2014.000000</td>\n",
       "      <td>0.000000</td>\n",
       "      <td>0.000000</td>\n",
       "      <td>0.000000</td>\n",
       "    </tr>\n",
       "    <tr>\n",
       "      <th>25%</th>\n",
       "      <td>2016.000000</td>\n",
       "      <td>18.000000</td>\n",
       "      <td>0.000000</td>\n",
       "      <td>16272.750000</td>\n",
       "    </tr>\n",
       "    <tr>\n",
       "      <th>50%</th>\n",
       "      <td>2019.000000</td>\n",
       "      <td>29.000000</td>\n",
       "      <td>0.000000</td>\n",
       "      <td>32520.500000</td>\n",
       "    </tr>\n",
       "    <tr>\n",
       "      <th>75%</th>\n",
       "      <td>2021.000000</td>\n",
       "      <td>44.000000</td>\n",
       "      <td>75.000000</td>\n",
       "      <td>48835.250000</td>\n",
       "    </tr>\n",
       "    <tr>\n",
       "      <th>max</th>\n",
       "      <td>2022.000000</td>\n",
       "      <td>102.000000</td>\n",
       "      <td>100.000000</td>\n",
       "      <td>65124.000000</td>\n",
       "    </tr>\n",
       "  </tbody>\n",
       "</table>\n",
       "</div>"
      ],
      "text/plain": [
       "       Basvuru Yili  Degerlendirme Puani  Burslu ise Burs Yuzdesi  \\\n",
       "count  64956.000000         64955.000000             22404.000000   \n",
       "mean    2018.272461            32.112539                34.202910   \n",
       "std        2.671200            18.144754                41.639146   \n",
       "min     2014.000000             0.000000                 0.000000   \n",
       "25%     2016.000000            18.000000                 0.000000   \n",
       "50%     2019.000000            29.000000                 0.000000   \n",
       "75%     2021.000000            44.000000                75.000000   \n",
       "max     2022.000000           102.000000               100.000000   \n",
       "\n",
       "                 id  \n",
       "count  64956.000000  \n",
       "mean   32545.815752  \n",
       "std    18802.364670  \n",
       "min        0.000000  \n",
       "25%    16272.750000  \n",
       "50%    32520.500000  \n",
       "75%    48835.250000  \n",
       "max    65124.000000  "
      ]
     },
     "execution_count": 3008,
     "metadata": {},
     "output_type": "execute_result"
    }
   ],
   "source": [
    "train_df.describe()"
   ]
  },
  {
   "cell_type": "code",
   "execution_count": 3009,
   "metadata": {},
   "outputs": [],
   "source": [
    "train_df = train_df[train_df['Degerlendirme Puani'].notna() & (train_df['Degerlendirme Puani'] != '')]"
   ]
  },
  {
   "cell_type": "code",
   "execution_count": 3010,
   "metadata": {},
   "outputs": [],
   "source": [
    "train_df = train_df[train_df['Dogum Tarihi'].notna() & (train_df['Dogum Tarihi'] != '')]"
   ]
  },
  {
   "cell_type": "code",
   "execution_count": 3011,
   "metadata": {},
   "outputs": [],
   "source": [
    "train_df = train_df[train_df['Dogum Yeri'].notna() & (train_df['Dogum Yeri'] != '')]"
   ]
  },
  {
   "cell_type": "code",
   "execution_count": 3012,
   "metadata": {},
   "outputs": [],
   "source": [
    "train_df = train_df[train_df['Ikametgah Sehri'].notna() & (train_df['Ikametgah Sehri'] != '')]"
   ]
  },
  {
   "cell_type": "code",
   "execution_count": 3013,
   "metadata": {},
   "outputs": [],
   "source": [
    "train_df['Lise Bolum Diger'] = train_df['Lise Bolum Diger'].fillna(0)\n"
   ]
  },
  {
   "cell_type": "code",
   "execution_count": 3014,
   "metadata": {},
   "outputs": [],
   "source": [
    "train_df = train_df[train_df['Universite Kacinci Sinif'].notna() & (train_df['Universite Kacinci Sinif'] != '')]"
   ]
  },
  {
   "cell_type": "code",
   "execution_count": 3015,
   "metadata": {},
   "outputs": [],
   "source": [
    "train_df = train_df[train_df['Universite Adi'].notna() & (train_df['Universite Adi'] != '')]"
   ]
  },
  {
   "cell_type": "code",
   "execution_count": 3016,
   "metadata": {},
   "outputs": [],
   "source": [
    "train_df = train_df[train_df['Bölüm'].notna() & (train_df['Bölüm'] != '')]"
   ]
  },
  {
   "cell_type": "code",
   "execution_count": 3017,
   "metadata": {},
   "outputs": [],
   "source": [
    "train_df.loc[(train_df['Universite Kacinci Sinif'] == '1') & (train_df['Universite Not Ortalamasi'].isnull()), 'Universite Not Ortalamasi'] = 0"
   ]
  },
  {
   "cell_type": "code",
   "execution_count": 3018,
   "metadata": {},
   "outputs": [],
   "source": [
    "train_df.loc[(train_df['Universite Kacinci Sinif'] == 'Hazırlık') & (train_df['Universite Not Ortalamasi'].isnull()), 'Universite Not Ortalamasi'] = 0"
   ]
  },
  {
   "cell_type": "code",
   "execution_count": 3019,
   "metadata": {},
   "outputs": [],
   "source": [
    "train_df = train_df[train_df['Universite Not Ortalamasi'].notna() & (train_df['Universite Not Ortalamasi'] != '')]"
   ]
  },
  {
   "cell_type": "code",
   "execution_count": 3020,
   "metadata": {},
   "outputs": [],
   "source": [
    "train_df['Daha Once Baska Bir Universiteden Mezun Olmus'] = train_df['Daha Once Baska Bir Universiteden Mezun Olmus'].fillna('Hayır')"
   ]
  },
  {
   "cell_type": "code",
   "execution_count": 3021,
   "metadata": {},
   "outputs": [],
   "source": [
    "train_df = train_df[train_df['Lise Adi'].notna() & (train_df['Lise Adi'] != '')]"
   ]
  },
  {
   "cell_type": "code",
   "execution_count": 3022,
   "metadata": {},
   "outputs": [
    {
     "data": {
      "text/plain": [
       "array(['0', 'Kamu', 'Özel Sektör', 'Diğer', nan, 'KAMU', 'ÖZEL SEKTÖR',\n",
       "       'DİĞER', '-'], dtype=object)"
      ]
     },
     "execution_count": 3022,
     "metadata": {},
     "output_type": "execute_result"
    }
   ],
   "source": [
    "unique_val = train_df['Anne Sektor'].unique()\n",
    "unique_val"
   ]
  },
  {
   "cell_type": "code",
   "execution_count": 3023,
   "metadata": {},
   "outputs": [],
   "source": [
    "train_df.loc[train_df['Anne Calisma Durumu'] == 'Hayır', 'Anne Sektor'] = 0"
   ]
  },
  {
   "cell_type": "code",
   "execution_count": 3024,
   "metadata": {},
   "outputs": [],
   "source": [
    "train_df.loc[train_df['Anne Calisma Durumu'] == 'Emekli', 'Anne Sektor'] = 0"
   ]
  },
  {
   "cell_type": "code",
   "execution_count": 3025,
   "metadata": {},
   "outputs": [],
   "source": [
    "train_df['Daha Once Baska Bir Universiteden Mezun Olmus'] = train_df['Daha Once Baska Bir Universiteden Mezun Olmus'].fillna('Hayır')"
   ]
  },
  {
   "cell_type": "code",
   "execution_count": 3026,
   "metadata": {},
   "outputs": [],
   "source": [
    "train_df['Girisimcilik Kulupleri Tarzi Bir Kulube Uye misiniz?'] = train_df['Girisimcilik Kulupleri Tarzi Bir Kulube Uye misiniz?'].fillna('Hayır')"
   ]
  },
  {
   "cell_type": "code",
   "execution_count": 3027,
   "metadata": {},
   "outputs": [],
   "source": [
    "train_df.loc[train_df['Ingilizce Biliyor musunuz?'].isnull(), ['Ingilizce Biliyor musunuz?', 'Ingilizce Seviyeniz?']] = 'Yok'"
   ]
  },
  {
   "cell_type": "code",
   "execution_count": 3028,
   "metadata": {},
   "outputs": [],
   "source": [
    "train_df.loc[train_df['Ingilizce Biliyor musunuz?'] == 'Evet', ['Ingilizce Seviyeniz?']] = 'Baslangic'"
   ]
  },
  {
   "cell_type": "code",
   "execution_count": 3029,
   "metadata": {},
   "outputs": [],
   "source": [
    "train_df.loc[train_df['Ingilizce Biliyor musunuz?'] == 'Hayır', ['Ingilizce Seviyeniz?']] = 'Yok'"
   ]
  },
  {
   "cell_type": "code",
   "execution_count": 3030,
   "metadata": {},
   "outputs": [],
   "source": [
    "train_df.loc[train_df['Girisimcilikle Ilgili Deneyiminiz Var Mi?'] == 'Hayır', ['Girisimcilikle Ilgili Deneyiminizi Aciklayabilir misiniz?']] = 'Yok'"
   ]
  },
  {
   "cell_type": "code",
   "execution_count": 3031,
   "metadata": {},
   "outputs": [],
   "source": [
    "train_df.loc[train_df['Girisimcilikle Ilgili Deneyiminiz Var Mi?'].isnull(), ['Girisimcilikle Ilgili Deneyiminiz Var Mi?','Girisimcilikle Ilgili Deneyiminizi Aciklayabilir misiniz?']] = 'Yok'"
   ]
  },
  {
   "cell_type": "code",
   "execution_count": 3032,
   "metadata": {},
   "outputs": [],
   "source": [
    "train_df.loc[(train_df['Girisimcilikle Ilgili Deneyiminiz Var Mi?'] == 'Evet') & \n",
    "       (train_df['Girisimcilikle Ilgili Deneyiminizi Aciklayabilir misiniz?'].isnull()), \n",
    "       'Girisimcilikle Ilgili Deneyiminizi Aciklayabilir misiniz?'] = 'Yok'"
   ]
  },
  {
   "cell_type": "code",
   "execution_count": 3033,
   "metadata": {},
   "outputs": [],
   "source": [
    "train_df.loc[train_df['Profesyonel Bir Spor Daliyla Mesgul musunuz?'].isnull(), ['Profesyonel Bir Spor Daliyla Mesgul musunuz?','Spor Dalindaki Rolunuz Nedir?']] = 'Yok'"
   ]
  },
  {
   "cell_type": "code",
   "execution_count": 3034,
   "metadata": {},
   "outputs": [],
   "source": [
    "train_df.loc[train_df['Profesyonel Bir Spor Daliyla Mesgul musunuz?'] == 'Hayır', ['Spor Dalindaki Rolunuz Nedir?']] = 'Yok'"
   ]
  },
  {
   "cell_type": "code",
   "execution_count": 3035,
   "metadata": {},
   "outputs": [],
   "source": [
    "train_df.loc[train_df['Daha Önceden Mezun Olunduysa, Mezun Olunan Üniversite'].isnull(), ['Daha Önceden Mezun Olunduysa, Mezun Olunan Üniversite']] = 'Yok'"
   ]
  },
  {
   "cell_type": "code",
   "execution_count": 3036,
   "metadata": {},
   "outputs": [],
   "source": [
    "train_df = train_df[train_df['Lise Mezuniyet Notu'].notna() & (train_df['Lise Mezuniyet Notu'] != '')]"
   ]
  },
  {
   "cell_type": "code",
   "execution_count": 3037,
   "metadata": {},
   "outputs": [],
   "source": [
    "train_df.loc[train_df['Universite Adi'] == ('MARMARA ÜNİVERSİTESİ'), ['Universite Turu']] = 'Devlet'\n",
    "train_df.loc[train_df['Universite Adi'] == ('HACETTEPE ÜNİVERSİTESİ'), ['Universite Turu']] = 'Devlet'\n",
    "train_df.loc[train_df['Universite Adi'] == ('BEYKENT ÜNİVERSİTESİ'), ['Universite Turu']] = 'Özel'\n",
    "train_df.loc[train_df['Universite Adi'] == ('VAN YÜZÜNCÜ YIL ÜNİVERSİTESİ'), ['Universite Turu']] = 'Devlet'"
   ]
  },
  {
   "cell_type": "code",
   "execution_count": 3038,
   "metadata": {},
   "outputs": [],
   "source": [
    "train_df.loc[train_df['Universite Turu'] == 'DEVLET', ['Burslu ise Burs Yuzdesi']]= 100.0"
   ]
  },
  {
   "cell_type": "code",
   "execution_count": 3039,
   "metadata": {},
   "outputs": [],
   "source": [
    "train_df.loc[train_df['Universite Turu'] == 'Devlet', ['Burslu ise Burs Yuzdesi']]= 100.0\n"
   ]
  },
  {
   "cell_type": "code",
   "execution_count": 3040,
   "metadata": {},
   "outputs": [],
   "source": [
    "train_df.loc[(train_df['Aktif olarak bir STK üyesi misiniz?'].isnull()) & \n",
    "       (train_df['Hangi STK\\'nin Uyesisiniz?']=='Yok'), \n",
    "       'Aktif olarak bir STK üyesi misiniz?'] = 'Hayır'"
   ]
  },
  {
   "cell_type": "code",
   "execution_count": 3041,
   "metadata": {},
   "outputs": [],
   "source": [
    "train_df=train_df.drop(\"Hangi STK'nin Uyesisiniz?\", axis=1)"
   ]
  },
  {
   "cell_type": "code",
   "execution_count": 3042,
   "metadata": {},
   "outputs": [],
   "source": [
    "train_df.loc[train_df['Stk Projesine Katildiniz Mi?'].isnull(), ['Stk Projesine Katildiniz Mi?']]='Hayır'"
   ]
  },
  {
   "cell_type": "code",
   "execution_count": 3043,
   "metadata": {},
   "outputs": [],
   "source": [
    "train_df.loc[train_df['Baska Bir Kurumdan Burs Aliyor mu?'].isnull(), ['Baska Bir Kurumdan Burs Aliyor mu?']]='Hayır'"
   ]
  },
  {
   "cell_type": "code",
   "execution_count": 3044,
   "metadata": {},
   "outputs": [],
   "source": [
    "train_df=train_df.drop(\"Lise Adi Diger\", axis=1)"
   ]
  },
  {
   "cell_type": "code",
   "execution_count": 3045,
   "metadata": {},
   "outputs": [],
   "source": [
    "from unidecode import unidecode\n",
    "train_df[\"Lise Turu\"]=train_df[\"Lise Turu\"].str.lower()"
   ]
  },
  {
   "cell_type": "code",
   "execution_count": 3046,
   "metadata": {},
   "outputs": [],
   "source": [
    "city_map = {\n",
    "    'istanbul': 3,\n",
    "    'ankara': 2,\n",
    "    'izmir': 1\n",
    "}\n",
    "\n",
    "# Şehir değişkenini küçük harfe çevirip haritaya göre atama yapıyoruz, diğerlerini 0 yapıyoruz\n",
    "train_df['Lise Sehir'] = train_df['Lise Sehir'].str.lower().map(city_map).fillna(0)"
   ]
  },
  {
   "cell_type": "code",
   "execution_count": 3047,
   "metadata": {},
   "outputs": [],
   "source": [
    "train_df=train_df.drop(\"Lise Bolum Diger\", axis=1)"
   ]
  },
  {
   "cell_type": "code",
   "execution_count": 3048,
   "metadata": {},
   "outputs": [],
   "source": [
    "evet_hayir_emekli={'Evet':1,'Hayır':0,'Emekli':0}\n",
    "train_df['Anne Calisma Durumu'] = train_df['Anne Calisma Durumu'].map(evet_hayir_emekli).fillna(0)"
   ]
  },
  {
   "cell_type": "code",
   "execution_count": 3049,
   "metadata": {},
   "outputs": [],
   "source": [
    "train_df=train_df.drop('Anne Sektor',axis=1)\n",
    "train_df=train_df.drop('Anne Egitim Durumu',axis=1)"
   ]
  },
  {
   "cell_type": "code",
   "execution_count": 3050,
   "metadata": {},
   "outputs": [],
   "source": [
    "train_df=train_df.drop('Baba Sektor',axis=1)\n",
    "train_df=train_df.drop('Baba Egitim Durumu',axis=1)\n",
    "train_df['Baba Calisma Durumu'] = train_df['Baba Calisma Durumu'].map(evet_hayir_emekli).fillna(0)"
   ]
  },
  {
   "cell_type": "code",
   "execution_count": 3051,
   "metadata": {},
   "outputs": [],
   "source": [
    "train_df[\"Kardes Sayisi\"]=train_df[\"Kardes Sayisi\"].fillna(0)"
   ]
  },
  {
   "cell_type": "code",
   "execution_count": 3052,
   "metadata": {},
   "outputs": [],
   "source": [
    "train_df=train_df.drop(\"Uye Oldugunuz Kulubun Ismi\",axis=1)"
   ]
  },
  {
   "cell_type": "code",
   "execution_count": 3053,
   "metadata": {},
   "outputs": [],
   "source": [
    "evet_hayir={'Evet':1,'Hayır':0,'evet':1,'EVET':1,'hayır':0,'HAYIR':0}\n",
    "train_df['Profesyonel Bir Spor Daliyla Mesgul musunuz?'] = train_df['Profesyonel Bir Spor Daliyla Mesgul musunuz?'].map(evet_hayir).fillna(0)"
   ]
  },
  {
   "cell_type": "code",
   "execution_count": 3054,
   "metadata": {},
   "outputs": [],
   "source": [
    "train_df[\"Aktif olarak bir STK üyesi misiniz?\"]=train_df[\"Aktif olarak bir STK üyesi misiniz?\"].map(evet_hayir).fillna(0)"
   ]
  },
  {
   "cell_type": "code",
   "execution_count": 3055,
   "metadata": {},
   "outputs": [],
   "source": [
    "train_df[\"Stk Projesine Katildiniz Mi?\"]=train_df[\"Stk Projesine Katildiniz Mi?\"].map(evet_hayir)\n",
    "train_df[\"Girisimcilikle Ilgili Deneyiminiz Var Mi?\"]=train_df[\"Girisimcilikle Ilgili Deneyiminiz Var Mi?\"].map(evet_hayir).fillna(0)\n",
    "train_df=train_df.drop(\"Girisimcilikle Ilgili Deneyiminizi Aciklayabilir misiniz?\",axis=1)"
   ]
  },
  {
   "cell_type": "code",
   "execution_count": 3056,
   "metadata": {},
   "outputs": [],
   "source": [
    "train_df=train_df.drop(\"Daha Önceden Mezun Olunduysa, Mezun Olunan Üniversite\",axis=1)"
   ]
  },
  {
   "cell_type": "code",
   "execution_count": 3057,
   "metadata": {},
   "outputs": [],
   "source": [
    "train_df=train_df.drop(\"Ingilizce Seviyeniz?\",axis=1)"
   ]
  },
  {
   "cell_type": "code",
   "execution_count": 3058,
   "metadata": {},
   "outputs": [],
   "source": [
    "train_df[\"Ingilizce Biliyor musunuz?\"]=train_df[\"Ingilizce Biliyor musunuz?\"].map(evet_hayir).fillna(0)"
   ]
  },
  {
   "cell_type": "code",
   "execution_count": 3059,
   "metadata": {},
   "outputs": [],
   "source": [
    "train_df=train_df.drop(\"Spor Dalindaki Rolunuz Nedir?\",axis=1)"
   ]
  },
  {
   "cell_type": "code",
   "execution_count": 3060,
   "metadata": {},
   "outputs": [],
   "source": [
    "train_df[\"Girisimcilik Kulupleri Tarzi Bir Kulube Uye misiniz?\"]=train_df[\"Girisimcilik Kulupleri Tarzi Bir Kulube Uye misiniz?\"].map(evet_hayir)"
   ]
  },
  {
   "cell_type": "code",
   "execution_count": 3061,
   "metadata": {},
   "outputs": [],
   "source": [
    "train_df=train_df.drop(\"Baska Kurumdan Aldigi Burs Miktari\",axis=1)"
   ]
  },
  {
   "cell_type": "code",
   "execution_count": 3062,
   "metadata": {},
   "outputs": [],
   "source": [
    "train_df=train_df.drop(\"Burs Aldigi Baska Kurum\",axis=1)"
   ]
  },
  {
   "cell_type": "code",
   "execution_count": 3063,
   "metadata": {},
   "outputs": [],
   "source": [
    "train_df[\"Baska Bir Kurumdan Burs Aliyor mu?\"]=train_df[\"Baska Bir Kurumdan Burs Aliyor mu?\"].map(evet_hayir)"
   ]
  },
  {
   "cell_type": "code",
   "execution_count": 3064,
   "metadata": {},
   "outputs": [],
   "source": [
    "train_df[\"Burs Aliyor mu?\"]=train_df[\"Burs Aliyor mu?\"].map(evet_hayir)"
   ]
  },
  {
   "cell_type": "code",
   "execution_count": 3065,
   "metadata": {},
   "outputs": [],
   "source": [
    "uni_not_mapping = {'ORTALAMA BULUNMUYOR': 0, 'Not ortalaması yok': 0, 'Ortalama bulunmuyor': 0,'Hazırlığım': 0,'0':0,\n",
    "                   '0 - 1.79': 0,'1.00 - 2.50':1,'1.80 - 2.49':1,'2.50 ve altı':1,'2.00 - 2.50':1,\"3.00-2.50\":2,\n",
    "                   \"2.50 - 3.00\":2,\"2.50 - 2.99\":2,'2.50 -3.00':2,'3.00 - 3.50':3,'3.50-3':3,'3.00 - 3.49':3,'3.00 - 4.00':3,'3.50 - 4.00':4,'4-3.5':4,'4.0-3.5':4}"
   ]
  },
  {
   "cell_type": "code",
   "execution_count": 3066,
   "metadata": {},
   "outputs": [],
   "source": [
    "train_df[\"Universite Not Ortalamasi\"]=train_df[\"Universite Not Ortalamasi\"].map(uni_not_mapping)"
   ]
  },
  {
   "cell_type": "code",
   "execution_count": 3067,
   "metadata": {},
   "outputs": [],
   "source": [
    "train_df[\"Universite Not Ortalamasi\"]=train_df[\"Universite Not Ortalamasi\"].fillna(0)"
   ]
  },
  {
   "cell_type": "code",
   "execution_count": 3068,
   "metadata": {},
   "outputs": [],
   "source": [
    "train_df[\"Daha Once Baska Bir Universiteden Mezun Olmus\"]=train_df[\"Daha Once Baska Bir Universiteden Mezun Olmus\"].map(evet_hayir)"
   ]
  },
  {
   "cell_type": "code",
   "execution_count": 3069,
   "metadata": {},
   "outputs": [
    {
     "data": {
      "text/plain": [
       "Lise Turu\n",
       "anadolu lisesi        16087\n",
       "diğer                 11967\n",
       "devlet                 6203\n",
       "düz lise               5406\n",
       "özel                   4446\n",
       "meslek lisesi          3285\n",
       "fen lisesi             2240\n",
       "meslek                 2222\n",
       "özel lisesi            1867\n",
       "i̇mam hatip lisesi     1046\n",
       "Name: count, dtype: int64"
      ]
     },
     "execution_count": 3069,
     "metadata": {},
     "output_type": "execute_result"
    }
   ],
   "source": [
    "train_df[\"Lise Turu\"].value_counts()"
   ]
  },
  {
   "cell_type": "code",
   "execution_count": 3070,
   "metadata": {},
   "outputs": [],
   "source": [
    "lise_mapping = {'anadolu lisesi':0,'diğer':0,'devlet':0,'düz lise':0,'özel':1,'meslek lisesi':2,'fen lisesi':3,'meslek':2,'özel lisesi':1,'imam hatip lisesi':4}"
   ]
  },
  {
   "cell_type": "code",
   "execution_count": 3071,
   "metadata": {},
   "outputs": [],
   "source": [
    "train_df[\"Lise Turu\"]=train_df[\"Lise Turu\"].map(lise_mapping)"
   ]
  },
  {
   "cell_type": "code",
   "execution_count": 3072,
   "metadata": {},
   "outputs": [],
   "source": [
    "train_df[\"Lise Turu\"]=train_df[\"Lise Turu\"].fillna(0)"
   ]
  },
  {
   "cell_type": "code",
   "execution_count": 3073,
   "metadata": {},
   "outputs": [],
   "source": [
    "lisetürü=train_df[\"Lise Bolumu\"].value_counts()"
   ]
  },
  {
   "cell_type": "code",
   "execution_count": 3074,
   "metadata": {},
   "outputs": [],
   "source": [
    "train_df = train_df[train_df['Cinsiyet'] != 'Belirtmek istemiyorum']"
   ]
  },
  {
   "cell_type": "code",
   "execution_count": 3075,
   "metadata": {},
   "outputs": [],
   "source": [
    "cinsiyet_mapping = {'Kadın':0,'Erkek':1,'erkek':1,'ERKEK':1}"
   ]
  },
  {
   "cell_type": "code",
   "execution_count": 3076,
   "metadata": {},
   "outputs": [],
   "source": [
    "train_df['Cinsiyet'] = train_df['Cinsiyet'].map(cinsiyet_mapping)"
   ]
  },
  {
   "cell_type": "code",
   "execution_count": 3077,
   "metadata": {},
   "outputs": [],
   "source": [
    "train_df.loc[(train_df['Universite Turu'] == 'Devlet') & (train_df['Universite Turu'] == 'devlet') & (train_df['Universite Turu'] == 'DEVLET'), 'Burslu ise Burs Yuzdesi'] = 100"
   ]
  },
  {
   "cell_type": "code",
   "execution_count": 3078,
   "metadata": {},
   "outputs": [],
   "source": [
    "train_df.loc[train_df['Universite Adi'] == ('AFYON KOCATEPE ÜNİVERSİTESİ'), ['Universite Turu']] = 'Devlet'\n",
    "train_df.loc[train_df['Universite Adi'] == ('AKDENİZ ÜNİVERSİTESİ'), ['Universite Turu']] = 'Devlet'\n",
    "train_df.loc[train_df['Universite Adi'] == ('BAHÇEŞEHİR ÜNİVERSİTESİ'), ['Universite Turu']] = 'Özel'\n",
    "train_df.loc[train_df['Universite Adi'] == ('ANKARA YILDIRIM BEYAZIT ÜNİVERSİTESİ'), ['Universite Turu']] = 'Devlet'"
   ]
  },
  {
   "cell_type": "code",
   "execution_count": 3079,
   "metadata": {},
   "outputs": [],
   "source": [
    "train_df.loc[train_df['Universite Adi'] == ('TRAKYA ÜNİVERSİTESİ'), ['Universite Turu']] = 'Devlet'\n",
    "train_df.loc[train_df['Universite Adi'] == ('SELÇUK ÜNİVERSİTESİ'), ['Universite Turu']] = 'Devlet'\n",
    "train_df.loc[train_df['Universite Adi'] == ('BAŞKENT ÜNİVERSİTESİ'), ['Universite Turu']] = 'Özel'\n",
    "train_df.loc[train_df['Universite Adi'] == ('ÇUKUROVA ÜNİVERSİTESİ'), ['Universite Turu']] = 'Devlet'"
   ]
  },
  {
   "cell_type": "code",
   "execution_count": 3080,
   "metadata": {},
   "outputs": [],
   "source": [
    "train_df.loc[train_df['Universite Adi'] == ('GAZİ ÜNİVERSİTESİ'), ['Universite Turu']] = 'Devlet'\n",
    "train_df.loc[train_df['Universite Adi'] == ('YILDIZ TEKNİK ÜNİVERSİTESİ'), ['Universite Turu']] = 'Devlet'\n",
    "train_df.loc[train_df['Universite Adi'] == ('İSTANBUL AREL ÜNİVERSİTESİ'), ['Universite Turu']] = 'Özel'\n",
    "train_df.loc[train_df['Universite Adi'] == ('İSTANBUL AYDIN ÜNİVERSİTESİ'), ['Universite Turu']] = 'Özel'\n",
    "train_df.loc[train_df['Universite Adi'] == ('ÖZYEĞİN ÜNİVERSİTESİ'), ['Universite Turu']] = 'Özel'\n",
    "train_df.loc[train_df['Universite Adi'] == ('BURSA ULUDAĞ ÜNİVERSİTESİ'), ['Universite Turu']] = 'Devlet'\n",
    "train_df.loc[train_df['Universite Adi'] == ('BOĞAZİÇİ ÜNİVERSİTESİ'), ['Universite Turu']] = 'Devlet'"
   ]
  },
  {
   "cell_type": "code",
   "execution_count": 3081,
   "metadata": {},
   "outputs": [],
   "source": [
    "train_df.loc[train_df['Universite Adi'] == ('BİLECİK ŞEYH EDEBALİ ÜNİVERSİTESİ'), ['Universite Turu']] = 'Devlet'\n",
    "train_df.loc[train_df['Universite Adi'] == ('DOKUZ EYLÜL ÜNİVERSİTESİ'), ['Universite Turu']] = 'Devlet'\n",
    "train_df.loc[train_df['Universite Adi'] == ('DOĞUŞ ÜNİVERSİTESİ'), ['Universite Turu']] = 'Özel'\n",
    "train_df.loc[train_df['Universite Adi'] == ('MEF ÜNİVERSİTESİ'), ['Universite Turu']] = 'Özel'\n",
    "train_df.loc[train_df['Universite Adi'] == ('YEDİTEPE ÜNİVERSİTESİ'), ['Universite Turu']] = 'Özel'\n",
    "train_df.loc[train_df['Universite Adi'] == ('EGE ÜNİVERSİTESİ'), ['Universite Turu']] = 'Devlet'\n",
    "train_df.loc[train_df['Universite Adi'] == ('BOĞAZİÇİ ÜNİVERSİTESİ'), ['Universite Turu']] = 'Devlet'"
   ]
  },
  {
   "cell_type": "code",
   "execution_count": 3082,
   "metadata": {},
   "outputs": [],
   "source": [
    "train_df.loc[train_df['Universite Adi'] == ('İSTANBUL TEKNİK ÜNİVERSİTESİ'), ['Universite Turu']] = 'Devlet'\n",
    "train_df.loc[train_df['Universite Adi'] == ('TOKAT GAZİOSMANPAŞA ÜNİVERSİTESİ'), ['Universite Turu']] = 'Devlet'\n",
    "train_df.loc[train_df['Universite Adi'] == ('HASAN KALYONCU ÜNİVERSİTESİ'), ['Universite Turu']] = 'Özel'\n",
    "train_df.loc[train_df['Universite Adi'] == ('SİVAS CUMHURİYET ÜNİVERSİTESİ'), ['Universite Turu']] = 'Devlet'\n",
    "train_df.loc[train_df['Universite Adi'] == ('YOZGAT BOZOK ÜNİVERSİTESİ'), ['Universite Turu']] = 'Devlet'\n",
    "train_df.loc[train_df['Universite Adi'] == ('AYDIN ADNAN MENDERES'), ['Universite Turu']] = 'Devlet'\n",
    "train_df.loc[train_df['Universite Adi'] == ('ARDAHAN ÜNİVERSİTESİ'), ['Universite Turu']] = 'Devlet'\n",
    "train_df.loc[train_df['Universite Adi'] == ('ATATÜRK ÜNİVERSİTESİ'), ['Universite Turu']] = 'Devlet'\n",
    "train_df.loc[train_df['Universite Adi'] == ('DİCLE ÜNİVERSİTESİ'), ['Universite Turu']] = 'Devlet'\n",
    "train_df.loc[train_df['Universite Adi'] == ('ERCİYES ÜNİVERSİTESİ'), ['Universite Turu']] = 'Devlet'\n",
    "train_df.loc[train_df['Universite Adi'] == ('ERZURUM TEKNİK ÜNİVERSİTESİ'), ['Universite Turu']] = 'Devlet'\n",
    "train_df.loc[train_df['Universite Adi'] == ('GÜMÜŞHANE ÜNİVERSİTESİ'), ['Universite Turu']] = 'Devlet'\n",
    "train_df.loc[train_df['Universite Adi'] == ('KARABÜK ÜNİVERSİTESİ'), ['Universite Turu']] = 'Devlet'\n",
    "train_df.loc[train_df['Universite Adi'] == ('KASTAMONU ÜNİVERSİTESİ'), ['Universite Turu']] = 'Devlet'\n",
    "train_df.loc[train_df['Universite Adi'] == ('KIRŞEHİR AHİ EVRAN ÜNİVERSİTESİ'), ['Universite Turu']] = 'Devlet'\n",
    "train_df.loc[train_df['Universite Adi'] == ('KOCAELİ ÜNİVERSİTESİ'), ['Universite Turu']] = 'Devlet'\n",
    "train_df.loc[train_df['Universite Adi'] == ('MARDİN ARTUKLU ÜNİVERSİTESİ'), ['Universite Turu']] = 'Devlet'\n",
    "train_df.loc[train_df['Universite Adi'] == ('MEHMET AKİF ERSOY ÜNİVERSİTESİ'), ['Universite Turu']] = 'Devlet'\n",
    "train_df.loc[train_df['Universite Adi'] == ('MERSİN ÜNİVERSİTESİ'), ['Universite Turu']] = 'Devlet'\n",
    "train_df.loc[train_df['Universite Adi'] == ('MUĞLA SITKI KOÇMAN ÜNİVERSİTESİ'), ['Universite Turu']] = 'Devlet'"
   ]
  },
  {
   "cell_type": "code",
   "execution_count": 3083,
   "metadata": {},
   "outputs": [],
   "source": [
    "train_df.loc[train_df['Universite Adi'] == ('İSTANBUL ÜNİVERSİTESİ'), ['Universite Turu']] = 'Devlet'\n",
    "train_df.loc[train_df['Universite Adi'] == ('İSTANBUL ÜNİVERSİTESİ-'), ['Universite Turu']] = 'Devlet'\n",
    "train_df.loc[train_df['Universite Adi'] == ('NECMETTİN ERBAKAN ÜNİVERSİTESİ'), ['Universite Turu']] = 'Devlet'\n",
    "train_df.loc[train_df['Universite Adi'] == ('ESKİŞEHİR TEKNİK ÜNİVERSİTESİ'), ['Universite Turu']] = 'Özel'\n",
    "train_df.loc[train_df['Universite Adi'] == ('MUŞ ALPARSLAN ÜNİVERSİTESİ'), ['Universite Turu']] = 'Devlet'\n",
    "train_df.loc[train_df['Universite Adi'] == ('NUH NACİ YAZGAN ÜNİVERSİTESİ'), ['Universite Turu']] = 'Özel'\n",
    "train_df.loc[train_df['Universite Adi'] == ('ONDOKUZ MAYIS ÜNİVERSİTESİ'), ['Universite Turu']] = 'Devlet'\n",
    "train_df.loc[train_df['Universite Adi'] == ('SİNOP ÜNİVERSİTESİ'), ['Universite Turu']] = 'Devlet'\n",
    "train_df.loc[train_df['Universite Adi'] == ('SİİRT ÜNİVERSİTESİ'), ['Universite Turu']] = 'Devlet'\n",
    "train_df.loc[train_df['Universite Adi'] == ('TEKİRDAĞ NAMIK KEMAL ÜNİVERSİTESİ'), ['Universite Turu']] = 'Devlet'\n",
    "train_df.loc[train_df['Universite Adi'] == ('YALOVA ÜNİVERSİTESİ'), ['Universite Turu']] = 'Devlet'\n",
    "train_df.loc[train_df['Universite Adi'] == ('ÇANAKKALE ONSEKİZ MART ÜNİVERSİTESİ'), ['Universite Turu']] = 'Devlet'"
   ]
  },
  {
   "cell_type": "code",
   "execution_count": 3084,
   "metadata": {},
   "outputs": [],
   "source": [
    "train_df.loc[train_df['Universite Adi'] == ('İZMİR BAKIRÇAY ÜNİVERSİTESİ'), ['Universite Turu']] = 'Devlet'\n",
    "train_df.loc[train_df['Universite Adi'] == ('İZMİR YÜKSEK TEKNOLOJİ ENSTİTÜSÜ'), ['Universite Turu']] = 'Devlet'\n",
    "train_df.loc[train_df['Universite Adi'] == ('SAĞLIK BİLİMLERİ ÜNİVERSİTESİ'), ['Universite Turu']] = 'Devlet'\n"
   ]
  },
  {
   "cell_type": "code",
   "execution_count": 3085,
   "metadata": {},
   "outputs": [],
   "source": [
    "train_df.loc[(train_df['Universite Turu'].isnull()) , 'Universite Turu'] = 'Özel'"
   ]
  },
  {
   "cell_type": "code",
   "execution_count": 3086,
   "metadata": {},
   "outputs": [],
   "source": [
    "train_df = train_df[train_df['Universite Adi'] != 'Diğer']"
   ]
  },
  {
   "cell_type": "code",
   "execution_count": 3087,
   "metadata": {},
   "outputs": [
    {
     "data": {
      "text/plain": [
       "Universite Turu\n",
       "Devlet    38172\n",
       "Özel       7340\n",
       "DEVLET     6925\n",
       "ÖZEL       2148\n",
       "Name: count, dtype: int64"
      ]
     },
     "execution_count": 3087,
     "metadata": {},
     "output_type": "execute_result"
    }
   ],
   "source": [
    "train_df['Universite Turu'].value_counts()"
   ]
  },
  {
   "cell_type": "code",
   "execution_count": 3088,
   "metadata": {},
   "outputs": [],
   "source": [
    "universite_tur_mapping = {'Devlet':1,'DEVLET':1,'Özel':0,'ÖZEL':0}"
   ]
  },
  {
   "cell_type": "code",
   "execution_count": 3089,
   "metadata": {},
   "outputs": [],
   "source": [
    "train_df['Universite Turu'] = train_df['Universite Turu'].map(universite_tur_mapping)"
   ]
  },
  {
   "cell_type": "code",
   "execution_count": 3090,
   "metadata": {},
   "outputs": [],
   "source": [
    "train_df.loc[(train_df['Universite Turu']==1) , 'Burslu ise Burs Yuzdesi'] = 100"
   ]
  },
  {
   "cell_type": "code",
   "execution_count": 3091,
   "metadata": {},
   "outputs": [],
   "source": [
    "train_df.loc[(train_df['Universite Turu']==0) & (train_df['Burslu ise Burs Yuzdesi'].isnull()), 'Burslu ise Burs Yuzdesi'] = 0"
   ]
  },
  {
   "cell_type": "code",
   "execution_count": 3092,
   "metadata": {},
   "outputs": [],
   "source": [
    "train_df.loc[train_df['Lise Bolumu'].str.contains('Fen', case=False, na=False), 'Lise Bolumu'] = 'SAY'\n",
    "train_df.loc[train_df['Lise Bolumu'].str.contains('Sayısal', case=False, na=False), 'Lise Bolumu'] = 'SAY'\n",
    "train_df.loc[train_df['Lise Bolumu'].str.contains('Sayisal', case=False, na=False), 'Lise Bolumu'] = 'SAY'\n",
    "train_df.loc[train_df['Lise Bolumu'].str.contains('mf', case=False, na=False), 'Lise Bolumu'] = 'SAY'"
   ]
  },
  {
   "cell_type": "code",
   "execution_count": 3093,
   "metadata": {},
   "outputs": [],
   "source": [
    "train_df.loc[train_df['Lise Bolumu'].str.contains('eşit', case=False, na=False), 'Lise Bolumu'] = 'EA'\n",
    "train_df.loc[train_df['Lise Bolumu'].str.contains('esıt', case=False, na=False), 'Lise Bolumu'] = 'EA'\n",
    "train_df.loc[train_df['Lise Bolumu'].str.contains('Türkçe-Matematik', case=False, na=False), 'Lise Bolumu'] = 'EA'\n",
    "train_df.loc[train_df['Lise Bolumu'].str.contains('Türkçe - Matematik', case=False, na=False), 'Lise Bolumu'] = 'EA'\n",
    "train_df.loc[train_df['Lise Bolumu'].str.contains('TÜRKÇE /MATEMATİK', case=False, na=False), 'Lise Bolumu'] = 'EA'\n",
    "train_df.loc[train_df['Lise Bolumu'].str.contains('Türkçe- Matematik', case=False, na=False), 'Lise Bolumu'] = 'EA'\n",
    "train_df.loc[train_df['Lise Bolumu'].str.contains('Türkçe Matematik', case=False, na=False), 'Lise Bolumu'] = 'EA'\n",
    "train_df.loc[train_df['Lise Bolumu'].str.contains('TM', case=False, na=False), 'Lise Bolumu'] = 'EA'"
   ]
  },
  {
   "cell_type": "code",
   "execution_count": 3094,
   "metadata": {},
   "outputs": [],
   "source": [
    "train_df.loc[train_df['Lise Bolumu'].str.contains('söz', case=False, na=False), 'Lise Bolumu'] = 'SOZ'\n",
    "train_df.loc[train_df['Lise Bolumu'].str.contains('sosyal', case=False, na=False), 'Lise Bolumu'] = 'SOZ'\n",
    "train_df.loc[train_df['Lise Bolumu'].str.contains('ts', case=False, na=False), 'Lise Bolumu'] = 'SOZ'"
   ]
  },
  {
   "cell_type": "code",
   "execution_count": 3095,
   "metadata": {},
   "outputs": [],
   "source": [
    "train_df.loc[train_df['Lise Bolumu'].str.contains('yabancı', case=False, na=False), 'Lise Bolumu'] = 'DIL'\n",
    "train_df.loc[train_df['Lise Bolumu'].str.contains('dil', case=False, na=False), 'Lise Bolumu'] = 'DIL'\n",
    "train_df.loc[train_df['Lise Bolumu'].str.contains('dıl', case=False, na=False), 'Lise Bolumu'] = 'DIL'\n"
   ]
  },
  {
   "cell_type": "code",
   "execution_count": 3096,
   "metadata": {},
   "outputs": [],
   "source": [
    "cs = train_df['Lise Bolumu'].value_counts()"
   ]
  },
  {
   "cell_type": "code",
   "execution_count": 3097,
   "metadata": {},
   "outputs": [],
   "source": [
    "# Türkçe karakterleri İngilizce karakterlere çeviren fonksiyon\n",
    "def convert_characters(text):\n",
    "    # Karakter dönüşüm tablosu\n",
    "    turkish_to_english = str.maketrans(\"çğıöşüÇĞİÖŞÜ\", \"cgiosuCGIOSU\")\n",
    "    \n",
    "    # Küçük harfe çevir, Türkçe karakterleri dönüştür ve boşlukları kaldır\n",
    "    return text.lower().translate(turkish_to_english).replace(\" \", \"\")"
   ]
  },
  {
   "cell_type": "code",
   "execution_count": 3098,
   "metadata": {},
   "outputs": [],
   "source": [
    "train_df['Lise Adi'] = train_df['Lise Adi'].apply(convert_characters)"
   ]
  },
  {
   "cell_type": "code",
   "execution_count": 3099,
   "metadata": {},
   "outputs": [],
   "source": [
    "train_df['Bölüm'] = train_df['Bölüm'].apply(convert_characters)"
   ]
  },
  {
   "cell_type": "code",
   "execution_count": 3100,
   "metadata": {},
   "outputs": [],
   "source": [
    "train_df['Dogum Yeri'] = train_df['Dogum Yeri'].apply(convert_characters)\n"
   ]
  },
  {
   "cell_type": "code",
   "execution_count": 3101,
   "metadata": {},
   "outputs": [],
   "source": [
    "train_df = train_df[train_df['Lise Bolumu'].notna() & (train_df['Lise Bolumu'] != '')]"
   ]
  },
  {
   "cell_type": "code",
   "execution_count": 3102,
   "metadata": {},
   "outputs": [],
   "source": [
    "cs = train_df['Dogum Yeri'].value_counts()"
   ]
  },
  {
   "cell_type": "code",
   "execution_count": 3103,
   "metadata": {},
   "outputs": [],
   "source": [
    "train_df.loc[(train_df['Dogum Yeri']=='İstanbul') , 'Dogum Yeri'] = 'istanbul'"
   ]
  },
  {
   "cell_type": "code",
   "execution_count": 3104,
   "metadata": {},
   "outputs": [],
   "source": [
    "cs = train_df['Dogum Yeri'].value_counts()"
   ]
  },
  {
   "cell_type": "code",
   "execution_count": 3105,
   "metadata": {},
   "outputs": [],
   "source": [
    "import re\n",
    "def extract_year(date_str):\n",
    "\n",
    "    match = re.search(r'(\\d{4})', str(date_str))\n",
    "    if match:\n",
    "        return int(match.group(1))\n",
    "    return None\n",
    "\n",
    "train_df['Dogum Yili'] = train_df['Dogum Tarihi'].apply(extract_year)\n",
    "train_df['Basvuru Yasi'] = train_df['Basvuru Yili'] - train_df['Dogum Yili']"
   ]
  },
  {
   "cell_type": "code",
   "execution_count": 3106,
   "metadata": {},
   "outputs": [
    {
     "name": "stderr",
     "output_type": "stream",
     "text": [
      "C:\\Users\\erena\\AppData\\Local\\Temp\\ipykernel_17104\\1723020219.py:4: UserWarning: Could not infer format, so each element will be parsed individually, falling back to `dateutil`. To ensure parsing is consistent and as-expected, please specify a format.\n",
      "  df.loc[mask, 'Dogum Yili'] = pd.to_datetime(df.loc[mask, 'Dogum Tarihi'], dayfirst=True, errors='coerce').dt.year\n"
     ]
    }
   ],
   "source": [
    "train_df['Dogum Tarihi'] = train_df['Dogum Tarihi'].str.replace('__', '', regex=False)\n",
    "train_df['Dogum Tarihi'] = train_df['Dogum Tarihi'].str.replace('_', '', regex=False)\n",
    "mask = train_df['Dogum Yili'].isna()  # Dogum_Yili sütunu boş olanlar\n",
    "train_df.loc[mask, 'Dogum Yili'] = pd.to_datetime(train_df.loc[mask, 'Dogum Tarihi'], dayfirst=True, errors='coerce').dt.year"
   ]
  },
  {
   "cell_type": "code",
   "execution_count": 3107,
   "metadata": {},
   "outputs": [],
   "source": [
    "train_df['Basvuru Yasi'] = train_df['Basvuru Yili'] - train_df['Dogum Yili']"
   ]
  },
  {
   "cell_type": "code",
   "execution_count": 3108,
   "metadata": {},
   "outputs": [],
   "source": [
    "train_df = train_df[train_df['Dogum Yili'] <= 2012]"
   ]
  },
  {
   "cell_type": "code",
   "execution_count": 3109,
   "metadata": {},
   "outputs": [],
   "source": [
    "train_df = train_df[train_df['Dogum Yili'] > 1970]"
   ]
  },
  {
   "cell_type": "code",
   "execution_count": 3110,
   "metadata": {},
   "outputs": [
    {
     "data": {
      "text/plain": [
       "Lise Mezuniyet Notu\n",
       "75 - 100              19894\n",
       "84-70                  8808\n",
       "100-85                 6772\n",
       "4.00-3.50              3226\n",
       "50 - 75                2557\n",
       "3.00 - 4.00            2330\n",
       "3.50-3.00              2312\n",
       "69-55                  2056\n",
       "3.50-3                 1790\n",
       "3.00-2.50              1753\n",
       "50 - 74                1002\n",
       "2.50 ve altı            170\n",
       "54-45                    82\n",
       "Not ortalaması yok       10\n",
       "25 - 50                   8\n",
       "44-0                      5\n",
       "25 - 49                   2\n",
       "0 - 25                    1\n",
       "0 - 24                    1\n",
       "Name: count, dtype: int64"
      ]
     },
     "execution_count": 3110,
     "metadata": {},
     "output_type": "execute_result"
    }
   ],
   "source": [
    "train_df[\"Lise Mezuniyet Notu\"].value_counts()"
   ]
  },
  {
   "cell_type": "code",
   "execution_count": 3111,
   "metadata": {},
   "outputs": [],
   "source": [
    "lise_not_mapping = {'0 - 24':1,'0 - 25':1,'25 - 49':1,'44-0':1,'25 - 50':1,'Not ortalaması yok':0,'54-45':2,'2.50 ve altı':2,'50 - 74':3,'3.00-2.50':3,'3.50-3':4,'69-55':3,'3.50-3.00':4,'3.00 - 4.00':4,'50 - 75':3,'4.00-3.50':5,'100-85':5,'84-70':4,'75 - 100':5}"
   ]
  },
  {
   "cell_type": "code",
   "execution_count": 3112,
   "metadata": {},
   "outputs": [],
   "source": [
    "train_df[\"Lise Mezuniyet Notu\"] = train_df[\"Lise Mezuniyet Notu\"].map(lise_not_mapping)\n"
   ]
  },
  {
   "cell_type": "code",
   "execution_count": 3113,
   "metadata": {},
   "outputs": [],
   "source": [
    "train_df =train_df.drop(\"Dogum Yili\",axis=1)"
   ]
  },
  {
   "cell_type": "code",
   "execution_count": 3114,
   "metadata": {},
   "outputs": [],
   "source": [
    "train_dfaintrain_dffaintrain_dffaintrain_dff = train_df.drop(\"Dogum Tarihi\",axis=1)"
   ]
  },
  {
   "cell_type": "code",
   "execution_count": 3115,
   "metadata": {},
   "outputs": [],
   "source": [
    "counts = train_df[\"Lise Bolumu\"].value_counts()\n",
    "train_df = train_df[train_df[\"Lise Bolumu\"].isin(counts[counts > 2].index)]"
   ]
  },
  {
   "cell_type": "code",
   "execution_count": 3116,
   "metadata": {},
   "outputs": [],
   "source": [
    "train_df[\"Universite Kacinci Sinif\"] = train_df[\"Universite Kacinci Sinif\"].str.lower()"
   ]
  },
  {
   "cell_type": "code",
   "execution_count": 3117,
   "metadata": {},
   "outputs": [],
   "source": [
    "uni_sinif_mapping = {'1':1,'2':2,'3':3,'4':4,'5':5,'6':6,'hazırlık':0,'mezun':7,'yüksek lisans':8,'tez':8}"
   ]
  },
  {
   "cell_type": "code",
   "execution_count": 3118,
   "metadata": {},
   "outputs": [],
   "source": [
    "train_df[\"Universite Kacinci Sinif\"] = train_df[\"Universite Kacinci Sinif\"].map(uni_sinif_mapping)\n",
    "sehir=train_df[\"Ikametgah Sehri\"].value_counts()"
   ]
  },
  {
   "cell_type": "code",
   "execution_count": 3119,
   "metadata": {},
   "outputs": [],
   "source": [
    "train_df.loc[(train_df['Ikametgah Sehri']=='İstanbul') , 'Ikametgah Sehri'] = 'istanbul'\n",
    "train_df.loc[(train_df['Ikametgah Sehri']=='İzmir' ) , 'Ikametgah Sehri'] = 'izmir'\n",
    "train_df.loc[(train_df['Ikametgah Sehri']=='Isparta') , 'Ikametgah Sehri'] = 'isparta'\n",
    "train_df.loc[(train_df['Ikametgah Sehri']=='Iğdır') , 'Ikametgah Sehri'] = 'igdir'\n",
    "train_df.loc[train_df['Ikametgah Sehri'].str.contains('stanb', case=False, na=False), 'Ikametgah Sehri'] = 'istanbul'\n",
    "train_df.loc[train_df['Ikametgah Sehri'].str.contains('ankara', case=False, na=False), 'Ikametgah Sehri'] = 'ankara'\n",
    "train_df.loc[train_df['Ikametgah Sehri'].str.contains('zm', case=False, na=False), 'Ikametgah Sehri'] = 'izmir'\n",
    "train_df.loc[train_df['Ikametgah Sehri'].str.contains('afyon', case=False, na=False), 'Ikametgah Sehri'] = 'afyonkarahisar'\n",
    "train_df.loc[train_df['Ikametgah Sehri'].str.contains('maras', case=False, na=False), 'Ikametgah Sehri'] = 'kahramanmaras'\n",
    "train_df[\"Ikametgah Sehri\"] = train_df[\"Ikametgah Sehri\"].apply(convert_characters)\n",
    "\n",
    "\n"
   ]
  },
  {
   "cell_type": "code",
   "execution_count": 3120,
   "metadata": {},
   "outputs": [],
   "source": [
    "train_df.loc[train_df['Ikametgah Sehri'].str.contains('stanb', case=False, na=False), 'Ikametgah Sehri'] = 'istanbul'\n",
    "train_df.loc[train_df['Ikametgah Sehri'].str.contains('ankara', case=False, na=False), 'Ikametgah Sehri'] = 'ankara'\n",
    "train_df.loc[train_df['Ikametgah Sehri'].str.contains('zm', case=False, na=False), 'Ikametgah Sehri'] = 'izmir'\n",
    "train_df.loc[train_df['Ikametgah Sehri'].str.contains('afyon', case=False, na=False), 'Ikametgah Sehri'] = 'afyonkarahisar'\n",
    "train_df.loc[train_df['Ikametgah Sehri'].str.contains('maras', case=False, na=False), 'Ikametgah Sehri'] = 'kahramanmaras'\n",
    "aaaa=train_df[\"Ikametgah Sehri\"].value_counts()"
   ]
  },
  {
   "cell_type": "code",
   "execution_count": 3121,
   "metadata": {},
   "outputs": [],
   "source": [
    "sehirler_mapping = {\n",
    "    'adana': 1, 'adiyaman': 2, 'afyonkarahisar': 3, 'agri': 4,'aksaray': 5, 'amasya': 6,'ankara': 7,'antalya': 8,'ardahan': 9,'artvin': 10,\n",
    "    'aydin': 11,'balikesir': 12,'bartin': 13,'batman': 14,'bayburt': 15,'bilecik': 16,'bingol': 17,'bitlis': 18,'bolu': 19,'burdur': 20,\n",
    "    'bursa': 21,'canakkale': 22,'cankiri': 23,'corum': 24,'denizli': 25,'diyarbakir': 26,'duzce': 27,'edirne': 28,'elazig': 29,'erzincan': 30,'erzurum': 31,\n",
    "    'eskisehir': 32,'gaziantep': 33,'giresun': 34,'gumushane': 35,'hakkari': 36,'hatay': 37,'igdir': 38,'isparta': 39,'istanbul': 40,'izmir': 41,\n",
    "    'kahramanmaras': 42,'karabuk': 43,'karaman': 44,'kars': 45,'kastamonu': 46,'kayseri': 47,'kilis': 48,'kirikkale': 49,'kirklareli': 50,'kirsehir': 51,\n",
    "    'kocaeli': 52,'konya': 53,'kutahya': 54,'malatya': 55,'manisa': 56,'mardin': 57,'mersin': 58,'mugla': 59,'mus': 60,'nevsehir': 61,'nigde': 62,\n",
    "    'ordu': 63,'osmaniye': 64,'rize': 65,'sakarya': 66,'samsun': 67,'siirt': 68,'sinop': 69,'sivas': 70,'sanliurfa': 71,'sirnak': 72,\n",
    "    'tekirdag': 73,'tokat': 74,'trabzon': 75, 'tunceli': 76,'usak': 77,'van': 78,'yalova': 79,'yozgat': 80,'zonguldak': 81\n",
    "}\n"
   ]
  },
  {
   "cell_type": "code",
   "execution_count": 3122,
   "metadata": {},
   "outputs": [],
   "source": [
    "train_df[\"Ikametgah Sehri\"]  = train_df[\"Ikametgah Sehri\"].map(sehirler_mapping)"
   ]
  },
  {
   "cell_type": "code",
   "execution_count": 3123,
   "metadata": {},
   "outputs": [],
   "source": [
    "train_df=train_df[train_df[\"Ikametgah Sehri\"].notna()]"
   ]
  },
  {
   "cell_type": "code",
   "execution_count": 3124,
   "metadata": {},
   "outputs": [],
   "source": [
    "train_df=train_df.drop(\"Dogum Yeri\",axis=1)"
   ]
  },
  {
   "cell_type": "code",
   "execution_count": 3125,
   "metadata": {},
   "outputs": [],
   "source": [
    "from sklearn.preprocessing import LabelEncoder"
   ]
  },
  {
   "cell_type": "code",
   "execution_count": 3126,
   "metadata": {},
   "outputs": [],
   "source": [
    "le = LabelEncoder()\n",
    "train_df[\"Universite Adi\"] = le.fit_transform(train_df[\"Universite Adi\"])"
   ]
  },
  {
   "cell_type": "code",
   "execution_count": 3127,
   "metadata": {},
   "outputs": [],
   "source": [
    "train_df[\"Bölüm\"] = le.fit_transform(train_df[\"Bölüm\"])\n",
    "train_df[\"Lise Adi\"] = le.fit_transform(train_df[\"Lise Adi\"])"
   ]
  },
  {
   "cell_type": "code",
   "execution_count": 3128,
   "metadata": {},
   "outputs": [],
   "source": [
    "train_df = train_df.drop('Lise Bolumu',axis=1)"
   ]
  },
  {
   "cell_type": "code",
   "execution_count": 3129,
   "metadata": {},
   "outputs": [],
   "source": [
    "kardes_mapping = {'1.0':1,'2.0':2,'3.0':3,'4.0':4,'1':1,'0':0,'2':2,'5.0':5,'3':3,'4':4,'5':5,'6.0':6,'7.0':7,'10.0':10,'6':6,'8.0':8,'7':7,'9.0':9,\n",
    "                  '8':8 ,'10':10,'9':9,'11':11,'12':12,'13':13,'14':14}\n",
    "train_df[\"Kardes Sayisi\"] = train_df[\"Kardes Sayisi\"].map(kardes_mapping)\n"
   ]
  },
  {
   "cell_type": "code",
   "execution_count": 3130,
   "metadata": {},
   "outputs": [],
   "source": [
    "y_train=train_df[['id','Degerlendirme Puani']]\n",
    "X_train=train_df.drop('Degerlendirme Puani',axis=1)"
   ]
  }
 ],
 "metadata": {
  "kernelspec": {
   "display_name": "Python 3",
   "language": "python",
   "name": "python3"
  },
  "language_info": {
   "codemirror_mode": {
    "name": "ipython",
    "version": 3
   },
   "file_extension": ".py",
   "mimetype": "text/x-python",
   "name": "python",
   "nbconvert_exporter": "python",
   "pygments_lexer": "ipython3",
   "version": "3.11.7"
  }
 },
 "nbformat": 4,
 "nbformat_minor": 2
}
