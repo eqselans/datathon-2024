{
 "cells": [
  {
   "cell_type": "code",
   "execution_count": 439,
   "metadata": {},
   "outputs": [],
   "source": [
    "import numpy as np\n",
    "import pandas as pd\n",
    "import seaborn as sns\n",
    "import matplotlib.pyplot as plt"
   ]
  },
  {
   "cell_type": "code",
   "execution_count": 440,
   "metadata": {},
   "outputs": [
    {
     "name": "stderr",
     "output_type": "stream",
     "text": [
      "C:\\Users\\erena\\AppData\\Local\\Temp\\ipykernel_10472\\2825929267.py:1: DtypeWarning: Columns (13,15,19,30,32,37,41,42) have mixed types. Specify dtype option on import or set low_memory=False.\n",
      "  train_df = pd.read_csv('train.csv')\n"
     ]
    }
   ],
   "source": [
    "train_df = pd.read_csv('train.csv')\n",
    "test_df = pd.read_csv('test_x.csv')"
   ]
  },
  {
   "cell_type": "code",
   "execution_count": 441,
   "metadata": {},
   "outputs": [],
   "source": [
    "train_df = train_df.drop(['Burslu ise Burs Yuzdesi','Daha Once Baska Bir Universiteden Mezun Olmus','Lise Adi Diger','Lise Bolum Diger','Uye Oldugunuz Kulubun Ismi','Stk Projesine Katildiniz Mi?','Ingilizce Seviyeniz?','Daha Önceden Mezun Olunduysa, Mezun Olunan Üniversite']\n",
    "                         ,axis=1)\n",
    "\n",
    "test_df = test_df.drop(['Burslu ise Burs Yuzdesi','Daha Once Baska Bir Universiteden Mezun Olmus','Lise Adi Diger','Lise Bolum Diger','Uye Oldugunuz Kulubun Ismi','Stk Projesine Katildiniz Mi?','Ingilizce Seviyeniz?','Daha Önceden Mezun Olunduysa, Mezun Olunan Üniversite']\n",
    "                         ,axis=1)"
   ]
  },
  {
   "cell_type": "code",
   "execution_count": 442,
   "metadata": {},
   "outputs": [],
   "source": [
    "train_df = train_df[train_df['Cinsiyet'].notna() & (train_df['Cinsiyet'] != '')]\n",
    "#test_df = test_df[test_df['Cinsiyet'].notna() & (test_df['Cinsiyet'] != '')]"
   ]
  },
  {
   "cell_type": "code",
   "execution_count": 443,
   "metadata": {},
   "outputs": [],
   "source": [
    "train_df = train_df[train_df['Degerlendirme Puani'].notna() & (train_df['Degerlendirme Puani'] != '')]\n"
   ]
  },
  {
   "cell_type": "code",
   "execution_count": 444,
   "metadata": {},
   "outputs": [],
   "source": [
    "train_df = train_df[train_df['Dogum Tarihi'].notna() & (train_df['Dogum Tarihi'] != '')]\n",
    "#test_df = test_df[test_df['Dogum Tarihi'].notna() & (test_df['Dogum Tarihi'] != '')]"
   ]
  },
  {
   "cell_type": "code",
   "execution_count": 445,
   "metadata": {},
   "outputs": [],
   "source": [
    "train_df = train_df[train_df['Ikametgah Sehri'].notna() & (train_df['Ikametgah Sehri'] != '')]\n",
    "#test_df = test_df[test_df['Ikametgah Sehri'].notna() & (test_df['Ikametgah Sehri'] != '')]"
   ]
  },
  {
   "cell_type": "code",
   "execution_count": 446,
   "metadata": {},
   "outputs": [],
   "source": [
    "train_df = train_df[train_df['Universite Kacinci Sinif'].notna() & (train_df['Universite Kacinci Sinif'] != '')]\n",
    "#test_df = test_df[test_df['Universite Kacinci Sinif'].notna() & (test_df['Universite Kacinci Sinif'] != '')]"
   ]
  },
  {
   "cell_type": "code",
   "execution_count": 447,
   "metadata": {},
   "outputs": [],
   "source": [
    "train_df = train_df[train_df['Universite Adi'].notna() & (train_df['Universite Adi'] != '')]\n",
    "#test_df = test_df[test_df['Universite Adi'].notna() & (test_df['Universite Adi'] != '')]"
   ]
  },
  {
   "cell_type": "code",
   "execution_count": 448,
   "metadata": {},
   "outputs": [],
   "source": [
    "train_df = train_df[train_df['Bölüm'].notna() & (train_df['Bölüm'] != '')]\n",
    "#test_df = test_df[test_df['Bölüm'].notna() & (test_df['Bölüm'] != '')]"
   ]
  },
  {
   "cell_type": "code",
   "execution_count": 449,
   "metadata": {},
   "outputs": [],
   "source": [
    "train_df.loc[(train_df['Universite Kacinci Sinif'] == '1') & (train_df['Universite Not Ortalamasi'].isnull()), 'Universite Not Ortalamasi'] = 0\n",
    "#test_df.loc[(test_df['Universite Kacinci Sinif'] == '1') & (test_df['Universite Not Ortalamasi'].isnull()), 'Universite Not Ortalamasi'] = 0"
   ]
  },
  {
   "cell_type": "code",
   "execution_count": 450,
   "metadata": {},
   "outputs": [],
   "source": [
    "train_df.loc[(train_df['Universite Kacinci Sinif'] == 'Hazırlık') & (train_df['Universite Not Ortalamasi'].isnull()), 'Universite Not Ortalamasi'] = 0\n",
    "#test_df.loc[(test_df['Universite Kacinci Sinif'] == 'Hazırlık') & (test_df['Universite Not Ortalamasi'].isnull()), 'Universite Not Ortalamasi'] = 0"
   ]
  },
  {
   "cell_type": "code",
   "execution_count": 451,
   "metadata": {},
   "outputs": [],
   "source": [
    "train_df = train_df[train_df['Universite Not Ortalamasi'].notna() & (train_df['Universite Not Ortalamasi'] != '')]\n",
    "#test_df = test_df[test_df['Universite Not Ortalamasi'].notna() & (test_df['Universite Not Ortalamasi'] != '')]"
   ]
  },
  {
   "cell_type": "code",
   "execution_count": 452,
   "metadata": {},
   "outputs": [],
   "source": [
    "#train_df['Daha Once Baska Bir Universiteden Mezun Olmus'] = train_df['Daha Once Baska Bir Universiteden Mezun Olmus'].fillna('Hayır')\n",
    "#test_df['Daha Once Baska Bir Universiteden Mezun Olmus'] = test_df['Daha Once Baska Bir Universiteden Mezun Olmus'].fillna('Hayır')"
   ]
  },
  {
   "cell_type": "code",
   "execution_count": 453,
   "metadata": {},
   "outputs": [],
   "source": [
    "train_df = train_df[train_df['Lise Adi'].notna() & (train_df['Lise Adi'] != '')]\n",
    "#test_df = test_df[test_df['Lise Adi'].notna() & (test_df['Lise Adi'] != '')]"
   ]
  },
  {
   "cell_type": "code",
   "execution_count": 454,
   "metadata": {},
   "outputs": [],
   "source": [
    "train_df.loc[train_df['Anne Calisma Durumu'] == 'Hayır', 'Anne Sektor'] = 0\n",
    "#test_df.loc[test_df['Anne Calisma Durumu'] == 'Hayır', 'Anne Sektor'] = 0"
   ]
  },
  {
   "cell_type": "code",
   "execution_count": 455,
   "metadata": {},
   "outputs": [],
   "source": [
    "train_df.loc[train_df['Anne Calisma Durumu'] == 'Emekli', 'Anne Sektor'] = 0\n",
    "#test_df.loc[test_df['Anne Calisma Durumu'] == 'Emekli', 'Anne Sektor'] = 0"
   ]
  },
  {
   "cell_type": "code",
   "execution_count": 456,
   "metadata": {},
   "outputs": [],
   "source": [
    "# train_df['Daha Once Baska Bir Universiteden Mezun Olmus'] = train_df['Daha Once Baska Bir Universiteden Mezun Olmus'].fillna('Hayır')\n",
    "# test_df['Daha Once Baska Bir Universiteden Mezun Olmus'] = test_df['Daha Once Baska Bir Universiteden Mezun Olmus'].fillna('Hayır')"
   ]
  },
  {
   "cell_type": "code",
   "execution_count": 457,
   "metadata": {},
   "outputs": [],
   "source": [
    "train_df['Girisimcilik Kulupleri Tarzi Bir Kulube Uye misiniz?'] = train_df['Girisimcilik Kulupleri Tarzi Bir Kulube Uye misiniz?'].fillna('Hayır')\n",
    "#test_df['Girisimcilik Kulupleri Tarzi Bir Kulube Uye misiniz?'] = test_df['Girisimcilik Kulupleri Tarzi Bir Kulube Uye misiniz?'].fillna('Hayır')"
   ]
  },
  {
   "cell_type": "code",
   "execution_count": 458,
   "metadata": {},
   "outputs": [],
   "source": [
    "train_df.loc[train_df['Ingilizce Biliyor musunuz?'].isnull(), ['Ingilizce Biliyor musunuz?']] = 'Yok'\n",
    "#test_df.loc[test_df['Ingilizce Biliyor musunuz?'].isnull(), ['Ingilizce Biliyor musunuz?', 'Ingilizce Seviyeniz?']] = 'Yok'"
   ]
  },
  {
   "cell_type": "code",
   "execution_count": 459,
   "metadata": {},
   "outputs": [],
   "source": [
    "# train_df.loc[train_df['Ingilizce Biliyor musunuz?'] == 'Evet', ['Ingilizce Seviyeniz?']] = 'Baslangic'\n",
    "# test_df.loc[test_df['Ingilizce Biliyor musunuz?'] == 'Evet', ['Ingilizce Seviyeniz?']] = 'Baslangic'"
   ]
  },
  {
   "cell_type": "code",
   "execution_count": 460,
   "metadata": {},
   "outputs": [],
   "source": [
    "# train_df.loc[train_df['Ingilizce Biliyor musunuz?'] == 'Hayır', ['Ingilizce Seviyeniz?']] = 'Yok'\n",
    "# test_df.loc[test_df['Ingilizce Biliyor musunuz?'] == 'Hayır', ['Ingilizce Seviyeniz?']] = 'Yok'"
   ]
  },
  {
   "cell_type": "code",
   "execution_count": 461,
   "metadata": {},
   "outputs": [],
   "source": [
    "# train_df.loc[train_df['Daha Önceden Mezun Olunduysa, Mezun Olunan Üniversite'].isnull(), ['Daha Önceden Mezun Olunduysa, Mezun Olunan Üniversite']] = 'Yok'\n",
    "# test_df.loc[test_df['Daha Önceden Mezun Olunduysa, Mezun Olunan Üniversite'].isnull(), ['Daha Önceden Mezun Olunduysa, Mezun Olunan Üniversite']] = 'Yok'"
   ]
  },
  {
   "cell_type": "code",
   "execution_count": 462,
   "metadata": {},
   "outputs": [],
   "source": [
    "train_df = train_df[train_df['Lise Mezuniyet Notu'].notna() & (train_df['Lise Mezuniyet Notu'] != '')]\n",
    "#test_df = test_df[test_df['Lise Mezuniyet Notu'].notna() & (test_df['Lise Mezuniyet Notu'] != '')]"
   ]
  },
  {
   "cell_type": "code",
   "execution_count": 463,
   "metadata": {},
   "outputs": [],
   "source": [
    "train_df.loc[train_df['Universite Adi'] == ('MARMARA ÜNİVERSİTESİ'), ['Universite Turu']] = 'Devlet'\n",
    "train_df.loc[train_df['Universite Adi'] == ('HACETTEPE ÜNİVERSİTESİ'), ['Universite Turu']] = 'Devlet'\n",
    "train_df.loc[train_df['Universite Adi'] == ('BEYKENT ÜNİVERSİTESİ'), ['Universite Turu']] = 'Özel'\n",
    "train_df.loc[train_df['Universite Adi'] == ('VAN YÜZÜNCÜ YIL ÜNİVERSİTESİ'), ['Universite Turu']] = 'Devlet'\n",
    "# test_df.loc[test_df['Universite Adi'] == ('MARMARA ÜNİVERSİTESİ'), ['Universite Turu']] = 'Devlet'\n",
    "# test_df.loc[test_df['Universite Adi'] == ('HACETTEPE ÜNİVERSİTESİ'), ['Universite Turu']] = 'Devlet'\n",
    "# test_df.loc[test_df['Universite Adi'] == ('BEYKENT ÜNİVERSİTESİ'), ['Universite Turu']] = 'Özel'\n",
    "# test_df.loc[test_df['Universite Adi'] == ('VAN YÜZÜNCÜ YIL ÜNİVERSİTESİ'), ['Universite Turu']] = 'Devlet'"
   ]
  },
  {
   "cell_type": "code",
   "execution_count": 464,
   "metadata": {},
   "outputs": [],
   "source": [
    "#train_df.loc[train_df['Universite Turu'] == 'DEVLET', ['Burslu ise Burs Yuzdesi']]= 100.0\n",
    "# test_df.loc[test_df['Universite Turu'] == 'DEVLET', ['Burslu ise Burs Yuzdesi']]= 100.0"
   ]
  },
  {
   "cell_type": "code",
   "execution_count": 465,
   "metadata": {},
   "outputs": [],
   "source": [
    "#train_df.loc[train_df['Universite Turu'] == 'Devlet', ['Burslu ise Burs Yuzdesi']]= 100.0\n",
    "# test_df.loc[test_df['Universite Turu'] == 'Devlet', ['Burslu ise Burs Yuzdesi']]= 100.0"
   ]
  },
  {
   "cell_type": "code",
   "execution_count": 466,
   "metadata": {},
   "outputs": [],
   "source": [
    "# train_df = train_df.drop('Burslu ise Burs Yuzdesi',axis=1)"
   ]
  },
  {
   "cell_type": "code",
   "execution_count": 467,
   "metadata": {},
   "outputs": [],
   "source": [
    "train_df.loc[(train_df['Aktif olarak bir STK üyesi misiniz?'].isnull()) & \n",
    "       (train_df['Hangi STK\\'nin Uyesisiniz?']=='Yok'), \n",
    "       'Aktif olarak bir STK üyesi misiniz?'] = 'Hayır'\n",
    "# test_df.loc[(test_df['Aktif olarak bir STK üyesi misiniz?'].isnull()) & \n",
    "#        (test_df['Hangi STK\\'nin Uyesisiniz?']=='Yok'), \n",
    "#        'Aktif olarak bir STK üyesi misiniz?'] = 'Hayır'"
   ]
  },
  {
   "cell_type": "code",
   "execution_count": 468,
   "metadata": {},
   "outputs": [],
   "source": [
    "# train_df=train_df.drop(\"Hangi STK'nin Uyesisiniz?\", axis=1)\n",
    "# test_df=test_df.drop(\"Hangi STK'nin Uyesisiniz?\", axis=1)"
   ]
  },
  {
   "cell_type": "code",
   "execution_count": 469,
   "metadata": {},
   "outputs": [],
   "source": [
    "# train_df.loc[train_df['Stk Projesine Katildiniz Mi?'].isnull(), ['Stk Projesine Katildiniz Mi?']]='Hayır'\n",
    "# test_df.loc[test_df['Stk Projesine Katildiniz Mi?'].isnull(), ['Stk Projesine Katildiniz Mi?']]='Hayır'"
   ]
  },
  {
   "cell_type": "code",
   "execution_count": 470,
   "metadata": {},
   "outputs": [],
   "source": [
    "train_df.loc[train_df['Baska Bir Kurumdan Burs Aliyor mu?'].isnull(), ['Baska Bir Kurumdan Burs Aliyor mu?']]='Hayır'\n",
    "#test_df.loc[test_df['Baska Bir Kurumdan Burs Aliyor mu?'].isnull(), ['Baska Bir Kurumdan Burs Aliyor mu?']]='Hayır'"
   ]
  },
  {
   "cell_type": "code",
   "execution_count": 471,
   "metadata": {},
   "outputs": [],
   "source": [
    "# train_df=train_df.drop(\"Lise Adi Diger\", axis=1)\n",
    "# test_df=test_df.drop(\"Lise Adi Diger\", axis=1)"
   ]
  },
  {
   "cell_type": "code",
   "execution_count": 472,
   "metadata": {},
   "outputs": [],
   "source": [
    "train_df[\"Lise Turu\"]=train_df[\"Lise Turu\"].str.lower()\n",
    "test_df[\"Lise Turu\"]=test_df[\"Lise Turu\"].str.lower()"
   ]
  },
  {
   "cell_type": "code",
   "execution_count": 473,
   "metadata": {},
   "outputs": [],
   "source": [
    "# city_map = {\n",
    "#     'istanbul': 3,\n",
    "#     'ankara': 2,\n",
    "#     'izmir': 1\n",
    "# }\n",
    "\n",
    "# # Şehir değişkenini küçük harfe çevirip haritaya göre atama yapıyoruz, diğerlerini 0 yapıyoruz\n",
    "# train_df['Lise Sehir'] = train_df['Lise Sehir'].str.lower().map(city_map).fillna(0)\n",
    "# test_df['Lise Sehir'] = test_df['Lise Sehir'].str.lower().map(city_map).fillna(0)"
   ]
  },
  {
   "cell_type": "code",
   "execution_count": 474,
   "metadata": {},
   "outputs": [],
   "source": [
    "# train_df=train_df.drop(\"Lise Bolum Diger\", axis=1)\n",
    "# test_df=test_df.drop(\"Lise Bolum Diger\", axis=1)"
   ]
  },
  {
   "cell_type": "code",
   "execution_count": 475,
   "metadata": {},
   "outputs": [],
   "source": [
    "evet_hayir_emekli={'Evet':1,'Hayır':0,'Emekli':0}\n",
    "train_df['Anne Calisma Durumu'] = train_df['Anne Calisma Durumu'].map(evet_hayir_emekli).fillna(0)\n",
    "test_df['Anne Calisma Durumu'] = test_df['Anne Calisma Durumu'].map(evet_hayir_emekli).fillna(0)"
   ]
  },
  {
   "cell_type": "code",
   "execution_count": 476,
   "metadata": {},
   "outputs": [],
   "source": [
    "train_df=train_df.drop('Anne Sektor',axis=1)\n",
    "train_df=train_df.drop('Anne Egitim Durumu',axis=1)\n",
    "test_df=test_df.drop('Anne Sektor',axis=1)\n",
    "test_df=test_df.drop('Anne Egitim Durumu',axis=1)"
   ]
  },
  {
   "cell_type": "code",
   "execution_count": 477,
   "metadata": {},
   "outputs": [],
   "source": [
    "train_df=train_df.drop('Baba Sektor',axis=1)\n",
    "train_df=train_df.drop('Baba Egitim Durumu',axis=1)\n",
    "train_df['Baba Calisma Durumu'] = train_df['Baba Calisma Durumu'].map(evet_hayir_emekli).fillna(0)\n",
    "test_df=test_df.drop('Baba Sektor',axis=1)\n",
    "test_df=test_df.drop('Baba Egitim Durumu',axis=1)\n",
    "test_df['Baba Calisma Durumu'] = test_df['Baba Calisma Durumu'].map(evet_hayir_emekli).fillna(0)"
   ]
  },
  {
   "cell_type": "code",
   "execution_count": 478,
   "metadata": {},
   "outputs": [],
   "source": [
    "train_df[\"Kardes Sayisi\"]=train_df[\"Kardes Sayisi\"].fillna(0)\n",
    "test_df[\"Kardes Sayisi\"]=test_df[\"Kardes Sayisi\"].fillna(0)"
   ]
  },
  {
   "cell_type": "code",
   "execution_count": 479,
   "metadata": {},
   "outputs": [],
   "source": [
    "# train_df=train_df.drop(\"Uye Oldugunuz Kulubun Ismi\",axis=1)\n",
    "# test_df=test_df.drop(\"Uye Oldugunuz Kulubun Ismi\",axis=1)"
   ]
  },
  {
   "cell_type": "code",
   "execution_count": 480,
   "metadata": {},
   "outputs": [],
   "source": [
    "evet_hayir={'Evet':1,'Hayır':0,'evet':1,'EVET':1,'hayır':0,'HAYIR':0}\n",
    "train_df['Profesyonel Bir Spor Daliyla Mesgul musunuz?'] = train_df['Profesyonel Bir Spor Daliyla Mesgul musunuz?'].map(evet_hayir).fillna(0)\n",
    "test_df['Profesyonel Bir Spor Daliyla Mesgul musunuz?'] = test_df['Profesyonel Bir Spor Daliyla Mesgul musunuz?'].map(evet_hayir).fillna(0)"
   ]
  },
  {
   "cell_type": "code",
   "execution_count": 481,
   "metadata": {},
   "outputs": [],
   "source": [
    "train_df[\"Aktif olarak bir STK üyesi misiniz?\"]=train_df[\"Aktif olarak bir STK üyesi misiniz?\"].map(evet_hayir).fillna(0)\n",
    "test_df[\"Aktif olarak bir STK üyesi misiniz?\"]=test_df[\"Aktif olarak bir STK üyesi misiniz?\"].map(evet_hayir).fillna(0)"
   ]
  },
  {
   "cell_type": "code",
   "execution_count": 482,
   "metadata": {},
   "outputs": [],
   "source": [
    "train_df.loc[(train_df['Aktif olarak bir STK üyesi misiniz?']==0) & \n",
    "       (train_df['Hangi STK\\'nin Uyesisiniz?'].isnull()), \n",
    "       'Hangi STK\\'nin Uyesisiniz?'] = '-'"
   ]
  },
  {
   "cell_type": "code",
   "execution_count": 483,
   "metadata": {},
   "outputs": [],
   "source": [
    "train_df = train_df[train_df['Hangi STK\\'nin Uyesisiniz?'].notna() & (train_df['Hangi STK\\'nin Uyesisiniz?'] != '')]\n"
   ]
  },
  {
   "cell_type": "code",
   "execution_count": 484,
   "metadata": {},
   "outputs": [],
   "source": [
    "# train_df[\"Stk Projesine Katildiniz Mi?\"]=train_df[\"Stk Projesine Katildiniz Mi?\"].map(evet_hayir)\n",
    "train_df[\"Girisimcilikle Ilgili Deneyiminiz Var Mi?\"]=train_df[\"Girisimcilikle Ilgili Deneyiminiz Var Mi?\"].map(evet_hayir).fillna(0)\n",
    "train_df=train_df.drop(\"Girisimcilikle Ilgili Deneyiminizi Aciklayabilir misiniz?\",axis=1)\n",
    "# test_df[\"Stk Projesine Katildiniz Mi?\"]=test_df[\"Stk Projesine Katildiniz Mi?\"].map(evet_hayir)\n",
    "test_df[\"Girisimcilikle Ilgili Deneyiminiz Var Mi?\"]=test_df[\"Girisimcilikle Ilgili Deneyiminiz Var Mi?\"].map(evet_hayir).fillna(0)\n",
    "test_df=test_df.drop(\"Girisimcilikle Ilgili Deneyiminizi Aciklayabilir misiniz?\",axis=1)"
   ]
  },
  {
   "cell_type": "code",
   "execution_count": 485,
   "metadata": {},
   "outputs": [],
   "source": [
    "train_df[\"Ingilizce Biliyor musunuz?\"]=train_df[\"Ingilizce Biliyor musunuz?\"].map(evet_hayir).fillna(0)\n",
    "test_df[\"Ingilizce Biliyor musunuz?\"]=test_df[\"Ingilizce Biliyor musunuz?\"].map(evet_hayir).fillna(0)"
   ]
  },
  {
   "cell_type": "code",
   "execution_count": 486,
   "metadata": {},
   "outputs": [],
   "source": [
    "train_df[\"Girisimcilik Kulupleri Tarzi Bir Kulube Uye misiniz?\"]=train_df[\"Girisimcilik Kulupleri Tarzi Bir Kulube Uye misiniz?\"].map(evet_hayir)\n",
    "test_df[\"Girisimcilik Kulupleri Tarzi Bir Kulube Uye misiniz?\"]=test_df[\"Girisimcilik Kulupleri Tarzi Bir Kulube Uye misiniz?\"].map(evet_hayir)"
   ]
  },
  {
   "cell_type": "code",
   "execution_count": 487,
   "metadata": {},
   "outputs": [],
   "source": [
    "train_df=train_df.drop(\"Baska Kurumdan Aldigi Burs Miktari\",axis=1)\n",
    "test_df=test_df.drop(\"Baska Kurumdan Aldigi Burs Miktari\",axis=1)"
   ]
  },
  {
   "cell_type": "code",
   "execution_count": 488,
   "metadata": {},
   "outputs": [],
   "source": [
    "train_df=train_df.drop(\"Burs Aldigi Baska Kurum\",axis=1)\n",
    "test_df=test_df.drop(\"Burs Aldigi Baska Kurum\",axis=1)"
   ]
  },
  {
   "cell_type": "code",
   "execution_count": 489,
   "metadata": {},
   "outputs": [],
   "source": [
    "train_df[\"Baska Bir Kurumdan Burs Aliyor mu?\"]=train_df[\"Baska Bir Kurumdan Burs Aliyor mu?\"].map(evet_hayir)\n",
    "test_df[\"Baska Bir Kurumdan Burs Aliyor mu?\"]=test_df[\"Baska Bir Kurumdan Burs Aliyor mu?\"].map(evet_hayir)"
   ]
  },
  {
   "cell_type": "code",
   "execution_count": 490,
   "metadata": {},
   "outputs": [],
   "source": [
    "train_df[\"Burs Aliyor mu?\"]=train_df[\"Burs Aliyor mu?\"].map(evet_hayir)\n",
    "test_df[\"Burs Aliyor mu?\"]=test_df[\"Burs Aliyor mu?\"].map(evet_hayir)"
   ]
  },
  {
   "cell_type": "code",
   "execution_count": 491,
   "metadata": {},
   "outputs": [],
   "source": [
    "uni_not_mapping = {'ORTALAMA BULUNMUYOR': 0, 'Not ortalaması yok': 0, 'Ortalama bulunmuyor': 0,'Hazırlığım': 0,'0':0,\n",
    "                   '0 - 1.79': 0,'1.00 - 2.50':1,'1.80 - 2.49':1,'2.50 ve altı':1,'2.00 - 2.50':1,\"3.00-2.50\":2,\n",
    "                   \"2.50 - 3.00\":2,\"2.50 - 2.99\":2,'2.50 -3.00':2,'3.00 - 3.50':3,'3.50-3':3,'3.00 - 3.49':3,'3.00 - 4.00':3,'3.50 - 4.00':4,'4-3.5':4,'4.0-3.5':4}"
   ]
  },
  {
   "cell_type": "code",
   "execution_count": 492,
   "metadata": {},
   "outputs": [],
   "source": [
    "train_df[\"Universite Not Ortalamasi\"]=train_df[\"Universite Not Ortalamasi\"].map(uni_not_mapping)\n",
    "test_df[\"Universite Not Ortalamasi\"]=test_df[\"Universite Not Ortalamasi\"].map(uni_not_mapping)"
   ]
  },
  {
   "cell_type": "code",
   "execution_count": 493,
   "metadata": {},
   "outputs": [],
   "source": [
    "train_df[\"Universite Not Ortalamasi\"]=train_df[\"Universite Not Ortalamasi\"].fillna(0)\n",
    "test_df[\"Universite Not Ortalamasi\"]=test_df[\"Universite Not Ortalamasi\"].fillna(0)"
   ]
  },
  {
   "cell_type": "code",
   "execution_count": 494,
   "metadata": {},
   "outputs": [],
   "source": [
    "# train_df[\"Daha Once Baska Bir Universiteden Mezun Olmus\"]=train_df[\"Daha Once Baska Bir Universiteden Mezun Olmus\"].map(evet_hayir)\n",
    "# test_df[\"Daha Once Baska Bir Universiteden Mezun Olmus\"]=test_df[\"Daha Once Baska Bir Universiteden Mezun Olmus\"].map(evet_hayir)"
   ]
  },
  {
   "cell_type": "code",
   "execution_count": 495,
   "metadata": {},
   "outputs": [],
   "source": [
    "lise_mapping = {'anadolu lisesi':0,'diğer':0,'devlet':0,'düz lise':0,'özel':1,'meslek lisesi':2,'fen lisesi':3,'meslek':2,'özel lisesi':1,'imam hatip lisesi':4}"
   ]
  },
  {
   "cell_type": "code",
   "execution_count": 496,
   "metadata": {},
   "outputs": [],
   "source": [
    "train_df[\"Lise Turu\"]=train_df[\"Lise Turu\"].map(lise_mapping)\n",
    "test_df[\"Lise Turu\"]=test_df[\"Lise Turu\"].map(lise_mapping)"
   ]
  },
  {
   "cell_type": "code",
   "execution_count": 497,
   "metadata": {},
   "outputs": [],
   "source": [
    "train_df[\"Lise Turu\"]=train_df[\"Lise Turu\"].fillna(0)\n",
    "test_df[\"Lise Turu\"]=test_df[\"Lise Turu\"].fillna(0)"
   ]
  },
  {
   "cell_type": "code",
   "execution_count": 498,
   "metadata": {},
   "outputs": [],
   "source": [
    "lisetürü=train_df[\"Lise Bolumu\"].value_counts()"
   ]
  },
  {
   "cell_type": "code",
   "execution_count": 499,
   "metadata": {},
   "outputs": [],
   "source": [
    "cinsiyet_mapping = {'kadın':0,'Kadın':0,'Erkek':1,'erkek':1,'ERKEK':1,'Belirtmek istemiyorum':2}"
   ]
  },
  {
   "cell_type": "code",
   "execution_count": 500,
   "metadata": {},
   "outputs": [],
   "source": [
    "train_df['Cinsiyet'] = train_df['Cinsiyet'].map(cinsiyet_mapping)\n",
    "test_df['Cinsiyet'] = test_df['Cinsiyet'].map(cinsiyet_mapping)"
   ]
  },
  {
   "cell_type": "code",
   "execution_count": 501,
   "metadata": {},
   "outputs": [],
   "source": [
    "# train_df.loc[(train_df['Universite Turu'] == 'Devlet') & (train_df['Universite Turu'] == 'devlet') & (train_df['Universite Turu'] == 'DEVLET'), 'Burslu ise Burs Yuzdesi'] = 100\n",
    "# test_df.loc[(test_df['Universite Turu'] == 'Devlet') & (test_df['Universite Turu'] == 'devlet') & (test_df['Universite Turu'] == 'DEVLET'), 'Burslu ise Burs Yuzdesi'] = 100"
   ]
  },
  {
   "cell_type": "code",
   "execution_count": 502,
   "metadata": {},
   "outputs": [],
   "source": [
    "train_df.loc[train_df['Universite Adi'] == ('AFYON KOCATEPE ÜNİVERSİTESİ'), ['Universite Turu']] = 'Devlet'\n",
    "train_df.loc[train_df['Universite Adi'] == ('AKDENİZ ÜNİVERSİTESİ'), ['Universite Turu']] = 'Devlet'\n",
    "train_df.loc[train_df['Universite Adi'] == ('BAHÇEŞEHİR ÜNİVERSİTESİ'), ['Universite Turu']] = 'Özel'\n",
    "train_df.loc[train_df['Universite Adi'] == ('ANKARA YILDIRIM BEYAZIT ÜNİVERSİTESİ'), ['Universite Turu']] = 'Devlet'\n",
    "\n",
    "# test_df.loc[test_df['Universite Adi'] == ('AFYON KOCATEPE ÜNİVERSİTESİ'), ['Universite Turu']] = 'Devlet'\n",
    "# test_df.loc[test_df['Universite Adi'] == ('AKDENİZ ÜNİVERSİTESİ'), ['Universite Turu']] = 'Devlet'\n",
    "# test_df.loc[test_df['Universite Adi'] == ('BAHÇEŞEHİR ÜNİVERSİTESİ'), ['Universite Turu']] = 'Özel'\n",
    "# test_df.loc[test_df['Universite Adi'] == ('ANKARA YILDIRIM BEYAZIT ÜNİVERSİTESİ'), ['Universite Turu']] = 'Devlet'"
   ]
  },
  {
   "cell_type": "code",
   "execution_count": 503,
   "metadata": {},
   "outputs": [],
   "source": [
    "train_df.loc[train_df['Universite Adi'] == ('TRAKYA ÜNİVERSİTESİ'), ['Universite Turu']] = 'Devlet'\n",
    "train_df.loc[train_df['Universite Adi'] == ('SELÇUK ÜNİVERSİTESİ'), ['Universite Turu']] = 'Devlet'\n",
    "train_df.loc[train_df['Universite Adi'] == ('BAŞKENT ÜNİVERSİTESİ'), ['Universite Turu']] = 'Özel'\n",
    "train_df.loc[train_df['Universite Adi'] == ('ÇUKUROVA ÜNİVERSİTESİ'), ['Universite Turu']] = 'Devlet'\n",
    "\n",
    "# test_df.loc[test_df['Universite Adi'] == ('TRAKYA ÜNİVERSİTESİ'), ['Universite Turu']] = 'Devlet'\n",
    "# test_df.loc[test_df['Universite Adi'] == ('SELÇUK ÜNİVERSİTESİ'), ['Universite Turu']] = 'Devlet'\n",
    "# test_df.loc[test_df['Universite Adi'] == ('BAŞKENT ÜNİVERSİTESİ'), ['Universite Turu']] = 'Özel'\n",
    "# test_df.loc[test_df['Universite Adi'] == ('ÇUKUROVA ÜNİVERSİTESİ'), ['Universite Turu']] = 'Devlet'"
   ]
  },
  {
   "cell_type": "code",
   "execution_count": 504,
   "metadata": {},
   "outputs": [],
   "source": [
    "train_df.loc[train_df['Universite Adi'] == ('GAZİ ÜNİVERSİTESİ'), ['Universite Turu']] = 'Devlet'\n",
    "train_df.loc[train_df['Universite Adi'] == ('YILDIZ TEKNİK ÜNİVERSİTESİ'), ['Universite Turu']] = 'Devlet'\n",
    "train_df.loc[train_df['Universite Adi'] == ('İSTANBUL AREL ÜNİVERSİTESİ'), ['Universite Turu']] = 'Özel'\n",
    "train_df.loc[train_df['Universite Adi'] == ('İSTANBUL AYDIN ÜNİVERSİTESİ'), ['Universite Turu']] = 'Özel'\n",
    "train_df.loc[train_df['Universite Adi'] == ('ÖZYEĞİN ÜNİVERSİTESİ'), ['Universite Turu']] = 'Özel'\n",
    "train_df.loc[train_df['Universite Adi'] == ('BURSA ULUDAĞ ÜNİVERSİTESİ'), ['Universite Turu']] = 'Devlet'\n",
    "train_df.loc[train_df['Universite Adi'] == ('BOĞAZİÇİ ÜNİVERSİTESİ'), ['Universite Turu']] = 'Devlet'\n",
    "\n",
    "# test_df.loc[test_df['Universite Adi'] == ('GAZİ ÜNİVERSİTESİ'), ['Universite Turu']] = 'Devlet'\n",
    "# test_df.loc[test_df['Universite Adi'] == ('YILDIZ TEKNİK ÜNİVERSİTESİ'), ['Universite Turu']] = 'Devlet'\n",
    "# test_df.loc[test_df['Universite Adi'] == ('İSTANBUL AREL ÜNİVERSİTESİ'), ['Universite Turu']] = 'Özel'\n",
    "# test_df.loc[test_df['Universite Adi'] == ('İSTANBUL AYDIN ÜNİVERSİTESİ'), ['Universite Turu']] = 'Özel'\n",
    "# test_df.loc[test_df['Universite Adi'] == ('ÖZYEĞİN ÜNİVERSİTESİ'), ['Universite Turu']] = 'Özel'\n",
    "# test_df.loc[test_df['Universite Adi'] == ('BURSA ULUDAĞ ÜNİVERSİTESİ'), ['Universite Turu']] = 'Devlet'\n",
    "# test_df.loc[test_df['Universite Adi'] == ('BOĞAZİÇİ ÜNİVERSİTESİ'), ['Universite Turu']] = 'Devlet'"
   ]
  },
  {
   "cell_type": "code",
   "execution_count": 505,
   "metadata": {},
   "outputs": [],
   "source": [
    "train_df.loc[train_df['Universite Adi'] == ('BİLECİK ŞEYH EDEBALİ ÜNİVERSİTESİ'), ['Universite Turu']] = 'Devlet'\n",
    "train_df.loc[train_df['Universite Adi'] == ('DOKUZ EYLÜL ÜNİVERSİTESİ'), ['Universite Turu']] = 'Devlet'\n",
    "train_df.loc[train_df['Universite Adi'] == ('DOĞUŞ ÜNİVERSİTESİ'), ['Universite Turu']] = 'Özel'\n",
    "train_df.loc[train_df['Universite Adi'] == ('MEF ÜNİVERSİTESİ'), ['Universite Turu']] = 'Özel'\n",
    "train_df.loc[train_df['Universite Adi'] == ('YEDİTEPE ÜNİVERSİTESİ'), ['Universite Turu']] = 'Özel'\n",
    "train_df.loc[train_df['Universite Adi'] == ('EGE ÜNİVERSİTESİ'), ['Universite Turu']] = 'Devlet'\n",
    "train_df.loc[train_df['Universite Adi'] == ('BOĞAZİÇİ ÜNİVERSİTESİ'), ['Universite Turu']] = 'Devlet'\n",
    "\n",
    "# test_df.loc[test_df['Universite Adi'] == ('BİLECİK ŞEYH EDEBALİ ÜNİVERSİTESİ'), ['Universite Turu']] = 'Devlet'\n",
    "# test_df.loc[test_df['Universite Adi'] == ('DOKUZ EYLÜL ÜNİVERSİTESİ'), ['Universite Turu']] = 'Devlet'\n",
    "# test_df.loc[test_df['Universite Adi'] == ('DOĞUŞ ÜNİVERSİTESİ'), ['Universite Turu']] = 'Özel'\n",
    "# test_df.loc[test_df['Universite Adi'] == ('MEF ÜNİVERSİTESİ'), ['Universite Turu']] = 'Özel'\n",
    "# test_df.loc[test_df['Universite Adi'] == ('YEDİTEPE ÜNİVERSİTESİ'), ['Universite Turu']] = 'Özel'\n",
    "# test_df.loc[test_df['Universite Adi'] == ('EGE ÜNİVERSİTESİ'), ['Universite Turu']] = 'Devlet'\n",
    "# test_df.loc[test_df['Universite Adi'] == ('BOĞAZİÇİ ÜNİVERSİTESİ'), ['Universite Turu']] = 'Devlet'"
   ]
  },
  {
   "cell_type": "code",
   "execution_count": 506,
   "metadata": {},
   "outputs": [],
   "source": [
    "train_df.loc[train_df['Universite Adi'] == ('İSTANBUL TEKNİK ÜNİVERSİTESİ'), ['Universite Turu']] = 'Devlet'\n",
    "train_df.loc[train_df['Universite Adi'] == ('TOKAT GAZİOSMANPAŞA ÜNİVERSİTESİ'), ['Universite Turu']] = 'Devlet'\n",
    "train_df.loc[train_df['Universite Adi'] == ('HASAN KALYONCU ÜNİVERSİTESİ'), ['Universite Turu']] = 'Özel'\n",
    "train_df.loc[train_df['Universite Adi'] == ('SİVAS CUMHURİYET ÜNİVERSİTESİ'), ['Universite Turu']] = 'Devlet'\n",
    "train_df.loc[train_df['Universite Adi'] == ('YOZGAT BOZOK ÜNİVERSİTESİ'), ['Universite Turu']] = 'Devlet'\n",
    "train_df.loc[train_df['Universite Adi'] == ('AYDIN ADNAN MENDERES'), ['Universite Turu']] = 'Devlet'\n",
    "train_df.loc[train_df['Universite Adi'] == ('ARDAHAN ÜNİVERSİTESİ'), ['Universite Turu']] = 'Devlet'\n",
    "train_df.loc[train_df['Universite Adi'] == ('ATATÜRK ÜNİVERSİTESİ'), ['Universite Turu']] = 'Devlet'\n",
    "train_df.loc[train_df['Universite Adi'] == ('DİCLE ÜNİVERSİTESİ'), ['Universite Turu']] = 'Devlet'\n",
    "train_df.loc[train_df['Universite Adi'] == ('ERCİYES ÜNİVERSİTESİ'), ['Universite Turu']] = 'Devlet'\n",
    "train_df.loc[train_df['Universite Adi'] == ('ERZURUM TEKNİK ÜNİVERSİTESİ'), ['Universite Turu']] = 'Devlet'\n",
    "train_df.loc[train_df['Universite Adi'] == ('GÜMÜŞHANE ÜNİVERSİTESİ'), ['Universite Turu']] = 'Devlet'\n",
    "train_df.loc[train_df['Universite Adi'] == ('KARABÜK ÜNİVERSİTESİ'), ['Universite Turu']] = 'Devlet'\n",
    "train_df.loc[train_df['Universite Adi'] == ('KASTAMONU ÜNİVERSİTESİ'), ['Universite Turu']] = 'Devlet'\n",
    "train_df.loc[train_df['Universite Adi'] == ('KIRŞEHİR AHİ EVRAN ÜNİVERSİTESİ'), ['Universite Turu']] = 'Devlet'\n",
    "train_df.loc[train_df['Universite Adi'] == ('KOCAELİ ÜNİVERSİTESİ'), ['Universite Turu']] = 'Devlet'\n",
    "train_df.loc[train_df['Universite Adi'] == ('MARDİN ARTUKLU ÜNİVERSİTESİ'), ['Universite Turu']] = 'Devlet'\n",
    "train_df.loc[train_df['Universite Adi'] == ('MEHMET AKİF ERSOY ÜNİVERSİTESİ'), ['Universite Turu']] = 'Devlet'\n",
    "train_df.loc[train_df['Universite Adi'] == ('MERSİN ÜNİVERSİTESİ'), ['Universite Turu']] = 'Devlet'\n",
    "train_df.loc[train_df['Universite Adi'] == ('MUĞLA SITKI KOÇMAN ÜNİVERSİTESİ'), ['Universite Turu']] = 'Devlet'\n",
    "\n",
    "\n",
    "\n",
    "\n",
    "\n",
    "# test_df.loc[test_df['Universite Adi'] == ('İSTANBUL TEKNİK ÜNİVERSİTESİ'), ['Universite Turu']] = 'Devlet'\n",
    "# test_df.loc[test_df['Universite Adi'] == ('TOKAT GAZİOSMANPAŞA ÜNİVERSİTESİ'), ['Universite Turu']] = 'Devlet'\n",
    "# test_df.loc[test_df['Universite Adi'] == ('HASAN KALYONCU ÜNİVERSİTESİ'), ['Universite Turu']] = 'Özel'\n",
    "# test_df.loc[test_df['Universite Adi'] == ('SİVAS CUMHURİYET ÜNİVERSİTESİ'), ['Universite Turu']] = 'Devlet'\n",
    "# test_df.loc[test_df['Universite Adi'] == ('YOZGAT BOZOK ÜNİVERSİTESİ'), ['Universite Turu']] = 'Devlet'\n",
    "# test_df.loc[test_df['Universite Adi'] == ('AYDIN ADNAN MENDERES'), ['Universite Turu']] = 'Devlet'\n",
    "# test_df.loc[test_df['Universite Adi'] == ('ARDAHAN ÜNİVERSİTESİ'), ['Universite Turu']] = 'Devlet'\n",
    "# test_df.loc[test_df['Universite Adi'] == ('ATATÜRK ÜNİVERSİTESİ'), ['Universite Turu']] = 'Devlet'\n",
    "# test_df.loc[test_df['Universite Adi'] == ('DİCLE ÜNİVERSİTESİ'), ['Universite Turu']] = 'Devlet'\n",
    "# test_df.loc[test_df['Universite Adi'] == ('ERCİYES ÜNİVERSİTESİ'), ['Universite Turu']] = 'Devlet'\n",
    "# test_df.loc[test_df['Universite Adi'] == ('ERZURUM TEKNİK ÜNİVERSİTESİ'), ['Universite Turu']] = 'Devlet'\n",
    "# test_df.loc[test_df['Universite Adi'] == ('GÜMÜŞHANE ÜNİVERSİTESİ'), ['Universite Turu']] = 'Devlet'\n",
    "# test_df.loc[test_df['Universite Adi'] == ('KARABÜK ÜNİVERSİTESİ'), ['Universite Turu']] = 'Devlet'\n",
    "# test_df.loc[test_df['Universite Adi'] == ('KASTAMONU ÜNİVERSİTESİ'), ['Universite Turu']] = 'Devlet'\n",
    "# test_df.loc[test_df['Universite Adi'] == ('KIRŞEHİR AHİ EVRAN ÜNİVERSİTESİ'), ['Universite Turu']] = 'Devlet'\n",
    "# test_df.loc[test_df['Universite Adi'] == ('KOCAELİ ÜNİVERSİTESİ'), ['Universite Turu']] = 'Devlet'\n",
    "# test_df.loc[test_df['Universite Adi'] == ('MARDİN ARTUKLU ÜNİVERSİTESİ'), ['Universite Turu']] = 'Devlet'\n",
    "# test_df.loc[test_df['Universite Adi'] == ('MEHMET AKİF ERSOY ÜNİVERSİTESİ'), ['Universite Turu']] = 'Devlet'\n",
    "# test_df.loc[test_df['Universite Adi'] == ('MERSİN ÜNİVERSİTESİ'), ['Universite Turu']] = 'Devlet'\n",
    "# test_df.loc[test_df['Universite Adi'] == ('MUĞLA SITKI KOÇMAN ÜNİVERSİTESİ'), ['Universite Turu']] = 'Devlet'"
   ]
  },
  {
   "cell_type": "code",
   "execution_count": 507,
   "metadata": {},
   "outputs": [],
   "source": [
    "train_df.loc[train_df['Universite Adi'] == ('İSTANBUL ÜNİVERSİTESİ'), ['Universite Turu']] = 'Devlet'\n",
    "train_df.loc[train_df['Universite Adi'] == ('İSTANBUL ÜNİVERSİTESİ-'), ['Universite Turu']] = 'Devlet'\n",
    "train_df.loc[train_df['Universite Adi'] == ('NECMETTİN ERBAKAN ÜNİVERSİTESİ'), ['Universite Turu']] = 'Devlet'\n",
    "train_df.loc[train_df['Universite Adi'] == ('ESKİŞEHİR TEKNİK ÜNİVERSİTESİ'), ['Universite Turu']] = 'Özel'\n",
    "train_df.loc[train_df['Universite Adi'] == ('MUŞ ALPARSLAN ÜNİVERSİTESİ'), ['Universite Turu']] = 'Devlet'\n",
    "train_df.loc[train_df['Universite Adi'] == ('NUH NACİ YAZGAN ÜNİVERSİTESİ'), ['Universite Turu']] = 'Özel'\n",
    "train_df.loc[train_df['Universite Adi'] == ('ONDOKUZ MAYIS ÜNİVERSİTESİ'), ['Universite Turu']] = 'Devlet'\n",
    "train_df.loc[train_df['Universite Adi'] == ('SİNOP ÜNİVERSİTESİ'), ['Universite Turu']] = 'Devlet'\n",
    "train_df.loc[train_df['Universite Adi'] == ('SİİRT ÜNİVERSİTESİ'), ['Universite Turu']] = 'Devlet'\n",
    "train_df.loc[train_df['Universite Adi'] == ('TEKİRDAĞ NAMIK KEMAL ÜNİVERSİTESİ'), ['Universite Turu']] = 'Devlet'\n",
    "train_df.loc[train_df['Universite Adi'] == ('YALOVA ÜNİVERSİTESİ'), ['Universite Turu']] = 'Devlet'\n",
    "train_df.loc[train_df['Universite Adi'] == ('ÇANAKKALE ONSEKİZ MART ÜNİVERSİTESİ'), ['Universite Turu']] = 'Devlet'\n",
    "\n",
    "\n",
    "# test_df.loc[test_df['Universite Adi'] == ('İSTANBUL ÜNİVERSİTESİ'), ['Universite Turu']] = 'Devlet'\n",
    "# test_df.loc[test_df['Universite Adi'] == ('İSTANBUL ÜNİVERSİTESİ-'), ['Universite Turu']] = 'Devlet'\n",
    "# test_df.loc[test_df['Universite Adi'] == ('NECMETTİN ERBAKAN ÜNİVERSİTESİ'), ['Universite Turu']] = 'Devlet'\n",
    "# test_df.loc[test_df['Universite Adi'] == ('ESKİŞEHİR TEKNİK ÜNİVERSİTESİ'), ['Universite Turu']] = 'Özel'\n",
    "# test_df.loc[test_df['Universite Adi'] == ('MUŞ ALPARSLAN ÜNİVERSİTESİ'), ['Universite Turu']] = 'Devlet'\n",
    "# test_df.loc[test_df['Universite Adi'] == ('NUH NACİ YAZGAN ÜNİVERSİTESİ'), ['Universite Turu']] = 'Özel'\n",
    "# test_df.loc[test_df['Universite Adi'] == ('ONDOKUZ MAYIS ÜNİVERSİTESİ'), ['Universite Turu']] = 'Devlet'\n",
    "# test_df.loc[test_df['Universite Adi'] == ('SİNOP ÜNİVERSİTESİ'), ['Universite Turu']] = 'Devlet'\n",
    "# test_df.loc[test_df['Universite Adi'] == ('SİİRT ÜNİVERSİTESİ'), ['Universite Turu']] = 'Devlet'\n",
    "# test_df.loc[test_df['Universite Adi'] == ('TEKİRDAĞ NAMIK KEMAL ÜNİVERSİTESİ'), ['Universite Turu']] = 'Devlet'\n",
    "# test_df.loc[test_df['Universite Adi'] == ('YALOVA ÜNİVERSİTESİ'), ['Universite Turu']] = 'Devlet'\n",
    "# test_df.loc[test_df['Universite Adi'] == ('ÇANAKKALE ONSEKİZ MART ÜNİVERSİTESİ'), ['Universite Turu']] = 'Devlet'"
   ]
  },
  {
   "cell_type": "code",
   "execution_count": 508,
   "metadata": {},
   "outputs": [],
   "source": [
    "train_df.loc[train_df['Universite Adi'] == ('İZMİR BAKIRÇAY ÜNİVERSİTESİ'), ['Universite Turu']] = 'Devlet'\n",
    "train_df.loc[train_df['Universite Adi'] == ('İZMİR YÜKSEK TEKNOLOJİ ENSTİTÜSÜ'), ['Universite Turu']] = 'Devlet'\n",
    "train_df.loc[train_df['Universite Adi'] == ('SAĞLIK BİLİMLERİ ÜNİVERSİTESİ'), ['Universite Turu']] = 'Devlet'\n",
    "\n",
    "# test_df.loc[test_df['Universite Adi'] == ('İZMİR BAKIRÇAY ÜNİVERSİTESİ'), ['Universite Turu']] = 'Devlet'\n",
    "# test_df.loc[test_df['Universite Adi'] == ('İZMİR YÜKSEK TEKNOLOJİ ENSTİTÜSÜ'), ['Universite Turu']] = 'Devlet'\n",
    "# test_df.loc[test_df['Universite Adi'] == ('SAĞLIK BİLİMLERİ ÜNİVERSİTESİ'), ['Universite Turu']] = 'Devlet'\n",
    "\n"
   ]
  },
  {
   "cell_type": "code",
   "execution_count": 509,
   "metadata": {},
   "outputs": [],
   "source": [
    "train_df.loc[(train_df['Universite Turu'].isnull()) , 'Universite Turu'] = 'Özel'\n",
    "# test_df.loc[(test_df['Universite Turu'].isnull()) , 'Universite Turu'] = 'Özel'"
   ]
  },
  {
   "cell_type": "code",
   "execution_count": 510,
   "metadata": {},
   "outputs": [],
   "source": [
    "# train_df = train_df[train_df['Universite Adi'] != 'Diğer']\n",
    "# test_df = test_df[test_df['Universite Adi'] != 'Diğer']"
   ]
  },
  {
   "cell_type": "code",
   "execution_count": 511,
   "metadata": {},
   "outputs": [
    {
     "data": {
      "text/plain": [
       "Universite Turu\n",
       "Devlet    37738\n",
       "Özel       7360\n",
       "DEVLET     6509\n",
       "ÖZEL       1952\n",
       "Name: count, dtype: int64"
      ]
     },
     "execution_count": 511,
     "metadata": {},
     "output_type": "execute_result"
    }
   ],
   "source": [
    "train_df['Universite Turu'].value_counts()"
   ]
  },
  {
   "cell_type": "code",
   "execution_count": 512,
   "metadata": {},
   "outputs": [],
   "source": [
    "universite_tur_mapping = {'Devlet':1,'DEVLET':1,'Özel':0,'ÖZEL':0}"
   ]
  },
  {
   "cell_type": "code",
   "execution_count": 513,
   "metadata": {},
   "outputs": [],
   "source": [
    "train_df['Universite Turu'] = train_df['Universite Turu'].map(universite_tur_mapping)\n",
    "test_df['Universite Turu'] = test_df['Universite Turu'].map(universite_tur_mapping)"
   ]
  },
  {
   "cell_type": "code",
   "execution_count": 514,
   "metadata": {},
   "outputs": [],
   "source": [
    "# train_df.loc[(train_df['Universite Turu']==1) , 'Burslu ise Burs Yuzdesi'] = 100\n",
    "# test_df.loc[(test_df['Universite Turu']==1) , 'Burslu ise Burs Yuzdesi'] = 100"
   ]
  },
  {
   "cell_type": "code",
   "execution_count": 515,
   "metadata": {},
   "outputs": [],
   "source": [
    "# train_df.loc[(train_df['Universite Turu']==0) & (train_df['Burslu ise Burs Yuzdesi'].isnull()), 'Burslu ise Burs Yuzdesi'] = 0\n",
    "# test_df.loc[(test_df['Universite Turu']==0) & (test_df['Burslu ise Burs Yuzdesi'].isnull()), 'Burslu ise Burs Yuzdesi'] = 0"
   ]
  },
  {
   "cell_type": "code",
   "execution_count": 516,
   "metadata": {},
   "outputs": [],
   "source": [
    "train_df.loc[train_df['Lise Bolumu'].str.contains('Fen', case=False, na=False), 'Lise Bolumu'] = 'Sayısal'\n",
    "train_df.loc[train_df['Lise Bolumu'].str.contains('Sayısal', case=False, na=False), 'Lise Bolumu'] = 'Sayısal'\n",
    "train_df.loc[train_df['Lise Bolumu'].str.contains('Sayisal', case=False, na=False), 'Lise Bolumu'] = 'Sayısal'\n",
    "train_df.loc[train_df['Lise Bolumu'].str.contains('mf', case=False, na=False), 'Lise Bolumu'] = 'Sayısal'"
   ]
  },
  {
   "cell_type": "code",
   "execution_count": 517,
   "metadata": {},
   "outputs": [],
   "source": [
    "train_df.loc[train_df['Lise Bolumu'].str.contains('eşit', case=False, na=False), 'Lise Bolumu'] = 'Eşit Ağırlık'\n",
    "train_df.loc[train_df['Lise Bolumu'].str.contains('esıt', case=False, na=False), 'Lise Bolumu'] = 'Eşit Ağırlık'\n",
    "train_df.loc[train_df['Lise Bolumu'].str.contains('Türkçe-Matematik', case=False, na=False), 'Lise Bolumu'] = 'Eşit Ağırlık'\n",
    "train_df.loc[train_df['Lise Bolumu'].str.contains('Türkçe - Matematik', case=False, na=False), 'Lise Bolumu'] = 'Eşit Ağırlık'\n",
    "train_df.loc[train_df['Lise Bolumu'].str.contains('TÜRKÇE /MATEMATİK', case=False, na=False), 'Lise Bolumu'] = 'Eşit Ağırlık'\n",
    "train_df.loc[train_df['Lise Bolumu'].str.contains('Türkçe- Matematik', case=False, na=False), 'Lise Bolumu'] = 'Eşit Ağırlık'\n",
    "train_df.loc[train_df['Lise Bolumu'].str.contains('Türkçe Matematik', case=False, na=False), 'Lise Bolumu'] = 'Eşit Ağırlık'\n",
    "train_df.loc[train_df['Lise Bolumu'].str.contains('TM', case=False, na=False), 'Lise Bolumu'] = 'Eşit Ağırlık'"
   ]
  },
  {
   "cell_type": "code",
   "execution_count": 518,
   "metadata": {},
   "outputs": [],
   "source": [
    "train_df.loc[train_df['Lise Bolumu'].str.contains('söz', case=False, na=False), 'Lise Bolumu'] = 'Sözel'\n",
    "train_df.loc[train_df['Lise Bolumu'].str.contains('sosyal', case=False, na=False), 'Lise Bolumu'] = 'Sözel'\n",
    "train_df.loc[train_df['Lise Bolumu'].str.contains('ts', case=False, na=False), 'Lise Bolumu'] = 'Sözel'"
   ]
  },
  {
   "cell_type": "code",
   "execution_count": 519,
   "metadata": {},
   "outputs": [],
   "source": [
    "train_df.loc[train_df['Lise Bolumu'].str.contains('yabancı', case=False, na=False), 'Lise Bolumu'] = 'Dil'\n",
    "train_df.loc[train_df['Lise Bolumu'].str.contains('dil', case=False, na=False), 'Lise Bolumu'] = 'Dil'\n",
    "train_df.loc[train_df['Lise Bolumu'].str.contains('dıl', case=False, na=False), 'Lise Bolumu'] = 'Dil'\n",
    "\n",
    "\n",
    "\n"
   ]
  },
  {
   "cell_type": "code",
   "execution_count": 520,
   "metadata": {},
   "outputs": [],
   "source": [
    "# Türkçe karakterleri İngilizce karakterlere çeviren fonksiyon\n",
    "def convert_characters(text):\n",
    "    # Karakter dönüşüm tablosu\n",
    "    turkish_to_english = str.maketrans(\"çğıöşüÇĞİÖŞÜ\", \"cgiosuCGIOSU\")\n",
    "    \n",
    "    # Küçük harfe çevir, Türkçe karakterleri dönüştür ve boşlukları kaldır\n",
    "    return text.lower().translate(turkish_to_english).replace(\" \", \"\")"
   ]
  },
  {
   "cell_type": "code",
   "execution_count": 521,
   "metadata": {},
   "outputs": [],
   "source": [
    "train_df['Lise Adi'] = train_df['Lise Adi'].apply(convert_characters)\n",
    "test_df['Lise Adi'] = test_df['Lise Adi'].apply(convert_characters)"
   ]
  },
  {
   "cell_type": "code",
   "execution_count": 522,
   "metadata": {},
   "outputs": [],
   "source": [
    "train_df['Bölüm'] = train_df['Bölüm'].apply(convert_characters)\n",
    "test_df['Bölüm'] = test_df['Bölüm'].apply(convert_characters)"
   ]
  },
  {
   "cell_type": "code",
   "execution_count": 523,
   "metadata": {},
   "outputs": [],
   "source": [
    "train_df.loc[(train_df['Dogum Yeri']=='İstanbul') , 'Dogum Yeri'] = 'istanbul'\n",
    "train_df.loc[(train_df['Dogum Yeri']=='istanbul') , 'Dogum Yeri'] = 'istanbul'\n",
    "train_df.loc[(train_df['Dogum Yeri']=='Istanbul') , 'Dogum Yeri'] = 'istanbul'"
   ]
  },
  {
   "cell_type": "code",
   "execution_count": 524,
   "metadata": {},
   "outputs": [],
   "source": [
    "train_df = train_df[train_df['Lise Bolumu'].notna() & (train_df['Lise Bolumu'] != '')]\n",
    "test_df = test_df[test_df['Lise Bolumu'].notna() & (test_df['Lise Bolumu'] != '')]"
   ]
  },
  {
   "cell_type": "code",
   "execution_count": 525,
   "metadata": {},
   "outputs": [],
   "source": [
    "# train_df.loc[(train_df['Dogum Yeri']=='İstanbul') , 'Dogum Yeri'] = 'istanbul'\n",
    "# train_df.loc[(train_df['Dogum Yeri']=='istanbul') , 'Dogum Yeri'] = 'istanbul'\n",
    "# train_df.loc[(train_df['Dogum Yeri']=='Istanbul') , 'Dogum Yeri'] = 'istanbul'\n",
    "# # test_df.loc[(test_df['Dogum Yeri']=='İstanbul') , 'Dogum Yeri'] = 'istanbul'"
   ]
  },
  {
   "cell_type": "code",
   "execution_count": 526,
   "metadata": {},
   "outputs": [
    {
     "data": {
      "text/plain": [
       "Kardes Sayisi\n",
       "1.0                                             12978\n",
       "2.0                                             10830\n",
       "3.0                                              5685\n",
       "1                                                4627\n",
       "4.0                                              4099\n",
       "0                                                3884\n",
       "2                                                3124\n",
       "5.0                                              2831\n",
       "3                                                1691\n",
       "0                                                1048\n",
       "4                                                 794\n",
       "5                                                 595\n",
       "6.0                                               172\n",
       "7.0                                               129\n",
       "6                                                 106\n",
       "10.0                                              104\n",
       "7                                                  88\n",
       "8.0                                                79\n",
       "9.0                                                65\n",
       "8                                                  59\n",
       "10                                                 37\n",
       "9                                                  32\n",
       "11                                                  8\n",
       "12                                                  5\n",
       "13                                                  2\n",
       "14                                                  1\n",
       "Kardeş Sayısı 1 Ek Bilgi Aile Hk. Anne Vefat        1\n",
       "Name: count, dtype: int64"
      ]
     },
     "execution_count": 526,
     "metadata": {},
     "output_type": "execute_result"
    }
   ],
   "source": [
    "train_df['Kardes Sayisi'].value_counts()"
   ]
  },
  {
   "cell_type": "code",
   "execution_count": 527,
   "metadata": {},
   "outputs": [],
   "source": [
    "import re\n",
    "def extract_year(date_str):\n",
    "\n",
    "    match = re.search(r'(\\d{4})', str(date_str))\n",
    "    if match:\n",
    "        return int(match.group(1))\n",
    "    return None\n",
    "\n",
    "train_df['Dogum Yili'] = train_df['Dogum Tarihi'].apply(extract_year)\n",
    "train_df['Basvuru Yasi'] = train_df['Basvuru Yili'] - train_df['Dogum Yili']\n",
    "\n",
    "test_df['Dogum Yili'] = test_df['Dogum Tarihi'].apply(extract_year)\n",
    "test_df['Basvuru Yasi'] = test_df['Basvuru Yili'] - test_df['Dogum Yili']"
   ]
  },
  {
   "cell_type": "code",
   "execution_count": 528,
   "metadata": {},
   "outputs": [
    {
     "name": "stderr",
     "output_type": "stream",
     "text": [
      "C:\\Users\\erena\\AppData\\Local\\Temp\\ipykernel_10472\\1834617375.py:4: UserWarning: Could not infer format, so each element will be parsed individually, falling back to `dateutil`. To ensure parsing is consistent and as-expected, please specify a format.\n",
      "  train_df.loc[mask, 'Dogum Yili'] = pd.to_datetime(train_df.loc[mask, 'Dogum Tarihi'], dayfirst=True, errors='coerce').dt.year\n"
     ]
    }
   ],
   "source": [
    "train_df['Dogum Tarihi'] = train_df['Dogum Tarihi'].str.replace('__', '', regex=False)\n",
    "train_df['Dogum Tarihi'] = train_df['Dogum Tarihi'].str.replace('_', '', regex=False)\n",
    "mask = train_df['Dogum Yili'].isna()  # Dogum_Yili sütunu boş olanlar\n",
    "train_df.loc[mask, 'Dogum Yili'] = pd.to_datetime(train_df.loc[mask, 'Dogum Tarihi'], dayfirst=True, errors='coerce').dt.year\n",
    "\n",
    "test_df['Dogum Tarihi'] = test_df['Dogum Tarihi'].str.replace('__', '', regex=False)\n",
    "test_df['Dogum Tarihi'] = test_df['Dogum Tarihi'].str.replace('_', '', regex=False)\n",
    "mask = test_df['Dogum Yili'].isna()  # Dogum_Yili sütunu boş olanlar\n",
    "test_df.loc[mask, 'Dogum Yili'] = pd.to_datetime(test_df.loc[mask, 'Dogum Tarihi'], dayfirst=True, errors='coerce').dt.year"
   ]
  },
  {
   "cell_type": "code",
   "execution_count": 529,
   "metadata": {},
   "outputs": [],
   "source": [
    "train_df['Basvuru Yasi'] = train_df['Basvuru Yili'] - train_df['Dogum Yili']\n",
    "test_df['Basvuru Yasi'] = test_df['Basvuru Yili'] - test_df['Dogum Yili']"
   ]
  },
  {
   "cell_type": "code",
   "execution_count": 530,
   "metadata": {},
   "outputs": [],
   "source": [
    "train_df = train_df[train_df['Dogum Yili'] <= 2012]\n"
   ]
  },
  {
   "cell_type": "code",
   "execution_count": 531,
   "metadata": {},
   "outputs": [],
   "source": [
    "train_df = train_df[train_df['Dogum Yili'] > 1970]\n"
   ]
  },
  {
   "cell_type": "code",
   "execution_count": 532,
   "metadata": {},
   "outputs": [],
   "source": [
    "lise_not_mapping = {'0 - 24':1,'0 - 25':1,'25 - 49':1,'44-0':1,'25 - 50':1,'Not ortalaması yok':0,'54-45':2,'2.50 ve altı':2,'50 - 74':3,'3.00-2.50':3,'3.50-3':4,'69-55':3,'3.50-3.00':4,'3.00 - 4.00':4,'50 - 75':3,'4.00-3.50':5,'100-85':5,'84-70':4,'75 - 100':5}"
   ]
  },
  {
   "cell_type": "code",
   "execution_count": 533,
   "metadata": {},
   "outputs": [],
   "source": [
    "train_df[\"Lise Mezuniyet Notu\"] = train_df[\"Lise Mezuniyet Notu\"].map(lise_not_mapping)\n",
    "test_df[\"Lise Mezuniyet Notu\"] = test_df[\"Lise Mezuniyet Notu\"].map(lise_not_mapping)\n"
   ]
  },
  {
   "cell_type": "code",
   "execution_count": 534,
   "metadata": {},
   "outputs": [],
   "source": [
    "train_df =train_df.drop(\"Dogum Yili\",axis=1)\n",
    "test_df =test_df.drop(\"Dogum Yili\",axis=1)"
   ]
  },
  {
   "cell_type": "code",
   "execution_count": 535,
   "metadata": {},
   "outputs": [],
   "source": [
    "train_df = train_df.drop(\"Dogum Tarihi\",axis=1)\n",
    "test_df = test_df.drop(\"Dogum Tarihi\",axis=1)"
   ]
  },
  {
   "cell_type": "code",
   "execution_count": 536,
   "metadata": {},
   "outputs": [],
   "source": [
    "counts = train_df[\"Lise Bolumu\"].value_counts()\n",
    "train_df = train_df[train_df[\"Lise Bolumu\"].isin(counts[counts > 2].index)]"
   ]
  },
  {
   "cell_type": "code",
   "execution_count": 537,
   "metadata": {},
   "outputs": [],
   "source": [
    "train_df[\"Universite Kacinci Sinif\"] = train_df[\"Universite Kacinci Sinif\"].str.lower()\n",
    "test_df[\"Universite Kacinci Sinif\"] = test_df[\"Universite Kacinci Sinif\"].str.lower()"
   ]
  },
  {
   "cell_type": "code",
   "execution_count": 538,
   "metadata": {},
   "outputs": [],
   "source": [
    "uni_sinif_mapping = {'1':1,'2':2,'3':3,'4':4,'5':5,'6':6,'hazırlık':0,'mezun':7,'yüksek lisans':8,'tez':8}"
   ]
  },
  {
   "cell_type": "code",
   "execution_count": 539,
   "metadata": {},
   "outputs": [],
   "source": [
    "train_df[\"Universite Kacinci Sinif\"] = train_df[\"Universite Kacinci Sinif\"].map(uni_sinif_mapping)\n",
    "test_df[\"Universite Kacinci Sinif\"] = test_df[\"Universite Kacinci Sinif\"].map(uni_sinif_mapping)"
   ]
  },
  {
   "cell_type": "code",
   "execution_count": 540,
   "metadata": {},
   "outputs": [],
   "source": [
    "train_df.loc[(train_df['Ikametgah Sehri']=='İstanbul') , 'Ikametgah Sehri'] = 'istanbul'\n",
    "train_df.loc[(train_df['Ikametgah Sehri']=='İzmir' ) , 'Ikametgah Sehri'] = 'izmir'\n",
    "train_df.loc[(train_df['Ikametgah Sehri']=='Isparta') , 'Ikametgah Sehri'] = 'isparta'\n",
    "train_df.loc[(train_df['Ikametgah Sehri']=='Iğdır') , 'Ikametgah Sehri'] = 'igdir'\n",
    "train_df.loc[train_df['Ikametgah Sehri'].str.contains('stanb', case=False, na=False), 'Ikametgah Sehri'] = 'istanbul'\n",
    "train_df.loc[train_df['Ikametgah Sehri'].str.contains('ankara', case=False, na=False), 'Ikametgah Sehri'] = 'ankara'\n",
    "train_df.loc[train_df['Ikametgah Sehri'].str.contains('zm', case=False, na=False), 'Ikametgah Sehri'] = 'izmir'\n",
    "train_df.loc[train_df['Ikametgah Sehri'].str.contains('afyon', case=False, na=False), 'Ikametgah Sehri'] = 'afyonkarahisar'\n",
    "train_df.loc[train_df['Ikametgah Sehri'].str.contains('maras', case=False, na=False), 'Ikametgah Sehri'] = 'kahramanmaras'\n",
    "train_df[\"Ikametgah Sehri\"] = train_df[\"Ikametgah Sehri\"].apply(convert_characters)\n",
    "\n",
    "\n",
    "test_df.loc[(test_df['Ikametgah Sehri']=='İstanbul') , 'Ikametgah Sehri'] = 'istanbul'\n",
    "test_df.loc[(test_df['Ikametgah Sehri']=='İzmir' ) , 'Ikametgah Sehri'] = 'izmir'\n",
    "test_df.loc[(test_df['Ikametgah Sehri']=='Isparta') , 'Ikametgah Sehri'] = 'isparta'\n",
    "test_df.loc[(test_df['Ikametgah Sehri']=='Iğdır') , 'Ikametgah Sehri'] = 'igdir'\n",
    "test_df.loc[test_df['Ikametgah Sehri'].str.contains('stanb', case=False, na=False), 'Ikametgah Sehri'] = 'istanbul'\n",
    "test_df.loc[test_df['Ikametgah Sehri'].str.contains('ankara', case=False, na=False), 'Ikametgah Sehri'] = 'ankara'\n",
    "test_df.loc[test_df['Ikametgah Sehri'].str.contains('zm', case=False, na=False), 'Ikametgah Sehri'] = 'izmir'\n",
    "test_df.loc[test_df['Ikametgah Sehri'].str.contains('afyon', case=False, na=False), 'Ikametgah Sehri'] = 'afyonkarahisar'\n",
    "test_df.loc[test_df['Ikametgah Sehri'].str.contains('maras', case=False, na=False), 'Ikametgah Sehri'] = 'kahramanmaras'\n",
    "test_df[\"Ikametgah Sehri\"] = test_df[\"Ikametgah Sehri\"].apply(convert_characters)\n",
    "\n",
    "\n",
    "\n"
   ]
  },
  {
   "cell_type": "code",
   "execution_count": 541,
   "metadata": {},
   "outputs": [],
   "source": [
    "train_df.loc[train_df['Ikametgah Sehri'].str.contains('stanb', case=False, na=False), 'Ikametgah Sehri'] = 'istanbul'\n",
    "train_df.loc[train_df['Ikametgah Sehri'].str.contains('ankara', case=False, na=False), 'Ikametgah Sehri'] = 'ankara'\n",
    "train_df.loc[train_df['Ikametgah Sehri'].str.contains('zm', case=False, na=False), 'Ikametgah Sehri'] = 'izmir'\n",
    "train_df.loc[train_df['Ikametgah Sehri'].str.contains('afyon', case=False, na=False), 'Ikametgah Sehri'] = 'afyonkarahisar'\n",
    "train_df.loc[train_df['Ikametgah Sehri'].str.contains('maras', case=False, na=False), 'Ikametgah Sehri'] = 'kahramanmaras'\n",
    "aaaa=train_df[\"Ikametgah Sehri\"].value_counts()\n",
    "\n",
    "\n",
    "test_df.loc[test_df['Ikametgah Sehri'].str.contains('stanb', case=False, na=False), 'Ikametgah Sehri'] = 'istanbul'\n",
    "test_df.loc[test_df['Ikametgah Sehri'].str.contains('ankara', case=False, na=False), 'Ikametgah Sehri'] = 'ankara'\n",
    "test_df.loc[test_df['Ikametgah Sehri'].str.contains('zm', case=False, na=False), 'Ikametgah Sehri'] = 'izmir'\n",
    "test_df.loc[test_df['Ikametgah Sehri'].str.contains('afyon', case=False, na=False), 'Ikametgah Sehri'] = 'afyonkarahisar'\n",
    "test_df.loc[test_df['Ikametgah Sehri'].str.contains('maras', case=False, na=False), 'Ikametgah Sehri'] = 'kahramanmaras'\n"
   ]
  },
  {
   "cell_type": "code",
   "execution_count": 542,
   "metadata": {},
   "outputs": [],
   "source": [
    "train_df.loc[(train_df['Lise Sehir']=='İstanbul') , 'Lise Sehir'] = 'istanbul'\n",
    "train_df.loc[(train_df['Lise Sehir']=='İzmir' ) , 'Lise Sehir'] = 'izmir'\n",
    "train_df.loc[(train_df['Lise Sehir']=='Isparta') , 'Lise Sehir'] = 'isparta'\n",
    "train_df.loc[(train_df['Lise Sehir']=='Iğdır') , 'Lise Sehir'] = 'igdir'\n",
    "train_df.loc[train_df['Lise Sehir'].str.contains('stanb', case=False, na=False), 'Lise Sehir'] = 'istanbul'\n",
    "train_df.loc[train_df['Lise Sehir'].str.contains('ankara', case=False, na=False), 'Lise Sehir'] = 'ankara'\n",
    "train_df.loc[train_df['Lise Sehir'].str.contains('zm', case=False, na=False), 'Lise Sehir'] = 'izmir'\n",
    "train_df.loc[train_df['Lise Sehir'].str.contains('afyon', case=False, na=False), 'Lise Sehir'] = 'afyonkarahisar'\n",
    "train_df.loc[train_df['Lise Sehir'].str.contains('maras', case=False, na=False), 'Lise Sehir'] = 'kahramanmaras'\n",
    "\n",
    "\n",
    "\n",
    "test_df.loc[(test_df['Lise Sehir']=='İstanbul') , 'Lise Sehir'] = 'istanbul'\n",
    "test_df.loc[(test_df['Lise Sehir']=='İzmir' ) , 'Lise Sehir'] = 'izmir'\n",
    "test_df.loc[(test_df['Lise Sehir']=='Isparta') , 'Lise Sehir'] = 'isparta'\n",
    "test_df.loc[(test_df['Lise Sehir']=='Iğdır') , 'Lise Sehir'] = 'igdir'\n",
    "test_df.loc[test_df['Lise Sehir'].str.contains('stanb', case=False, na=False), 'Lise Sehir'] = 'istanbul'\n",
    "test_df.loc[test_df['Lise Sehir'].str.contains('ankara', case=False, na=False), 'Lise Sehir'] = 'ankara'\n",
    "test_df.loc[test_df['Lise Sehir'].str.contains('zm', case=False, na=False), 'Lise Sehir'] = 'izmir'\n",
    "test_df.loc[test_df['Lise Sehir'].str.contains('afyon', case=False, na=False), 'Lise Sehir'] = 'afyonkarahisar'\n",
    "test_df.loc[test_df['Lise Sehir'].str.contains('maras', case=False, na=False), 'Lise Sehir'] = 'kahramanmaras'\n",
    "\n"
   ]
  },
  {
   "cell_type": "code",
   "execution_count": 543,
   "metadata": {},
   "outputs": [],
   "source": [
    "train_df.loc[train_df['Lise Sehir'].str.contains('stanb', case=False, na=False), 'Lise Sehir'] = 'istanbul'\n",
    "train_df.loc[train_df['Lise Sehir'].str.contains('ankara', case=False, na=False), 'Lise Sehir'] = 'ankara'\n",
    "train_df.loc[train_df['Lise Sehir'].str.contains('zm', case=False, na=False), 'Lise Sehir'] = 'izmir'\n",
    "train_df.loc[train_df['Lise Sehir'].str.contains('afyon', case=False, na=False), 'Lise Sehir'] = 'afyonkarahisar'\n",
    "train_df.loc[train_df['Lise Sehir'].str.contains('maras', case=False, na=False), 'Lise Sehir'] = 'kahramanmaras'\n",
    "aaaa=train_df[\"Lise Sehir\"].value_counts()\n",
    "\n",
    "\n",
    "test_df.loc[test_df['Lise Sehir'].str.contains('stanb', case=False, na=False), 'Lise Sehir'] = 'istanbul'\n",
    "test_df.loc[test_df['Lise Sehir'].str.contains('ankara', case=False, na=False), 'Lise Sehir'] = 'ankara'\n",
    "test_df.loc[test_df['Lise Sehir'].str.contains('zm', case=False, na=False), 'Lise Sehir'] = 'izmir'\n",
    "test_df.loc[test_df['Lise Sehir'].str.contains('afyon', case=False, na=False), 'Lise Sehir'] = 'afyonkarahisar'\n",
    "test_df.loc[test_df['Lise Sehir'].str.contains('maras', case=False, na=False), 'Lise Sehir'] = 'kahramanmaras'\n"
   ]
  },
  {
   "cell_type": "code",
   "execution_count": 544,
   "metadata": {},
   "outputs": [],
   "source": [
    "sehirler_mapping = {\n",
    "    'adana': 1, 'adiyaman': 2, 'afyonkarahisar': 3, 'agri': 4,'aksaray': 5, 'amasya': 6,'ankara': 7,'antalya': 8,'ardahan': 9,'artvin': 10,\n",
    "    'aydin': 11,'balikesir': 12,'bartin': 13,'batman': 14,'bayburt': 15,'bilecik': 16,'bingol': 17,'bitlis': 18,'bolu': 19,'burdur': 20,\n",
    "    'bursa': 21,'canakkale': 22,'cankiri': 23,'corum': 24,'denizli': 25,'diyarbakir': 26,'duzce': 27,'edirne': 28,'elazig': 29,'erzincan': 30,'erzurum': 31,\n",
    "    'eskisehir': 32,'gaziantep': 33,'giresun': 34,'gumushane': 35,'hakkari': 36,'hatay': 37,'igdir': 38,'isparta': 39,'istanbul': 40,'izmir': 41,\n",
    "    'kahramanmaras': 42,'karabuk': 43,'karaman': 44,'kars': 45,'kastamonu': 46,'kayseri': 47,'kilis': 48,'kirikkale': 49,'kirklareli': 50,'kirsehir': 51,\n",
    "    'kocaeli': 52,'konya': 53,'kutahya': 54,'malatya': 55,'manisa': 56,'mardin': 57,'mersin': 58,'mugla': 59,'mus': 60,'nevsehir': 61,'nigde': 62,\n",
    "    'ordu': 63,'osmaniye': 64,'rize': 65,'sakarya': 66,'samsun': 67,'siirt': 68,'sinop': 69,'sivas': 70,'sanliurfa': 71,'sirnak': 72,\n",
    "    'tekirdag': 73,'tokat': 74,'trabzon': 75, 'tunceli': 76,'usak': 77,'van': 78,'yalova': 79,'yozgat': 80,'zonguldak': 81,'kktc':82,'yurtdisi':83\n",
    "}\n"
   ]
  },
  {
   "cell_type": "code",
   "execution_count": 545,
   "metadata": {},
   "outputs": [],
   "source": [
    "sehir = test_df['Ikametgah Sehri'].value_counts()"
   ]
  },
  {
   "cell_type": "code",
   "execution_count": 546,
   "metadata": {},
   "outputs": [],
   "source": [
    "train_df[\"Ikametgah Sehri\"]  = train_df[\"Ikametgah Sehri\"].map(sehirler_mapping)\n",
    "test_df[\"Ikametgah Sehri\"]  = test_df[\"Ikametgah Sehri\"].map(sehirler_mapping)\n",
    "\n",
    "train_df[\"Lise Sehir\"]  = train_df[\"Lise Sehir\"].map(sehirler_mapping)\n",
    "test_df[\"Lise Sehir\"]  = test_df[\"Lise Sehir\"].map(sehirler_mapping)"
   ]
  },
  {
   "cell_type": "code",
   "execution_count": 547,
   "metadata": {},
   "outputs": [],
   "source": [
    "train_df=train_df[train_df[\"Ikametgah Sehri\"].notna()]\n",
    "train_df=train_df[train_df[\"Lise Sehir\"].notna()]\n",
    "# test_df=test_df[test_df[\"Ikametgah Sehri\"].notna()]"
   ]
  },
  {
   "cell_type": "code",
   "execution_count": 548,
   "metadata": {},
   "outputs": [],
   "source": [
    "train_df=train_df.drop(\"Dogum Yeri\",axis=1)\n",
    "test_df=test_df.drop(\"Dogum Yeri\",axis=1)"
   ]
  },
  {
   "cell_type": "code",
   "execution_count": 549,
   "metadata": {},
   "outputs": [],
   "source": [
    "from sklearn.preprocessing import LabelEncoder"
   ]
  },
  {
   "cell_type": "code",
   "execution_count": 550,
   "metadata": {},
   "outputs": [],
   "source": [
    "le = LabelEncoder()\n",
    "train_df[\"Universite Adi\"] = le.fit_transform(train_df[\"Universite Adi\"])\n",
    "test_df[\"Universite Adi\"] = le.fit_transform(test_df[\"Universite Adi\"])"
   ]
  },
  {
   "cell_type": "code",
   "execution_count": 551,
   "metadata": {},
   "outputs": [],
   "source": [
    "train_df[\"Bölüm\"] = le.fit_transform(train_df[\"Bölüm\"])\n",
    "train_df[\"Lise Adi\"] = le.fit_transform(train_df[\"Lise Adi\"])\n",
    "\n",
    "test_df[\"Bölüm\"] = le.fit_transform(test_df[\"Bölüm\"])\n",
    "test_df[\"Lise Adi\"] = le.fit_transform(test_df[\"Lise Adi\"])"
   ]
  },
  {
   "cell_type": "code",
   "execution_count": 552,
   "metadata": {},
   "outputs": [],
   "source": [
    "# train_df = train_df.drop('Lise Bolumu',axis=1)\n",
    "#test_df = test_df.drop('Lise Bolumu',axis=1)"
   ]
  },
  {
   "cell_type": "code",
   "execution_count": 553,
   "metadata": {},
   "outputs": [
    {
     "data": {
      "text/plain": [
       "Kardes Sayisi\n",
       "1.0     5002\n",
       "2.0     3560\n",
       "1       2457\n",
       "3.0     1510\n",
       "2       1455\n",
       "0       1330\n",
       "4.0      767\n",
       "3        699\n",
       "0        582\n",
       "5.0      414\n",
       "4        283\n",
       "5        160\n",
       "6         36\n",
       "7         32\n",
       "6.0       25\n",
       "7.0       20\n",
       "8         18\n",
       "10.0      16\n",
       "9         12\n",
       "8.0       10\n",
       "10         9\n",
       "9.0        7\n",
       "12         3\n",
       "11         3\n",
       "Name: count, dtype: int64"
      ]
     },
     "execution_count": 553,
     "metadata": {},
     "output_type": "execute_result"
    }
   ],
   "source": [
    "train_df['Kardes Sayisi'].value_counts()"
   ]
  },
  {
   "cell_type": "code",
   "execution_count": 554,
   "metadata": {},
   "outputs": [],
   "source": [
    "kardes_mapping = {\n",
    "                '0':0,'0.0':0,0:0,\n",
    "                '1.0':1,1:1,'1':1,\n",
    "                '2.0':2,'2':2,2:2,\n",
    "                '3.0':3,'3':3,3:3,\n",
    "                '4.0':4,'4':4,4:4,\n",
    "                '5.0':5,'5':5,5:5,\n",
    "                '6.0':6,'6':6,6:6,\n",
    "                '7.0':7,'7':7,7:7,\n",
    "                '8.0':8,'8':8,8:8,\n",
    "                '9.0':9,'9':9,9:9,\n",
    "                '10.0':10,'10':10,10:10,\n",
    "                '11.0':11,'11':11,11:11,\n",
    "                '12.0':12,'12':12,12:12,\n",
    "                '13.0':13,'13':13,13:13,\n",
    "                '14.0':14,'14':14,14:14}\n",
    "\n",
    "train_df[\"Kardes Sayisi\"] = train_df[\"Kardes Sayisi\"].map(kardes_mapping)\n",
    "test_df[\"Kardes Sayisi\"] = test_df[\"Kardes Sayisi\"].map(kardes_mapping)\n"
   ]
  },
  {
   "cell_type": "code",
   "execution_count": 555,
   "metadata": {},
   "outputs": [],
   "source": [
    "\n",
    "# enson buraya kadar geldim"
   ]
  },
  {
   "cell_type": "code",
   "execution_count": 556,
   "metadata": {},
   "outputs": [],
   "source": [
    "train_df = train_df.drop(\"Hangi STK'nin Uyesisiniz?\",axis=1)\n",
    "train_df = train_df.drop('Basvuru Yili',axis=1)\n",
    "\n",
    "test_df = test_df.drop(\"Hangi STK'nin Uyesisiniz?\",axis=1)\n",
    "test_df = test_df.drop('Basvuru Yili',axis=1)\n"
   ]
  },
  {
   "cell_type": "code",
   "execution_count": 557,
   "metadata": {},
   "outputs": [
    {
     "data": {
      "text/plain": [
       "Lise Bolumu\n",
       "Sayısal                            10089\n",
       "Eşit Ağırlık                        6414\n",
       "Sözel                               1105\n",
       "Dil                                  370\n",
       "Diğer                                273\n",
       "Bilişim Teknolojileri                 27\n",
       "-                                      9\n",
       "EA                                     9\n",
       "yok                                    6\n",
       "Dış Ticaret                            5\n",
       "bilişim teknolojileri                  5\n",
       "Bilgisayar                             5\n",
       "T-M                                    5\n",
       "bilgisayar                             4\n",
       "Bilgisayar Programcılığı               4\n",
       "sozel                                  4\n",
       "BİLİŞİM TEKNOLOJİLERİ                  4\n",
       "Grafik Tasarım                         4\n",
       "bilgisayarlı muhasebe                  4\n",
       "muhasebe                               4\n",
       "ea                                     3\n",
       "Elektrik Elektronik                    3\n",
       "Çocuk Gelişimi                         3\n",
       "Bilgisayarlı Muhasebe                  3\n",
       "FM                                     3\n",
       "bilgisayarli muhasebe                  3\n",
       "makina teknolojisi                     3\n",
       "Radyo ve Televizyon                    3\n",
       "turkce matematik                       3\n",
       "BİLGİSAYARLI MUHASEBE                  2\n",
       "Yiyecek İçecek Hizmetleri              2\n",
       "fm                                     2\n",
       "Elektrik-Elektronik Teknolojisi        2\n",
       "İngilizce                              2\n",
       "YOK                                    2\n",
       "çocuk gelişimi                         2\n",
       "muhasebe ve finansman                  2\n",
       "Muhasebe ve Finansman                  2\n",
       "bilişim                                2\n",
       "Muhasebe                               1\n",
       "Çocuk Gelişimi ve Eğitimi              1\n",
       "Türkçe-Matemetik                       1\n",
       "Veri Tabanı Programcılığı              1\n",
       "Makine                                 1\n",
       "inşaat mühendisliği                    1\n",
       "Makina                                 1\n",
       "Turkce Matematik                       1\n",
       "Elektrik-Elektronik                    1\n",
       "elektrik elektronik                    1\n",
       "Kimya                                  1\n",
       "BİLGİSAYAR                             1\n",
       "Bilişim teknolojileri                  1\n",
       "Name: count, dtype: int64"
      ]
     },
     "execution_count": 557,
     "metadata": {},
     "output_type": "execute_result"
    }
   ],
   "source": [
    "train_df[\"Lise Bolumu\"].value_counts()"
   ]
  },
  {
   "cell_type": "code",
   "execution_count": 558,
   "metadata": {},
   "outputs": [],
   "source": [
    "lise_bolum_mapping={'Sayısal':0,'Eşit Ağırlık':1,'Dil':2,'Sözel':3}\n",
    "train_df[\"Lise Bolumu\"] = train_df[\"Lise Bolumu\"].map(lise_bolum_mapping)\n",
    "test_df[\"Lise Bolumu\"] = test_df[\"Lise Bolumu\"].map(lise_bolum_mapping)\n"
   ]
  },
  {
   "cell_type": "code",
   "execution_count": 559,
   "metadata": {},
   "outputs": [],
   "source": [
    "train_df=train_df[train_df[\"Lise Bolumu\"].notna()] "
   ]
  },
  {
   "cell_type": "code",
   "execution_count": 560,
   "metadata": {},
   "outputs": [],
   "source": [
    "train_df = train_df.drop(\"Spor Dalindaki Rolunuz Nedir?\",axis=1)\n",
    "test_df = test_df.drop(\"Spor Dalindaki Rolunuz Nedir?\",axis=1)"
   ]
  },
  {
   "cell_type": "code",
   "execution_count": 561,
   "metadata": {},
   "outputs": [],
   "source": [
    "y_train = train_df['Degerlendirme Puani']\n",
    "X_train = train_df.drop('Degerlendirme Puani',axis=1)\n",
    "X_test = test_df\n",
    "y_pred= ['Degerlendirme Puani']"
   ]
  },
  {
   "cell_type": "code",
   "execution_count": 562,
   "metadata": {},
   "outputs": [
    {
     "name": "stdout",
     "output_type": "stream",
     "text": [
      "[LightGBM] [Warning] Found whitespace in feature_names, replace with underlines\n",
      "[LightGBM] [Info] Auto-choosing row-wise multi-threading, the overhead of testing was 0,001671 seconds.\n",
      "You can set `force_row_wise=true` to remove the overhead.\n",
      "And if memory is not enough, you can set `force_col_wise=true`.\n",
      "[LightGBM] [Info] Total Bins 1205\n",
      "[LightGBM] [Info] Number of data points in the train set: 17978, number of used features: 24\n",
      "[LightGBM] [Info] Start training from score 30,528924\n",
      "[LightGBM] [Warning] No further splits with positive gain, best gain: -inf\n",
      "[LightGBM] [Warning] No further splits with positive gain, best gain: -inf\n",
      "[LightGBM] [Warning] No further splits with positive gain, best gain: -inf\n",
      "[LightGBM] [Warning] No further splits with positive gain, best gain: -inf\n",
      "[LightGBM] [Warning] No further splits with positive gain, best gain: -inf\n",
      "[LightGBM] [Warning] No further splits with positive gain, best gain: -inf\n",
      "[LightGBM] [Warning] No further splits with positive gain, best gain: -inf\n",
      "[LightGBM] [Warning] No further splits with positive gain, best gain: -inf\n",
      "[LightGBM] [Warning] No further splits with positive gain, best gain: -inf\n",
      "[LightGBM] [Warning] No further splits with positive gain, best gain: -inf\n",
      "[LightGBM] [Warning] No further splits with positive gain, best gain: -inf\n",
      "[LightGBM] [Warning] No further splits with positive gain, best gain: -inf\n",
      "[LightGBM] [Warning] No further splits with positive gain, best gain: -inf\n",
      "[LightGBM] [Warning] No further splits with positive gain, best gain: -inf\n",
      "[LightGBM] [Warning] No further splits with positive gain, best gain: -inf\n",
      "[LightGBM] [Warning] No further splits with positive gain, best gain: -inf\n",
      "[LightGBM] [Warning] No further splits with positive gain, best gain: -inf\n",
      "[LightGBM] [Warning] No further splits with positive gain, best gain: -inf\n",
      "[LightGBM] [Warning] No further splits with positive gain, best gain: -inf\n",
      "[LightGBM] [Warning] No further splits with positive gain, best gain: -inf\n",
      "[LightGBM] [Warning] No further splits with positive gain, best gain: -inf\n",
      "[LightGBM] [Warning] No further splits with positive gain, best gain: -inf\n",
      "[LightGBM] [Warning] No further splits with positive gain, best gain: -inf\n",
      "[LightGBM] [Warning] No further splits with positive gain, best gain: -inf\n",
      "[LightGBM] [Warning] No further splits with positive gain, best gain: -inf\n",
      "[LightGBM] [Warning] No further splits with positive gain, best gain: -inf\n",
      "[LightGBM] [Warning] No further splits with positive gain, best gain: -inf\n",
      "[LightGBM] [Warning] No further splits with positive gain, best gain: -inf\n",
      "[LightGBM] [Warning] No further splits with positive gain, best gain: -inf\n",
      "[LightGBM] [Warning] No further splits with positive gain, best gain: -inf\n",
      "[LightGBM] [Warning] No further splits with positive gain, best gain: -inf\n",
      "[LightGBM] [Warning] No further splits with positive gain, best gain: -inf\n",
      "[LightGBM] [Warning] No further splits with positive gain, best gain: -inf\n",
      "[LightGBM] [Warning] No further splits with positive gain, best gain: -inf\n",
      "[LightGBM] [Warning] No further splits with positive gain, best gain: -inf\n",
      "[LightGBM] [Warning] No further splits with positive gain, best gain: -inf\n",
      "[LightGBM] [Warning] No further splits with positive gain, best gain: -inf\n",
      "[LightGBM] [Warning] No further splits with positive gain, best gain: -inf\n",
      "[LightGBM] [Warning] No further splits with positive gain, best gain: -inf\n",
      "[LightGBM] [Warning] No further splits with positive gain, best gain: -inf\n",
      "[LightGBM] [Warning] No further splits with positive gain, best gain: -inf\n",
      "[LightGBM] [Warning] No further splits with positive gain, best gain: -inf\n",
      "[LightGBM] [Warning] No further splits with positive gain, best gain: -inf\n",
      "[LightGBM] [Warning] No further splits with positive gain, best gain: -inf\n",
      "[LightGBM] [Warning] No further splits with positive gain, best gain: -inf\n",
      "[LightGBM] [Warning] No further splits with positive gain, best gain: -inf\n",
      "[LightGBM] [Warning] No further splits with positive gain, best gain: -inf\n",
      "[LightGBM] [Warning] No further splits with positive gain, best gain: -inf\n",
      "[LightGBM] [Warning] No further splits with positive gain, best gain: -inf\n",
      "[LightGBM] [Warning] No further splits with positive gain, best gain: -inf\n",
      "[LightGBM] [Warning] No further splits with positive gain, best gain: -inf\n",
      "[LightGBM] [Warning] No further splits with positive gain, best gain: -inf\n",
      "[LightGBM] [Warning] No further splits with positive gain, best gain: -inf\n",
      "[LightGBM] [Warning] No further splits with positive gain, best gain: -inf\n",
      "[LightGBM] [Warning] No further splits with positive gain, best gain: -inf\n",
      "[LightGBM] [Warning] No further splits with positive gain, best gain: -inf\n",
      "[LightGBM] [Warning] No further splits with positive gain, best gain: -inf\n",
      "[LightGBM] [Warning] No further splits with positive gain, best gain: -inf\n",
      "[LightGBM] [Warning] No further splits with positive gain, best gain: -inf\n",
      "[LightGBM] [Warning] No further splits with positive gain, best gain: -inf\n",
      "[LightGBM] [Warning] No further splits with positive gain, best gain: -inf\n",
      "[LightGBM] [Warning] No further splits with positive gain, best gain: -inf\n",
      "[LightGBM] [Warning] No further splits with positive gain, best gain: -inf\n",
      "[LightGBM] [Warning] No further splits with positive gain, best gain: -inf\n",
      "[LightGBM] [Warning] No further splits with positive gain, best gain: -inf\n",
      "[LightGBM] [Warning] No further splits with positive gain, best gain: -inf\n",
      "[LightGBM] [Warning] No further splits with positive gain, best gain: -inf\n",
      "[LightGBM] [Warning] No further splits with positive gain, best gain: -inf\n",
      "[LightGBM] [Warning] No further splits with positive gain, best gain: -inf\n",
      "[LightGBM] [Warning] No further splits with positive gain, best gain: -inf\n",
      "[LightGBM] [Warning] No further splits with positive gain, best gain: -inf\n",
      "[LightGBM] [Warning] No further splits with positive gain, best gain: -inf\n",
      "[LightGBM] [Warning] No further splits with positive gain, best gain: -inf\n",
      "[LightGBM] [Warning] No further splits with positive gain, best gain: -inf\n",
      "[LightGBM] [Warning] No further splits with positive gain, best gain: -inf\n",
      "[LightGBM] [Warning] No further splits with positive gain, best gain: -inf\n",
      "[LightGBM] [Warning] No further splits with positive gain, best gain: -inf\n",
      "[LightGBM] [Warning] No further splits with positive gain, best gain: -inf\n",
      "[LightGBM] [Warning] No further splits with positive gain, best gain: -inf\n",
      "[LightGBM] [Warning] No further splits with positive gain, best gain: -inf\n",
      "[LightGBM] [Warning] No further splits with positive gain, best gain: -inf\n",
      "[LightGBM] [Warning] No further splits with positive gain, best gain: -inf\n",
      "[LightGBM] [Warning] No further splits with positive gain, best gain: -inf\n",
      "[LightGBM] [Warning] No further splits with positive gain, best gain: -inf\n",
      "[LightGBM] [Warning] No further splits with positive gain, best gain: -inf\n",
      "[LightGBM] [Warning] No further splits with positive gain, best gain: -inf\n",
      "[LightGBM] [Warning] No further splits with positive gain, best gain: -inf\n",
      "[LightGBM] [Warning] No further splits with positive gain, best gain: -inf\n",
      "[LightGBM] [Warning] No further splits with positive gain, best gain: -inf\n",
      "[LightGBM] [Warning] No further splits with positive gain, best gain: -inf\n",
      "[LightGBM] [Warning] No further splits with positive gain, best gain: -inf\n",
      "[LightGBM] [Warning] No further splits with positive gain, best gain: -inf\n",
      "[LightGBM] [Warning] No further splits with positive gain, best gain: -inf\n",
      "[LightGBM] [Warning] No further splits with positive gain, best gain: -inf\n",
      "[LightGBM] [Warning] No further splits with positive gain, best gain: -inf\n",
      "[LightGBM] [Warning] No further splits with positive gain, best gain: -inf\n",
      "[LightGBM] [Warning] No further splits with positive gain, best gain: -inf\n",
      "[LightGBM] [Warning] No further splits with positive gain, best gain: -inf\n",
      "[LightGBM] [Warning] No further splits with positive gain, best gain: -inf\n",
      "[LightGBM] [Warning] No further splits with positive gain, best gain: -inf\n",
      "[LightGBM] [Warning] No further splits with positive gain, best gain: -inf\n",
      "[LightGBM] [Warning] No further splits with positive gain, best gain: -inf\n",
      "[LightGBM] [Warning] No further splits with positive gain, best gain: -inf\n",
      "[LightGBM] [Warning] No further splits with positive gain, best gain: -inf\n",
      "[LightGBM] [Warning] No further splits with positive gain, best gain: -inf\n",
      "[LightGBM] [Warning] No further splits with positive gain, best gain: -inf\n",
      "[LightGBM] [Warning] No further splits with positive gain, best gain: -inf\n",
      "[LightGBM] [Warning] No further splits with positive gain, best gain: -inf\n",
      "[LightGBM] [Warning] No further splits with positive gain, best gain: -inf\n",
      "[LightGBM] [Warning] No further splits with positive gain, best gain: -inf\n",
      "[LightGBM] [Warning] No further splits with positive gain, best gain: -inf\n",
      "[LightGBM] [Warning] No further splits with positive gain, best gain: -inf\n",
      "[LightGBM] [Warning] No further splits with positive gain, best gain: -inf\n",
      "[LightGBM] [Warning] No further splits with positive gain, best gain: -inf\n",
      "[LightGBM] [Warning] No further splits with positive gain, best gain: -inf\n",
      "[LightGBM] [Warning] No further splits with positive gain, best gain: -inf\n",
      "[LightGBM] [Warning] No further splits with positive gain, best gain: -inf\n",
      "[LightGBM] [Warning] No further splits with positive gain, best gain: -inf\n",
      "[LightGBM] [Warning] No further splits with positive gain, best gain: -inf\n",
      "[LightGBM] [Warning] No further splits with positive gain, best gain: -inf\n",
      "[LightGBM] [Warning] No further splits with positive gain, best gain: -inf\n",
      "[LightGBM] [Warning] No further splits with positive gain, best gain: -inf\n",
      "[LightGBM] [Warning] No further splits with positive gain, best gain: -inf\n",
      "[LightGBM] [Warning] No further splits with positive gain, best gain: -inf\n",
      "[LightGBM] [Warning] No further splits with positive gain, best gain: -inf\n",
      "[LightGBM] [Warning] No further splits with positive gain, best gain: -inf\n",
      "[LightGBM] [Warning] No further splits with positive gain, best gain: -inf\n",
      "[LightGBM] [Warning] No further splits with positive gain, best gain: -inf\n",
      "[LightGBM] [Warning] No further splits with positive gain, best gain: -inf\n",
      "[LightGBM] [Warning] No further splits with positive gain, best gain: -inf\n",
      "[LightGBM] [Warning] No further splits with positive gain, best gain: -inf\n",
      "[LightGBM] [Warning] No further splits with positive gain, best gain: -inf\n",
      "[LightGBM] [Warning] No further splits with positive gain, best gain: -inf\n",
      "[LightGBM] [Warning] No further splits with positive gain, best gain: -inf\n",
      "[LightGBM] [Warning] No further splits with positive gain, best gain: -inf\n",
      "[LightGBM] [Warning] No further splits with positive gain, best gain: -inf\n",
      "[LightGBM] [Warning] No further splits with positive gain, best gain: -inf\n",
      "[LightGBM] [Warning] No further splits with positive gain, best gain: -inf\n",
      "[LightGBM] [Warning] No further splits with positive gain, best gain: -inf\n",
      "[LightGBM] [Warning] No further splits with positive gain, best gain: -inf\n",
      "[LightGBM] [Warning] No further splits with positive gain, best gain: -inf\n",
      "[LightGBM] [Warning] No further splits with positive gain, best gain: -inf\n",
      "[LightGBM] [Warning] No further splits with positive gain, best gain: -inf\n",
      "[LightGBM] [Warning] No further splits with positive gain, best gain: -inf\n",
      "[LightGBM] [Warning] No further splits with positive gain, best gain: -inf\n",
      "[LightGBM] [Warning] No further splits with positive gain, best gain: -inf\n",
      "[LightGBM] [Warning] No further splits with positive gain, best gain: -inf\n",
      "[LightGBM] [Warning] No further splits with positive gain, best gain: -inf\n",
      "[LightGBM] [Warning] No further splits with positive gain, best gain: -inf\n",
      "[LightGBM] [Warning] No further splits with positive gain, best gain: -inf\n",
      "[LightGBM] [Warning] No further splits with positive gain, best gain: -inf\n",
      "[LightGBM] [Warning] No further splits with positive gain, best gain: -inf\n",
      "[LightGBM] [Warning] No further splits with positive gain, best gain: -inf\n",
      "[LightGBM] [Warning] No further splits with positive gain, best gain: -inf\n",
      "[LightGBM] [Warning] No further splits with positive gain, best gain: -inf\n",
      "[LightGBM] [Warning] No further splits with positive gain, best gain: -inf\n",
      "[LightGBM] [Warning] No further splits with positive gain, best gain: -inf\n",
      "[LightGBM] [Warning] No further splits with positive gain, best gain: -inf\n",
      "[LightGBM] [Warning] No further splits with positive gain, best gain: -inf\n",
      "[LightGBM] [Warning] No further splits with positive gain, best gain: -inf\n",
      "[LightGBM] [Warning] No further splits with positive gain, best gain: -inf\n",
      "[LightGBM] [Warning] No further splits with positive gain, best gain: -inf\n",
      "[LightGBM] [Warning] No further splits with positive gain, best gain: -inf\n",
      "[LightGBM] [Warning] No further splits with positive gain, best gain: -inf\n",
      "[LightGBM] [Warning] No further splits with positive gain, best gain: -inf\n",
      "[LightGBM] [Warning] No further splits with positive gain, best gain: -inf\n",
      "[LightGBM] [Warning] No further splits with positive gain, best gain: -inf\n",
      "[LightGBM] [Warning] No further splits with positive gain, best gain: -inf\n",
      "[LightGBM] [Warning] No further splits with positive gain, best gain: -inf\n",
      "[LightGBM] [Warning] No further splits with positive gain, best gain: -inf\n",
      "[LightGBM] [Warning] No further splits with positive gain, best gain: -inf\n",
      "[LightGBM] [Warning] No further splits with positive gain, best gain: -inf\n",
      "[LightGBM] [Warning] No further splits with positive gain, best gain: -inf\n",
      "[LightGBM] [Warning] No further splits with positive gain, best gain: -inf\n",
      "[LightGBM] [Warning] No further splits with positive gain, best gain: -inf\n",
      "[LightGBM] [Warning] No further splits with positive gain, best gain: -inf\n",
      "[LightGBM] [Warning] No further splits with positive gain, best gain: -inf\n",
      "[LightGBM] [Warning] No further splits with positive gain, best gain: -inf\n",
      "[LightGBM] [Warning] No further splits with positive gain, best gain: -inf\n",
      "[LightGBM] [Warning] No further splits with positive gain, best gain: -inf\n",
      "[LightGBM] [Warning] No further splits with positive gain, best gain: -inf\n",
      "[LightGBM] [Warning] No further splits with positive gain, best gain: -inf\n",
      "[LightGBM] [Warning] No further splits with positive gain, best gain: -inf\n",
      "[LightGBM] [Warning] No further splits with positive gain, best gain: -inf\n",
      "[LightGBM] [Warning] No further splits with positive gain, best gain: -inf\n",
      "[LightGBM] [Warning] No further splits with positive gain, best gain: -inf\n",
      "[LightGBM] [Warning] No further splits with positive gain, best gain: -inf\n",
      "[LightGBM] [Warning] No further splits with positive gain, best gain: -inf\n",
      "[LightGBM] [Warning] No further splits with positive gain, best gain: -inf\n",
      "[LightGBM] [Warning] No further splits with positive gain, best gain: -inf\n",
      "[LightGBM] [Warning] No further splits with positive gain, best gain: -inf\n",
      "[LightGBM] [Warning] No further splits with positive gain, best gain: -inf\n",
      "[LightGBM] [Warning] No further splits with positive gain, best gain: -inf\n",
      "[LightGBM] [Warning] No further splits with positive gain, best gain: -inf\n",
      "[LightGBM] [Warning] No further splits with positive gain, best gain: -inf\n",
      "[LightGBM] [Warning] No further splits with positive gain, best gain: -inf\n",
      "[LightGBM] [Warning] No further splits with positive gain, best gain: -inf\n",
      "[LightGBM] [Warning] No further splits with positive gain, best gain: -inf\n",
      "[LightGBM] [Warning] No further splits with positive gain, best gain: -inf\n",
      "[LightGBM] [Warning] No further splits with positive gain, best gain: -inf\n",
      "[LightGBM] [Warning] No further splits with positive gain, best gain: -inf\n",
      "[LightGBM] [Warning] No further splits with positive gain, best gain: -inf\n",
      "[LightGBM] [Warning] No further splits with positive gain, best gain: -inf\n",
      "[LightGBM] [Warning] No further splits with positive gain, best gain: -inf\n",
      "[LightGBM] [Warning] No further splits with positive gain, best gain: -inf\n",
      "[LightGBM] [Warning] No further splits with positive gain, best gain: -inf\n",
      "[LightGBM] [Warning] No further splits with positive gain, best gain: -inf\n",
      "[LightGBM] [Warning] No further splits with positive gain, best gain: -inf\n",
      "[LightGBM] [Warning] No further splits with positive gain, best gain: -inf\n",
      "[LightGBM] [Warning] No further splits with positive gain, best gain: -inf\n",
      "[LightGBM] [Warning] No further splits with positive gain, best gain: -inf\n",
      "[LightGBM] [Warning] No further splits with positive gain, best gain: -inf\n",
      "[LightGBM] [Warning] No further splits with positive gain, best gain: -inf\n",
      "[LightGBM] [Warning] No further splits with positive gain, best gain: -inf\n",
      "[LightGBM] [Warning] No further splits with positive gain, best gain: -inf\n",
      "[LightGBM] [Warning] No further splits with positive gain, best gain: -inf\n",
      "[LightGBM] [Warning] No further splits with positive gain, best gain: -inf\n",
      "[LightGBM] [Warning] No further splits with positive gain, best gain: -inf\n",
      "[LightGBM] [Warning] No further splits with positive gain, best gain: -inf\n",
      "[LightGBM] [Warning] No further splits with positive gain, best gain: -inf\n",
      "[LightGBM] [Warning] No further splits with positive gain, best gain: -inf\n",
      "[LightGBM] [Warning] No further splits with positive gain, best gain: -inf\n",
      "[LightGBM] [Warning] No further splits with positive gain, best gain: -inf\n",
      "[LightGBM] [Warning] No further splits with positive gain, best gain: -inf\n",
      "[LightGBM] [Warning] No further splits with positive gain, best gain: -inf\n",
      "[LightGBM] [Warning] No further splits with positive gain, best gain: -inf\n",
      "[LightGBM] [Warning] No further splits with positive gain, best gain: -inf\n",
      "[LightGBM] [Warning] No further splits with positive gain, best gain: -inf\n",
      "[LightGBM] [Warning] No further splits with positive gain, best gain: -inf\n",
      "[LightGBM] [Warning] No further splits with positive gain, best gain: -inf\n",
      "[LightGBM] [Warning] No further splits with positive gain, best gain: -inf\n",
      "[LightGBM] [Warning] No further splits with positive gain, best gain: -inf\n",
      "[LightGBM] [Warning] No further splits with positive gain, best gain: -inf\n",
      "[LightGBM] [Warning] No further splits with positive gain, best gain: -inf\n",
      "[LightGBM] [Warning] No further splits with positive gain, best gain: -inf\n",
      "[LightGBM] [Warning] No further splits with positive gain, best gain: -inf\n",
      "[LightGBM] [Warning] No further splits with positive gain, best gain: -inf\n",
      "[LightGBM] [Warning] No further splits with positive gain, best gain: -inf\n",
      "[LightGBM] [Warning] No further splits with positive gain, best gain: -inf\n",
      "[LightGBM] [Warning] No further splits with positive gain, best gain: -inf\n",
      "[LightGBM] [Warning] No further splits with positive gain, best gain: -inf\n",
      "[LightGBM] [Warning] No further splits with positive gain, best gain: -inf\n",
      "[LightGBM] [Warning] No further splits with positive gain, best gain: -inf\n",
      "[LightGBM] [Warning] No further splits with positive gain, best gain: -inf\n",
      "[LightGBM] [Warning] No further splits with positive gain, best gain: -inf\n",
      "[LightGBM] [Warning] No further splits with positive gain, best gain: -inf\n",
      "[LightGBM] [Warning] No further splits with positive gain, best gain: -inf\n",
      "[LightGBM] [Warning] No further splits with positive gain, best gain: -inf\n",
      "[LightGBM] [Warning] No further splits with positive gain, best gain: -inf\n",
      "[LightGBM] [Warning] No further splits with positive gain, best gain: -inf\n",
      "[LightGBM] [Warning] No further splits with positive gain, best gain: -inf\n",
      "[LightGBM] [Warning] No further splits with positive gain, best gain: -inf\n",
      "[LightGBM] [Warning] No further splits with positive gain, best gain: -inf\n",
      "[LightGBM] [Warning] No further splits with positive gain, best gain: -inf\n",
      "[LightGBM] [Warning] No further splits with positive gain, best gain: -inf\n",
      "[LightGBM] [Warning] No further splits with positive gain, best gain: -inf\n",
      "[LightGBM] [Warning] No further splits with positive gain, best gain: -inf\n",
      "[LightGBM] [Warning] No further splits with positive gain, best gain: -inf\n",
      "[LightGBM] [Warning] No further splits with positive gain, best gain: -inf\n",
      "[LightGBM] [Warning] No further splits with positive gain, best gain: -inf\n",
      "[LightGBM] [Warning] No further splits with positive gain, best gain: -inf\n",
      "[LightGBM] [Warning] No further splits with positive gain, best gain: -inf\n",
      "[LightGBM] [Warning] No further splits with positive gain, best gain: -inf\n",
      "[LightGBM] [Warning] No further splits with positive gain, best gain: -inf\n",
      "[LightGBM] [Warning] No further splits with positive gain, best gain: -inf\n",
      "[LightGBM] [Warning] No further splits with positive gain, best gain: -inf\n",
      "[LightGBM] [Warning] No further splits with positive gain, best gain: -inf\n",
      "[LightGBM] [Warning] No further splits with positive gain, best gain: -inf\n",
      "[LightGBM] [Warning] No further splits with positive gain, best gain: -inf\n",
      "[LightGBM] [Warning] No further splits with positive gain, best gain: -inf\n",
      "[LightGBM] [Warning] No further splits with positive gain, best gain: -inf\n",
      "[LightGBM] [Warning] No further splits with positive gain, best gain: -inf\n",
      "[LightGBM] [Warning] No further splits with positive gain, best gain: -inf\n",
      "[LightGBM] [Warning] No further splits with positive gain, best gain: -inf\n",
      "[LightGBM] [Warning] No further splits with positive gain, best gain: -inf\n",
      "[LightGBM] [Warning] No further splits with positive gain, best gain: -inf\n",
      "[LightGBM] [Warning] No further splits with positive gain, best gain: -inf\n",
      "[LightGBM] [Warning] No further splits with positive gain, best gain: -inf\n",
      "[LightGBM] [Warning] No further splits with positive gain, best gain: -inf\n",
      "[LightGBM] [Warning] No further splits with positive gain, best gain: -inf\n",
      "[LightGBM] [Warning] No further splits with positive gain, best gain: -inf\n",
      "[LightGBM] [Warning] No further splits with positive gain, best gain: -inf\n",
      "[LightGBM] [Warning] No further splits with positive gain, best gain: -inf\n",
      "[LightGBM] [Warning] No further splits with positive gain, best gain: -inf\n",
      "[LightGBM] [Warning] No further splits with positive gain, best gain: -inf\n",
      "[LightGBM] [Warning] No further splits with positive gain, best gain: -inf\n",
      "[LightGBM] [Warning] No further splits with positive gain, best gain: -inf\n",
      "[LightGBM] [Warning] No further splits with positive gain, best gain: -inf\n",
      "[LightGBM] [Warning] No further splits with positive gain, best gain: -inf\n",
      "[LightGBM] [Warning] No further splits with positive gain, best gain: -inf\n",
      "[LightGBM] [Warning] No further splits with positive gain, best gain: -inf\n",
      "[LightGBM] [Warning] No further splits with positive gain, best gain: -inf\n",
      "[LightGBM] [Warning] No further splits with positive gain, best gain: -inf\n",
      "[LightGBM] [Warning] No further splits with positive gain, best gain: -inf\n",
      "[LightGBM] [Warning] No further splits with positive gain, best gain: -inf\n",
      "[LightGBM] [Warning] No further splits with positive gain, best gain: -inf\n",
      "[LightGBM] [Warning] No further splits with positive gain, best gain: -inf\n",
      "[LightGBM] [Warning] No further splits with positive gain, best gain: -inf\n",
      "[LightGBM] [Warning] No further splits with positive gain, best gain: -inf\n",
      "[LightGBM] [Warning] No further splits with positive gain, best gain: -inf\n",
      "[LightGBM] [Warning] No further splits with positive gain, best gain: -inf\n",
      "[LightGBM] [Warning] No further splits with positive gain, best gain: -inf\n",
      "[LightGBM] [Warning] No further splits with positive gain, best gain: -inf\n",
      "[LightGBM] [Warning] No further splits with positive gain, best gain: -inf\n",
      "[LightGBM] [Warning] No further splits with positive gain, best gain: -inf\n",
      "[LightGBM] [Warning] No further splits with positive gain, best gain: -inf\n",
      "[LightGBM] [Warning] No further splits with positive gain, best gain: -inf\n",
      "[LightGBM] [Warning] No further splits with positive gain, best gain: -inf\n",
      "[LightGBM] [Warning] No further splits with positive gain, best gain: -inf\n",
      "[LightGBM] [Warning] No further splits with positive gain, best gain: -inf\n",
      "[LightGBM] [Warning] No further splits with positive gain, best gain: -inf\n",
      "[LightGBM] [Warning] No further splits with positive gain, best gain: -inf\n",
      "[LightGBM] [Warning] No further splits with positive gain, best gain: -inf\n",
      "[LightGBM] [Warning] No further splits with positive gain, best gain: -inf\n",
      "[LightGBM] [Warning] No further splits with positive gain, best gain: -inf\n",
      "[LightGBM] [Warning] No further splits with positive gain, best gain: -inf\n",
      "[LightGBM] [Warning] No further splits with positive gain, best gain: -inf\n",
      "[LightGBM] [Warning] No further splits with positive gain, best gain: -inf\n",
      "[LightGBM] [Warning] No further splits with positive gain, best gain: -inf\n",
      "[LightGBM] [Warning] No further splits with positive gain, best gain: -inf\n",
      "[LightGBM] [Warning] No further splits with positive gain, best gain: -inf\n",
      "[LightGBM] [Warning] No further splits with positive gain, best gain: -inf\n",
      "[LightGBM] [Warning] No further splits with positive gain, best gain: -inf\n",
      "[LightGBM] [Warning] No further splits with positive gain, best gain: -inf\n",
      "[LightGBM] [Warning] No further splits with positive gain, best gain: -inf\n",
      "[LightGBM] [Warning] No further splits with positive gain, best gain: -inf\n",
      "[LightGBM] [Warning] No further splits with positive gain, best gain: -inf\n",
      "[LightGBM] [Warning] No further splits with positive gain, best gain: -inf\n",
      "[LightGBM] [Warning] No further splits with positive gain, best gain: -inf\n",
      "[LightGBM] [Warning] No further splits with positive gain, best gain: -inf\n",
      "[LightGBM] [Warning] No further splits with positive gain, best gain: -inf\n",
      "[LightGBM] [Warning] No further splits with positive gain, best gain: -inf\n",
      "[LightGBM] [Warning] No further splits with positive gain, best gain: -inf\n",
      "[LightGBM] [Warning] No further splits with positive gain, best gain: -inf\n",
      "[LightGBM] [Warning] No further splits with positive gain, best gain: -inf\n",
      "[LightGBM] [Warning] No further splits with positive gain, best gain: -inf\n",
      "[LightGBM] [Warning] No further splits with positive gain, best gain: -inf\n",
      "[LightGBM] [Warning] No further splits with positive gain, best gain: -inf\n",
      "[LightGBM] [Warning] No further splits with positive gain, best gain: -inf\n",
      "[LightGBM] [Warning] No further splits with positive gain, best gain: -inf\n",
      "[LightGBM] [Warning] No further splits with positive gain, best gain: -inf\n",
      "[LightGBM] [Warning] No further splits with positive gain, best gain: -inf\n",
      "[LightGBM] [Warning] No further splits with positive gain, best gain: -inf\n",
      "[LightGBM] [Warning] No further splits with positive gain, best gain: -inf\n",
      "[LightGBM] [Warning] No further splits with positive gain, best gain: -inf\n",
      "[LightGBM] [Warning] No further splits with positive gain, best gain: -inf\n",
      "[LightGBM] [Warning] No further splits with positive gain, best gain: -inf\n",
      "[LightGBM] [Warning] No further splits with positive gain, best gain: -inf\n",
      "[LightGBM] [Warning] No further splits with positive gain, best gain: -inf\n",
      "[LightGBM] [Warning] No further splits with positive gain, best gain: -inf\n",
      "[LightGBM] [Warning] No further splits with positive gain, best gain: -inf\n",
      "[LightGBM] [Warning] No further splits with positive gain, best gain: -inf\n",
      "[LightGBM] [Warning] No further splits with positive gain, best gain: -inf\n",
      "[LightGBM] [Warning] No further splits with positive gain, best gain: -inf\n",
      "[LightGBM] [Warning] No further splits with positive gain, best gain: -inf\n",
      "[LightGBM] [Warning] No further splits with positive gain, best gain: -inf\n",
      "[LightGBM] [Warning] No further splits with positive gain, best gain: -inf\n",
      "[LightGBM] [Warning] No further splits with positive gain, best gain: -inf\n",
      "[LightGBM] [Warning] No further splits with positive gain, best gain: -inf\n",
      "[LightGBM] [Warning] No further splits with positive gain, best gain: -inf\n",
      "[LightGBM] [Warning] No further splits with positive gain, best gain: -inf\n",
      "[LightGBM] [Warning] No further splits with positive gain, best gain: -inf\n",
      "[LightGBM] [Warning] No further splits with positive gain, best gain: -inf\n",
      "[LightGBM] [Warning] No further splits with positive gain, best gain: -inf\n",
      "[LightGBM] [Warning] No further splits with positive gain, best gain: -inf\n",
      "[LightGBM] [Warning] No further splits with positive gain, best gain: -inf\n",
      "[LightGBM] [Warning] No further splits with positive gain, best gain: -inf\n",
      "[LightGBM] [Warning] No further splits with positive gain, best gain: -inf\n",
      "[LightGBM] [Warning] No further splits with positive gain, best gain: -inf\n",
      "[LightGBM] [Warning] No further splits with positive gain, best gain: -inf\n",
      "[LightGBM] [Warning] No further splits with positive gain, best gain: -inf\n",
      "[LightGBM] [Warning] No further splits with positive gain, best gain: -inf\n",
      "[LightGBM] [Warning] No further splits with positive gain, best gain: -inf\n",
      "[LightGBM] [Warning] No further splits with positive gain, best gain: -inf\n",
      "[LightGBM] [Warning] No further splits with positive gain, best gain: -inf\n",
      "[LightGBM] [Warning] No further splits with positive gain, best gain: -inf\n",
      "[LightGBM] [Warning] No further splits with positive gain, best gain: -inf\n",
      "[LightGBM] [Warning] No further splits with positive gain, best gain: -inf\n",
      "[LightGBM] [Warning] No further splits with positive gain, best gain: -inf\n",
      "[LightGBM] [Warning] No further splits with positive gain, best gain: -inf\n",
      "[LightGBM] [Warning] No further splits with positive gain, best gain: -inf\n",
      "[LightGBM] [Warning] No further splits with positive gain, best gain: -inf\n",
      "[LightGBM] [Warning] No further splits with positive gain, best gain: -inf\n",
      "[LightGBM] [Warning] No further splits with positive gain, best gain: -inf\n",
      "[LightGBM] [Warning] No further splits with positive gain, best gain: -inf\n",
      "[LightGBM] [Warning] No further splits with positive gain, best gain: -inf\n",
      "[LightGBM] [Warning] No further splits with positive gain, best gain: -inf\n",
      "[LightGBM] [Warning] No further splits with positive gain, best gain: -inf\n",
      "[LightGBM] [Warning] No further splits with positive gain, best gain: -inf\n",
      "[LightGBM] [Warning] No further splits with positive gain, best gain: -inf\n",
      "[LightGBM] [Warning] No further splits with positive gain, best gain: -inf\n",
      "[LightGBM] [Warning] No further splits with positive gain, best gain: -inf\n",
      "[LightGBM] [Warning] No further splits with positive gain, best gain: -inf\n",
      "[LightGBM] [Warning] No further splits with positive gain, best gain: -inf\n",
      "[LightGBM] [Warning] No further splits with positive gain, best gain: -inf\n",
      "[LightGBM] [Warning] No further splits with positive gain, best gain: -inf\n",
      "[LightGBM] [Warning] No further splits with positive gain, best gain: -inf\n",
      "[LightGBM] [Warning] No further splits with positive gain, best gain: -inf\n",
      "[LightGBM] [Warning] No further splits with positive gain, best gain: -inf\n",
      "[LightGBM] [Warning] No further splits with positive gain, best gain: -inf\n",
      "[LightGBM] [Warning] No further splits with positive gain, best gain: -inf\n",
      "[LightGBM] [Warning] No further splits with positive gain, best gain: -inf\n",
      "[LightGBM] [Warning] No further splits with positive gain, best gain: -inf\n",
      "[LightGBM] [Warning] No further splits with positive gain, best gain: -inf\n",
      "[LightGBM] [Warning] No further splits with positive gain, best gain: -inf\n",
      "[LightGBM] [Warning] No further splits with positive gain, best gain: -inf\n",
      "[LightGBM] [Warning] No further splits with positive gain, best gain: -inf\n",
      "[LightGBM] [Warning] No further splits with positive gain, best gain: -inf\n",
      "[LightGBM] [Warning] No further splits with positive gain, best gain: -inf\n",
      "[LightGBM] [Warning] No further splits with positive gain, best gain: -inf\n",
      "[LightGBM] [Warning] No further splits with positive gain, best gain: -inf\n",
      "[LightGBM] [Warning] No further splits with positive gain, best gain: -inf\n",
      "[LightGBM] [Warning] No further splits with positive gain, best gain: -inf\n",
      "[LightGBM] [Warning] No further splits with positive gain, best gain: -inf\n",
      "[LightGBM] [Warning] No further splits with positive gain, best gain: -inf\n",
      "[LightGBM] [Warning] No further splits with positive gain, best gain: -inf\n",
      "[LightGBM] [Warning] No further splits with positive gain, best gain: -inf\n",
      "[LightGBM] [Warning] No further splits with positive gain, best gain: -inf\n",
      "[LightGBM] [Warning] No further splits with positive gain, best gain: -inf\n",
      "[LightGBM] [Warning] No further splits with positive gain, best gain: -inf\n",
      "[LightGBM] [Warning] No further splits with positive gain, best gain: -inf\n",
      "[LightGBM] [Warning] No further splits with positive gain, best gain: -inf\n",
      "[LightGBM] [Warning] No further splits with positive gain, best gain: -inf\n",
      "[LightGBM] [Warning] No further splits with positive gain, best gain: -inf\n",
      "[LightGBM] [Warning] No further splits with positive gain, best gain: -inf\n",
      "[LightGBM] [Warning] No further splits with positive gain, best gain: -inf\n",
      "[LightGBM] [Warning] No further splits with positive gain, best gain: -inf\n",
      "[LightGBM] [Warning] No further splits with positive gain, best gain: -inf\n",
      "[LightGBM] [Warning] No further splits with positive gain, best gain: -inf\n",
      "[LightGBM] [Warning] No further splits with positive gain, best gain: -inf\n",
      "[LightGBM] [Warning] No further splits with positive gain, best gain: -inf\n",
      "[LightGBM] [Warning] No further splits with positive gain, best gain: -inf\n",
      "[LightGBM] [Warning] No further splits with positive gain, best gain: -inf\n",
      "[LightGBM] [Warning] No further splits with positive gain, best gain: -inf\n",
      "[LightGBM] [Warning] No further splits with positive gain, best gain: -inf\n",
      "[LightGBM] [Warning] No further splits with positive gain, best gain: -inf\n",
      "[LightGBM] [Warning] No further splits with positive gain, best gain: -inf\n",
      "[LightGBM] [Warning] No further splits with positive gain, best gain: -inf\n",
      "[LightGBM] [Warning] No further splits with positive gain, best gain: -inf\n",
      "[LightGBM] [Warning] No further splits with positive gain, best gain: -inf\n",
      "[LightGBM] [Warning] No further splits with positive gain, best gain: -inf\n",
      "[LightGBM] [Warning] No further splits with positive gain, best gain: -inf\n",
      "[LightGBM] [Warning] No further splits with positive gain, best gain: -inf\n",
      "[LightGBM] [Warning] No further splits with positive gain, best gain: -inf\n",
      "[LightGBM] [Warning] No further splits with positive gain, best gain: -inf\n",
      "[LightGBM] [Warning] No further splits with positive gain, best gain: -inf\n",
      "[LightGBM] [Warning] No further splits with positive gain, best gain: -inf\n",
      "[LightGBM] [Warning] No further splits with positive gain, best gain: -inf\n",
      "[LightGBM] [Warning] No further splits with positive gain, best gain: -inf\n",
      "[LightGBM] [Warning] No further splits with positive gain, best gain: -inf\n",
      "[LightGBM] [Warning] No further splits with positive gain, best gain: -inf\n",
      "[LightGBM] [Warning] No further splits with positive gain, best gain: -inf\n",
      "[LightGBM] [Warning] No further splits with positive gain, best gain: -inf\n",
      "[LightGBM] [Warning] No further splits with positive gain, best gain: -inf\n",
      "[LightGBM] [Warning] No further splits with positive gain, best gain: -inf\n",
      "[LightGBM] [Warning] No further splits with positive gain, best gain: -inf\n",
      "[LightGBM] [Warning] No further splits with positive gain, best gain: -inf\n",
      "[LightGBM] [Warning] No further splits with positive gain, best gain: -inf\n",
      "[LightGBM] [Warning] No further splits with positive gain, best gain: -inf\n",
      "[LightGBM] [Warning] No further splits with positive gain, best gain: -inf\n",
      "[LightGBM] [Warning] No further splits with positive gain, best gain: -inf\n",
      "[LightGBM] [Warning] No further splits with positive gain, best gain: -inf\n",
      "[LightGBM] [Warning] No further splits with positive gain, best gain: -inf\n",
      "[LightGBM] [Warning] No further splits with positive gain, best gain: -inf\n",
      "[LightGBM] [Warning] No further splits with positive gain, best gain: -inf\n",
      "[LightGBM] [Warning] No further splits with positive gain, best gain: -inf\n",
      "[LightGBM] [Warning] No further splits with positive gain, best gain: -inf\n",
      "[LightGBM] [Warning] No further splits with positive gain, best gain: -inf\n",
      "[LightGBM] [Warning] No further splits with positive gain, best gain: -inf\n",
      "[LightGBM] [Warning] No further splits with positive gain, best gain: -inf\n",
      "[LightGBM] [Warning] No further splits with positive gain, best gain: -inf\n",
      "[LightGBM] [Warning] No further splits with positive gain, best gain: -inf\n",
      "[LightGBM] [Warning] No further splits with positive gain, best gain: -inf\n",
      "[LightGBM] [Warning] No further splits with positive gain, best gain: -inf\n",
      "[LightGBM] [Warning] No further splits with positive gain, best gain: -inf\n",
      "[LightGBM] [Warning] No further splits with positive gain, best gain: -inf\n",
      "[LightGBM] [Warning] No further splits with positive gain, best gain: -inf\n",
      "[LightGBM] [Warning] No further splits with positive gain, best gain: -inf\n",
      "[LightGBM] [Warning] No further splits with positive gain, best gain: -inf\n",
      "[LightGBM] [Warning] No further splits with positive gain, best gain: -inf\n",
      "[LightGBM] [Warning] No further splits with positive gain, best gain: -inf\n",
      "[LightGBM] [Warning] No further splits with positive gain, best gain: -inf\n",
      "[LightGBM] [Warning] No further splits with positive gain, best gain: -inf\n",
      "[LightGBM] [Warning] No further splits with positive gain, best gain: -inf\n",
      "[LightGBM] [Warning] No further splits with positive gain, best gain: -inf\n",
      "[LightGBM] [Warning] No further splits with positive gain, best gain: -inf\n",
      "[LightGBM] [Warning] No further splits with positive gain, best gain: -inf\n",
      "[LightGBM] [Warning] No further splits with positive gain, best gain: -inf\n",
      "[LightGBM] [Warning] No further splits with positive gain, best gain: -inf\n",
      "[LightGBM] [Warning] No further splits with positive gain, best gain: -inf\n",
      "[LightGBM] [Warning] No further splits with positive gain, best gain: -inf\n",
      "[LightGBM] [Warning] No further splits with positive gain, best gain: -inf\n",
      "[LightGBM] [Warning] No further splits with positive gain, best gain: -inf\n",
      "[LightGBM] [Warning] No further splits with positive gain, best gain: -inf\n",
      "[LightGBM] [Warning] No further splits with positive gain, best gain: -inf\n",
      "[LightGBM] [Warning] No further splits with positive gain, best gain: -inf\n",
      "[LightGBM] [Warning] No further splits with positive gain, best gain: -inf\n",
      "[LightGBM] [Warning] No further splits with positive gain, best gain: -inf\n",
      "[LightGBM] [Warning] No further splits with positive gain, best gain: -inf\n",
      "[LightGBM] [Warning] No further splits with positive gain, best gain: -inf\n"
     ]
    }
   ],
   "source": [
    "from lightgbm import LGBMRegressor\n",
    "lgbm=LGBMRegressor(num_leaves=61,max_depth=5,n_estimators=500) \n",
    "lgbm.fit(X_train,y_train)\n",
    "y_pred=lgbm.predict(X_test)\n",
    "\n"
   ]
  },
  {
   "cell_type": "code",
   "execution_count": 563,
   "metadata": {},
   "outputs": [],
   "source": [
    "id=X_test['id']\n",
    "y_pred_s=pd.Series(y_pred,name='Degerlendirme Puani')\n",
    "submission_csv=pd.concat([id,y_pred_s],axis=1)"
   ]
  },
  {
   "cell_type": "code",
   "execution_count": null,
   "metadata": {},
   "outputs": [],
   "source": []
  }
 ],
 "metadata": {
  "kernelspec": {
   "display_name": "Python 3",
   "language": "python",
   "name": "python3"
  },
  "language_info": {
   "codemirror_mode": {
    "name": "ipython",
    "version": 3
   },
   "file_extension": ".py",
   "mimetype": "text/x-python",
   "name": "python",
   "nbconvert_exporter": "python",
   "pygments_lexer": "ipython3",
   "version": "3.11.7"
  }
 },
 "nbformat": 4,
 "nbformat_minor": 2
}
