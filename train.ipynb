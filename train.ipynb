{
 "cells": [
  {
   "cell_type": "code",
   "execution_count": 2,
   "metadata": {},
   "outputs": [],
   "source": [
    "import numpy as np\n",
    "import pandas as pd\n",
    "import seaborn as sns\n",
    "import matplotlib.pyplot as plt"
   ]
  },
  {
   "cell_type": "code",
   "execution_count": 5,
   "metadata": {},
   "outputs": [
    {
     "name": "stderr",
     "output_type": "stream",
     "text": [
      "C:\\Users\\Emirhan\\AppData\\Local\\Temp\\ipykernel_17800\\2436019669.py:1: DtypeWarning: Columns (13,15,19,30,32,37,41,42) have mixed types. Specify dtype option on import or set low_memory=False.\n",
      "  df = pd.read_csv('train.csv')\n"
     ]
    }
   ],
   "source": [
    "df = pd.read_csv('train.csv')"
   ]
  },
  {
   "cell_type": "code",
   "execution_count": 8,
   "metadata": {},
   "outputs": [],
   "source": [
    "df = df[df['Cinsiyet'].notna() & (df['Cinsiyet'] != '')]"
   ]
  },
  {
   "cell_type": "code",
   "execution_count": 22,
   "metadata": {},
   "outputs": [
    {
     "data": {
      "text/plain": [
       "array(['Hayır', 'Evet', nan], dtype=object)"
      ]
     },
     "execution_count": 22,
     "metadata": {},
     "output_type": "execute_result"
    }
   ],
   "source": [
    "unique_val = df['Baska Bir Kurumdan Burs Aliyor mu?'].unique()\n",
    "unique_val"
   ]
  },
  {
   "cell_type": "code",
   "execution_count": 23,
   "metadata": {},
   "outputs": [],
   "source": [
    "df.loc[df['Baska Bir Kurumdan Burs Aliyor mu?'] == 'Hayır', 'Burs Aldigi Baska Kurum'] = 0"
   ]
  },
  {
   "cell_type": "code",
   "execution_count": 24,
   "metadata": {},
   "outputs": [],
   "source": [
    "df.loc[df['Baska Bir Kurumdan Burs Aliyor mu?'].isnull(), 'Burs Aldigi Baska Kurum'] = 0"
   ]
  },
  {
   "cell_type": "code",
   "execution_count": 25,
   "metadata": {},
   "outputs": [
    {
     "data": {
      "text/html": [
       "<div>\n",
       "<style scoped>\n",
       "    .dataframe tbody tr th:only-of-type {\n",
       "        vertical-align: middle;\n",
       "    }\n",
       "\n",
       "    .dataframe tbody tr th {\n",
       "        vertical-align: top;\n",
       "    }\n",
       "\n",
       "    .dataframe thead th {\n",
       "        text-align: right;\n",
       "    }\n",
       "</style>\n",
       "<table border=\"1\" class=\"dataframe\">\n",
       "  <thead>\n",
       "    <tr style=\"text-align: right;\">\n",
       "      <th></th>\n",
       "      <th>Basvuru Yili</th>\n",
       "      <th>Degerlendirme Puani</th>\n",
       "      <th>Burslu ise Burs Yuzdesi</th>\n",
       "      <th>id</th>\n",
       "    </tr>\n",
       "  </thead>\n",
       "  <tbody>\n",
       "    <tr>\n",
       "      <th>count</th>\n",
       "      <td>64956.000000</td>\n",
       "      <td>64955.000000</td>\n",
       "      <td>22404.000000</td>\n",
       "      <td>64956.000000</td>\n",
       "    </tr>\n",
       "    <tr>\n",
       "      <th>mean</th>\n",
       "      <td>2018.272461</td>\n",
       "      <td>32.112539</td>\n",
       "      <td>34.202910</td>\n",
       "      <td>32545.815752</td>\n",
       "    </tr>\n",
       "    <tr>\n",
       "      <th>std</th>\n",
       "      <td>2.671200</td>\n",
       "      <td>18.144754</td>\n",
       "      <td>41.639146</td>\n",
       "      <td>18802.364670</td>\n",
       "    </tr>\n",
       "    <tr>\n",
       "      <th>min</th>\n",
       "      <td>2014.000000</td>\n",
       "      <td>0.000000</td>\n",
       "      <td>0.000000</td>\n",
       "      <td>0.000000</td>\n",
       "    </tr>\n",
       "    <tr>\n",
       "      <th>25%</th>\n",
       "      <td>2016.000000</td>\n",
       "      <td>18.000000</td>\n",
       "      <td>0.000000</td>\n",
       "      <td>16272.750000</td>\n",
       "    </tr>\n",
       "    <tr>\n",
       "      <th>50%</th>\n",
       "      <td>2019.000000</td>\n",
       "      <td>29.000000</td>\n",
       "      <td>0.000000</td>\n",
       "      <td>32520.500000</td>\n",
       "    </tr>\n",
       "    <tr>\n",
       "      <th>75%</th>\n",
       "      <td>2021.000000</td>\n",
       "      <td>44.000000</td>\n",
       "      <td>75.000000</td>\n",
       "      <td>48835.250000</td>\n",
       "    </tr>\n",
       "    <tr>\n",
       "      <th>max</th>\n",
       "      <td>2022.000000</td>\n",
       "      <td>102.000000</td>\n",
       "      <td>100.000000</td>\n",
       "      <td>65124.000000</td>\n",
       "    </tr>\n",
       "  </tbody>\n",
       "</table>\n",
       "</div>"
      ],
      "text/plain": [
       "       Basvuru Yili  Degerlendirme Puani  Burslu ise Burs Yuzdesi  \\\n",
       "count  64956.000000         64955.000000             22404.000000   \n",
       "mean    2018.272461            32.112539                34.202910   \n",
       "std        2.671200            18.144754                41.639146   \n",
       "min     2014.000000             0.000000                 0.000000   \n",
       "25%     2016.000000            18.000000                 0.000000   \n",
       "50%     2019.000000            29.000000                 0.000000   \n",
       "75%     2021.000000            44.000000                75.000000   \n",
       "max     2022.000000           102.000000               100.000000   \n",
       "\n",
       "                 id  \n",
       "count  64956.000000  \n",
       "mean   32545.815752  \n",
       "std    18802.364670  \n",
       "min        0.000000  \n",
       "25%    16272.750000  \n",
       "50%    32520.500000  \n",
       "75%    48835.250000  \n",
       "max    65124.000000  "
      ]
     },
     "execution_count": 25,
     "metadata": {},
     "output_type": "execute_result"
    }
   ],
   "source": [
    "df.describe()"
   ]
  },
  {
   "cell_type": "code",
   "execution_count": 27,
   "metadata": {},
   "outputs": [],
   "source": [
    "df = df[df['Degerlendirme Puani'].notna() & (df['Degerlendirme Puani'] != '')]"
   ]
  },
  {
   "cell_type": "code",
   "execution_count": 28,
   "metadata": {},
   "outputs": [],
   "source": [
    "df = df[df['Dogum Tarihi'].notna() & (df['Dogum Tarihi'] != '')]"
   ]
  },
  {
   "cell_type": "code",
   "execution_count": 29,
   "metadata": {},
   "outputs": [],
   "source": [
    "df = df[df['Dogum Yeri'].notna() & (df['Dogum Yeri'] != '')]"
   ]
  },
  {
   "cell_type": "code",
   "execution_count": 30,
   "metadata": {},
   "outputs": [],
   "source": [
    "df = df[df['Ikametgah Sehri'].notna() & (df['Ikametgah Sehri'] != '')]"
   ]
  },
  {
   "cell_type": "code",
   "execution_count": 31,
   "metadata": {},
   "outputs": [
    {
     "data": {
      "text/plain": [
       "array([nan, '-', 'ÖZEL FEN LİSESİ',\n",
       "       'Sosyal Bilimleri Lisesi seçeneği koymadığınız için Fen Lisesi sekmesini işaretledim.',\n",
       "       'Grafik Ve Fotoğraf', 'Bilişim Teknolojileri', 'mezuniyet notu:80',\n",
       "       'Çocuk gelişimi ve eğitimi', 'yabancı dili:almanca', 'Ticaret',\n",
       "       'devlet lisesi', 'Bilgisayarlı Muhasebe bölümü',\n",
       "       'Güverte Yönetimi', 'Gazetecilik', 'Bakalorya programı',\n",
       "       'Eşit ağırlık devlet lisesi', 'Bilgisayarlı Muhasebe',\n",
       "       'Alman Bölümü', 'Muhasebe ve Finansman', 'ANADOLU ÖĞRETMEN LİSESİ',\n",
       "       'turizm ve otelcilik', 'dil bölümü', 'halkla ilişkiler',\n",
       "       'IB High level : Fizik Matematik', 'Pazarlama', 'MUHASEBE',\n",
       "       'İnşaat Teknolojisi', 'ACİL TIP TEKNİKERLİĞİ',\n",
       "       'Grafik Tasarım ve Fotoğrafçılık', 'elektrik ve elektronik',\n",
       "       'görüntü ve ses', 'Uluslararası Bakalorya Diploma Programı',\n",
       "       'ÇOCUK GELİŞİMİ',\n",
       "       'İlk üç sene sayısal (1 yıl International Baccalaureate), son yıl regular programda eşit ağırlık',\n",
       "       'Genel', 'Bilgisayar Programcılığı',\n",
       "       '3sene sayısal , son sene eşit ağırlık', 'Grafik ve Fotoğraf',\n",
       "       'Bilgisayar bölümü ', 'IB Programı', 'Meslek',\n",
       "       'Özel Fen lisesine okuduğum için dolaylı olarak bölümüm sayısaldı ancak resmiyette alanımız yoktu. ',\n",
       "       'Muzik', 'Alan dışı', 'Lojistik', 'Fen lisesi',\n",
       "       'Metal Teknolojileri', 'ACİL TIP TEKNİSYENİ', 'IB/Sayısal',\n",
       "       '1,2, ve 3. sınıflarda FM öğrencisiyken son sene TM bölümüne geçiş yaptım',\n",
       "       'Çocuk Gelişimi', 'Diş Teknisiyenliği', 'makine teknolojileri',\n",
       "       'Hemşirelik', 'Alan yok', 'Blişim Teknolojileri', 'bilimsel (FEN)',\n",
       "       'Bilişim Teknolojileri - Veri Tabanı Programcılığı',\n",
       "       'bilişim teknolojileri', 'IB', 'Veri tabanı programcılığı',\n",
       "       'Düz lise', 'Giyim üretim teknolojisi',\n",
       "       'elektrik-elektronik teknolojisi bölümü', 'muhasebe',\n",
       "       'Elektronik Haberleşme Sistemleri', 'HEMŞİRELİK',\n",
       "       'Pazarlama ve perakende', 'Cnc', 'Bilim', 'Uluslararası Bakalorya',\n",
       "       'Bilgisayar', 'inşaat', 'Duz', 'ILAHIYAT', 'Spor bölümü',\n",
       "       'Sadece ilk oturum', 'Acil Tıp Teknisyenliği', 'Meslek lisesi',\n",
       "       'Alan Seçimi Yok', 'Muhasebe', 'Çocuk gelişimi özel eğitim',\n",
       "       'Polis Akademisine öğrenci kaynağı yetiştiren Emniyet Genel Müdürlüğüne bağlı lise düzeyinde eğitim veren kurum',\n",
       "       'radyo televizyon ve sinema', 'resim', 'Sağlık bakım teknisyeni',\n",
       "       'Web programcılığı', 'Çocuk gelişimi',\n",
       "       'Grafik tasarım ve fotoğrafçılık', 'Bilişim teknolojileri',\n",
       "       'Bilişim Teknolojileri Bölümü', 'Muhasebe ve finansman',\n",
       "       'Bİlgisayarlı muhasebe', 'Web Tasarım ve Programlama',\n",
       "       'Çocuk gelisimi', 'sayisal ve sozel',\n",
       "       '3 yıl sayısal son yıl TM okudum.', 'Denizcilik', 'Bilişim',\n",
       "       '3 yıl sayısal son yıl eşit ağırlık bölümündeydim.',\n",
       "       'Web Programcılığı', 'Elektrik-Elektronik Teknolojisi',\n",
       "       'Yabancı Dil ağırlıklı sözel', 'İnşaat teknolojisi',\n",
       "       'Bilişim Sistemleri / Veritabanı Programcılığı (Sayısal)',\n",
       "       'giyim üretim teknolojisi', 'muhasebe finansman',\n",
       "       'Elektrik Elektronik', 'Bilgisayar teknikerligi',\n",
       "       'Acil Tıp Teknisyeni', 'Makine', 'Ağ İşletmenciliği', 'Güverte',\n",
       "       'Veri', 'ALAN YOK', 'Fen Lisesi', 'Eşit Ağrılık2012/13',\n",
       "       'GAZETECİLİK BÖLÜMÜ', 'Eşit Ağırlık Bölümü Okudum', 'Süper Lise',\n",
       "       'grafik ve fotoğraf', 'grafik tasarım ve fotoğrafçılık',\n",
       "       'muhasebe finans bölümü', 'büroyonetimi ve tıp sektreterliği',\n",
       "       'endüstriyel kontrol', 'yok.', 'hasta ve yaşlı hizmetleri',\n",
       "       'bilişim teknolojileri / veri tabanı programcılığı',\n",
       "       'Teknik Lise Web Program Programcılığı',\n",
       "       'Giyim Üretim Teknolojisi', 'Web tasarım ve programlama',\n",
       "       'İklimlendirme', 'Makina Ressamlığı', 'Elektrik-Elektronik',\n",
       "       'Dış Ticaret', 'Bilişim Teknolojileri / Veri Tabanı Programcılığı',\n",
       "       'Bar', 'Kolej',\n",
       "       'İlk 3 yıl sayısal son 1 yıl TM (okumak istediğim bölüme karar verdiğim için)',\n",
       "       'Web Tasarım', 'Elektrik Elektronik / Haberleşme', 'Bölüm Yok',\n",
       "       'Yapı Ressamlığı', 'Ulaştırma Hizmetleri (Lojistik)',\n",
       "       'ATT ACİL TIP TEKNİKERLİĞİ', 'Yiyecek ve içecek',\n",
       "       'Grafik Tasarım Ve Fotoğrafçılık', 'Makina Teknolojisi',\n",
       "       'Veri tabanı programcılğı', 'Uluslararası Bakalorya (IB)',\n",
       "       '3 yıl sayısal son yıl eşit ağırlık', 'DIŞ TİCARET',\n",
       "       'Muhasebe (dış ticaret)', 'GEMİ MAKİNA ZABİTLİĞİ',\n",
       "       'Elektrik ve elektronik pano montörlüğü',\n",
       "       'International Baccalaureatte',\n",
       "       'Lisemizde herhangi bir şekilde bölüm seçme durumu yoktu.',\n",
       "       'Ön Büro ve Konaklama İşletmeciliği', 'Web proglamlama',\n",
       "       'İstanbul', 'BİLGİSAYARLI MUHASEBE',\n",
       "       'AP Branş derleri ile seçmeli Amerikan sistemi. Tekil müfredat yok.',\n",
       "       'moda tasarım', 'Veritabanı Programcılığı', 'Grafik tasarımı',\n",
       "       'Meslek- Bilişim', 'Mekatronik',\n",
       "       'Bilişim teknolojileri / Web tasarım', 'Dış ticaret muhasebe',\n",
       "       'Sağlık Bakım Teknisyeni', 'açıköğretim', 'Gıda Teknolojisi',\n",
       "       'Sayısal', 'international baccalaureate',\n",
       "       'Grafik ve Fotoğrafçılık', 'Tüm Dersler+dil+mesleki dersler',\n",
       "       'yok', 'ts', 'Elektrik Elektronik bölümü', 'elektrik elektronik',\n",
       "       'Ulaştırma/Lojistik', 'Muhasebe Finansman', 'Yat kaptanlığı',\n",
       "       'Sosyal Bilimler', 'TMS ', 'Eloktronik',\n",
       "       '3 yıl sayısal 1 yıl eşit ağırlık', 'Bolum yok',\n",
       "       'Polis Koleji müfredatı eşit ağırlık ağrılıklı', 'Gemi Yönetimi',\n",
       "       'Lisede bölüm seçmiyorduk.', 'alan yok', 'ELEKTRİK', 'Alanı Yok',\n",
       "       'teknik kimya', 'Bilişim eknolojileri', 'Almanca',\n",
       "       'Sınava eşit ağırlıktan girdim.', 'Mutfak',\n",
       "       'Amerikadaki okulumda alan seçmek gibi bir zorunluluğum yoktu, o nedenle herhangi bir alandan mezun olarak bitirmedim.',\n",
       "       'Matematik Fen', 'BU BİLGİLER MEZUN OLDUĞUM LİSE BİLGİLERİDİR.',\n",
       "       'Aynı zamanda Fen öğrencisiydim.', 'meslek lisesi',\n",
       "       'Bilgisayar programcılığı / Web tasarım',\n",
       "       'BÜRO YÖNETİMİ VE SEKRETERLİK BÖLÜMÜ TIP SEKRETERLİĞİ ALANI', '86',\n",
       "       'Anadolu Öğretmen Lisesi', 'Spor',\n",
       "       'Radyo Televizyon Programcılığı',\n",
       "       'Bilişim/ Web Tasarım ve Programlama',\n",
       "       'Bilgisayarlı Muhasebe/Muhasebe ve Finans', '84',\n",
       "       'BİLİŞİM TEKNOLOJİLERİ', 'BİLİŞİM SİSTEMLERİ',\n",
       "       'Çocuk Gelişimi ve Eğitimi', 'Cocuk gelisimi ve eğitimi',\n",
       "       'Bilgisayar Teknolojileri', 'Saglik bilimleri bioloji kimya',\n",
       "       'Almanca dili', '79.25', 'Meslek bölümü', 'elektrik-elektronik',\n",
       "       'Adalet', 'sayısal',\n",
       "       'Askeri Liselerde Bölüm Sistemi Mevcut Olmayıp Bütün Dersler Görülmekteydi.',\n",
       "       'Elektrik Elektronik mezunuyum',\n",
       "       'Türkçe-Matematik-Sosyal Sadece SBLlerde uygulanan TMS bölümü',\n",
       "       'Öğretmen lisesi', 'International Bachelorate - SAT- AP',\n",
       "       'erken cocukluk', '.', 'Yok', 'International Baccalaureate',\n",
       "       'makina cnc', '3. sınıfta TMye geçtim',\n",
       "       'Elektrik Elektronik Teknolojisi', 'BİLGİSAYAR',\n",
       "       'İngilizce ağırlıklı sayısal', 'çocuk gelişimi',\n",
       "       'Makine Teknolojisi', 'Otomasyon sistemleri',\n",
       "       'Veri Tabanı Programcılığı', 'MUHASEBE VE FİNANSMAN',\n",
       "       'Yabancı Dille Eğitim Yapan Özel Lise', 'Front Office',\n",
       "       'GIDA TEKNOLOJİSİ', 'bilgisayar', 'Bilgisayar bölümü',\n",
       "       'Giyim üretim teknolojileri', 'Türkçe sosyal Sözel',\n",
       "       'Ulaştırma Hizmetleri/Lojistik', 'Bilişim Teknelojileri', 'makine',\n",
       "       'SOSYAL BİLİMLER LİSESİ', 'BilişimTeknolojileri alanı',\n",
       "       'ELEKTRİK-ELEKTRONİK TEKNOLOJİLERİ', 'sigortacılık',\n",
       "       'Halkla ilişkiler ve Organizasyon', 'KİMYA BÖLÜMÜ',\n",
       "       'Giyim Üretim Kadın Terziliği', 'moda Tasarım',\n",
       "       'Sosyal Bilimler Lisesi', 'okul birincisi olarak mezun oldum',\n",
       "       'Bilim İnsanı Yetiştirme Programı', 'Resim',\n",
       "       'Bilişim Teknolojileri/Veri tabanı programcılığı',\n",
       "       'Bilgisayarlı muhasebe ve fansman', 'Muhasebe-Finansman',\n",
       "       'Bilişim Alanı', 'büro yönetimi ve sekreterlik',\n",
       "       'Bilişim Teknolojileri Alanı', 'T-M',\n",
       "       'eklemek istediğim birşey yok', 'GAZETECİLİK/ SAYFA sEKRETERLİĞİ',\n",
       "       'muhasebe ve finans', 'gemi yapım alanı', 'veri tabanı',\n",
       "       'Web tasarımı', 'Konaklama ve Seyahat', 'Aşçılık',\n",
       "       'BİLİŞİM TEKNOLOJİLERİ ALANI/WEB TASARIM DALI',\n",
       "       'Makine Ressamlığı', 'sayısaldan geçiş', 'Fen Bilimleri',\n",
       "       'MİMARLIK BÖLÜMÜ', 'Elektrik-elektronik teknolojileri',\n",
       "       'CNCBilgisayar Sayımlı Yönetim', 'GEMİ YÖNETİMİ GÜVERTE', 'EA',\n",
       "       'Çocuk ve Gelişimi', 'bilişim', 'WEB TASARIM VE PROGRAMLAMA',\n",
       "       'Yabancı dil', 'bilgisayar proğramcılığı', 'kimya', 'sözel',\n",
       "       'MUHASEBE-FİNANSMAN', 'Bilgisayarlı muhasebe', 'Otomasyon',\n",
       "       'Science', '+Bilgisayar',\n",
       "       'MAKİNE TEKNOLOJİLERİ/BİLGİSAYARLI MAKİNE İMALATI', 'hemşirelik',\n",
       "       'ELEKTRİK ELEKTRONİK', 'teknoloji tasarım', 'alansız', 'sağlık',\n",
       "       'Otomasyon bölümü', 'Yiyecek İçecek Hizmetleri',\n",
       "       'Otomasyon Sistemleri', 'Muhasebe ve Finans', 'tekstil',\n",
       "       'ÇOCUK GELİŞİMİ VE EĞİTİMİ', 'Elektrik Elektronik .Teksnolojisi',\n",
       "       'ENDÜSTRİYEL OTOMASYON', 'İnşaat Teknolojileri', 'El sanatları',\n",
       "       'bilgisayarlı muhasebe', 'Grafik ve Fotoğraçılık', '79.73',\n",
       "       'Bilişim Teknolojileri-Web Tasarım', 'SBL', 'Bilgisayar donanım',\n",
       "       'Radyo ve Televizyon', 'Eşit ağırlık',\n",
       "       'BİLİŞİM TEKNOLOJİLERİ ALANI',\n",
       "       'Muhasebe / Dış ticaret ve finansman', 'Sosyal Bİlimler Lisesi',\n",
       "       'normal', 'çocuk gelişimi ve eğitimi Bölümü',\n",
       "       'Bilişim TeknolojileriVeri Tabanı Prog.',\n",
       "       'yiyecek içecek hizmetleri', 'OTOMOTİV',\n",
       "       'çocuk gelişim alanı özel eğitim bölümü',\n",
       "       'UÇAK BAKIM - UÇAK ELEKTRİK-ELEKTRONİĞİ',\n",
       "       'Bilgiaayar Programcılığı', 'Biyomedikal', 'bölüm ayrımı olmayan',\n",
       "       '0', 'Elektrik-Elektronik Teknolojileri', 'ÇOCUK GELİŞİMİ EĞİTİMİ',\n",
       "       'Grafik Tasarım', 'bilgisayar web programcılığı',\n",
       "       'Çocuk gelişimi bölümü', 'ELEKTRİK-ELEKTRONİK', 'müzik',\n",
       "       'Yiyecek ve İçecek/ Mutfak',\n",
       "       'Bilişim Teknolojileri/Web Programcılığı', 'Aşşçılık',\n",
       "       'Bilgisayarlı Muhasebe ve Finansman', 'eşit ağırlık',\n",
       "       'buro yonetimi ve sekreterlik', 'muhasebe bölümü', 'sözel bölüm',\n",
       "       'elektronik', 'Çocuk Gelişimi bölümü', '...', 'psikoloji',\n",
       "       'Spor Branşı/Atletizm', 'çocuk gelişimi ve eğitim alanı',\n",
       "       'dil alanı', 'İnşaat Teknolojileri/Yapı Ressamlığı',\n",
       "       'acil tıp teknisyeni',\n",
       "       'Elektrik Elektronik Bölümü/ Esndüstriye Bakım Onarım',\n",
       "       'Yiyecek İçecek Hizmetleri / Bar',\n",
       "       'Bilgisayar Programcılığı / Veri tabanı', 'resim bölümü',\n",
       "       'Elektronik', 'radyo-tvprogramcılığı', 'RESİM',\n",
       "       'MUHASEBE VE VERGİ UYGULAMALARI', 'FİNANS BORSA',\n",
       "       'Cocuk Gelisimi ve Egitimi', 'KİMYA TEKNOLOJİSİ/KİMYA LABORATUARI',\n",
       "       'yiyecek içecekmutfak',\n",
       "       'makine teknolojileri/bilgisayarlı makina imalatıCNC',\n",
       "       'Matemetil Sayısal', 'Sayisal', 'meslek sayısal',\n",
       "       'Muhasebe ve Finansman Bölümü', 'sosyal hizmetler',\n",
       "       'Tarım teknolojileri', 'gıda teknolojisi',\n",
       "       'grafik ve fotografçılık', 'elektrik elektronik haberlesme',\n",
       "       'grafik tasarım', 'anadolu lisesi',\n",
       "       'Eletrik Elektronik Teknolojisi- Endüstriyel Bakım Onarım dalı',\n",
       "       'WEB TASARIM', 'Anadolu Teknik', 'İbrahim Çalık', 'Elektrik',\n",
       "       'Makina-Sayısal', 'çocuk gelişimi ve eğitimi', 'Makina',\n",
       "       'YİYECEK İÇECEK HİZMETLERİ', 'FİNANSMANMUHASEBE', 'Alansız',\n",
       "       'Motorlu Araçlar Teknolojisi', 'RADYO TELEVİZYON', 'makina CNC',\n",
       "       'saç bakımı ve güzellik hizmetleri programı',\n",
       "       'Ayakkabı ve Saraciye Teknolojileri', 'Muhasebe Ve Finansman',\n",
       "       'acik ogretim lisesi', 'Sözel', 'ELEKTRONİK', 'Teknik Alan',\n",
       "       'bilişim teknolojisi', '74,18 100 lük sistemde',\n",
       "       'End Kalıp tasarım', 'BİLGİSAYAR PROGRAMCILIĞI', 'Gazeticilik',\n",
       "       'web tasarım', 'Hasta ve Yaşlı Bıkımı', 'wep tasarım bölümü', 'hs',\n",
       "       'eşitağırlık', 'Elektrik - Elektronik Teknolojisi',\n",
       "       'CNCComputer Numerık Kontrol', 'Veri Tabanı Programcılığı Bölümü',\n",
       "       'Fizik kimya biyoloji', 'Muhasebe Finans', 'Elektrik - Elektronik',\n",
       "       'Elektrik elektronik', 'Sözel /sosyal', 'sayısal matematik',\n",
       "       'alan yoktu', 'MAKİNE', 'dini ve sosyal', 'Elektrik Alanı',\n",
       "       'Bilgisayar Bölümü/Web Programcılığı', 'Makine Bölümü',\n",
       "       'Elektronik Teknolojisi', 'ELEKTRIK ELEKTRONIK TEKNOLOJILERI',\n",
       "       'sayısal bölüm olarak kabul edilmektedir elektrik böümü.',\n",
       "       'elektrik-elektronik teknolojisi', 'tm', 'Müzik Bölümü',\n",
       "       'web tasarım ve programlama', 'elektirik elektronik',\n",
       "       'bilisim teknolojileri', 'Elektrik ve Teknoloji',\n",
       "       'Web tasarım ve Programlama', 'soğutma ve iklimlendirme',\n",
       "       'bilgisayar programlama', 'Büro Yönetimi ve Yönetici Asistanlıgı',\n",
       "       'Sayısal Matematik-Fen', 'ahşap tekmolojisi', 'FEN',\n",
       "       'pazarlama perakende', 'makina ressamlığı', 'imam hatip',\n",
       "       'batman tutgut özal anadolu lisesi', 'Metal teknolojisi',\n",
       "       'BİLİŞİM TEKNOLOJİLERİ/Wep Programcılığı',\n",
       "       'elektrik elektronik teknolojisi', 'büro yönetimi',\n",
       "       'Bilişim Teknolojileri/Web Programcılıgı', 'anadolu teknik',\n",
       "       'elektrik-elektronik teknolojiler', 'Elektirik',\n",
       "       'Elektrik-elektronik',\n",
       "       'Bilişim Teknolojileri Veri Tabanı Programcılığı',\n",
       "       'Bİlişim sistemleri', 'makina teknolojisi', '78', 'bölüm yok',\n",
       "       '..', 'Bilgisayarlı Makine İmalatiCNC', '12.sınıfta TM ye gectim',\n",
       "       'Mezuniyet notum 100 % 67', 'ELEKTRİK ELEKTRONİK TEKNOLOJİSİ',\n",
       "       'bilgisayar bölümü', '------', 'BİLİŞİM BÖLÜMÜ', 'otomotiv',\n",
       "       'muhasebe ve finansman bilgisayarlı muhasebe bölümü',\n",
       "       'Elektronik Haberleşme Teknolojisi',\n",
       "       'Elektrik Elektronik Teknolojileri', 'ENDÜSTRİYEL BAKIM VE ONARIM',\n",
       "       'bize ders vermediler sadece boş bi kağıt parayı düşünen insanlar böyle olur',\n",
       "       'BİLİŞİM TEKNOLOJİLERİ / WEB PROGRAMCILIĞI',\n",
       "       'ELEKTRİK VE ELEKTRONİK TEKNOLOJİSİ', 'Bilgisayar Programlama',\n",
       "       '59,70 diploma puanı', 'Kimya', 'BİLGİSAYAR BÖLÜMÜ',\n",
       "       'bilişim teknolojileri bölümü',\n",
       "       'BİLİŞİM TEKNOLOJİLERİ VERİTABANI DALI', 'endusturu meslek lisesi',\n",
       "       'meslek', 'resim öğretmenliği', 'GENEL OLARAK SÖZEL.',\n",
       "       'Elektronik Haberleşme Tekn.', 'ELEKTRİK TEKNOLOJİSİ', 'MOTOR',\n",
       "       'Bilişim teknolojileri alanı', 'Bilişim Teknolojileri Bolumu',\n",
       "       'BİLGİSAYARLI MUASEBE', 'nuhasebe', 'Meslek Lisesi',\n",
       "       'anadolu öğretmen', 'Elektrik/Elektronik',\n",
       "       'ELEKTRONİK HABERLEŞME TEKNOLOJİSİ', 'metal teknoluji',\n",
       "       'Hayvan Sağlığı', 'Matbaa Teknolojisi Alanı',\n",
       "       'Muhasebe ve Vergi Uygulamaları', 'Elektrik elektronik bölümü',\n",
       "       'Bilisim Teknolojileri', 'İNŞAAT', 'genel kültür',\n",
       "       'Lisede bölüm farklılığı yoktu.', 'Askeri', 'Okul Öcesi Eğitimi',\n",
       "       'lojistik', 'bölüm yoktu karışık eğitim aldım', 'adalet',\n",
       "       'Web tasarım bölümü ', 'Yabancı dil + sayısal',\n",
       "       'Elektrik, elektronik ve Telekomünikasyon', 'Lojistik - Ulaştırma',\n",
       "       \"Eşit Ağırlık Sözel - TMS (SBL'lere özel)\", 'Bölüm yoktu',\n",
       "       'İnsaat Teknolojisi', 'Muhasebe ve finans ',\n",
       "       'Bilgisayarlı Muhasebe - Eşit Ağırlık', 'Spor ',\n",
       "       'bilgisayar/ veri tabanı programcılığı', 'Bigisayar Programlama',\n",
       "       'Muhasebe ', 'Turizm', 'Bilgisayar  bölümü', 'Hepsi',\n",
       "       'Gemi inşaatı', 'Cocuk gelişimi',\n",
       "       'metal kaynak celik kontruksiyon', 'Her sene birini okudum',\n",
       "       'Bölüm yok', 'Elektrik- Elektronik ', 'Bilişim Teknolojileri ',\n",
       "       \"Sağlık Meslek'de bölüm olmuyor\", 'Askeri Lise',\n",
       "       'Meslek Lisesi(Sayısal Bölüm)', 'Mobilya iç mekan tasarımj',\n",
       "       'IB International Baccalaureate',\n",
       "       'tesisat teknolojisi ve iklimlendirme', 'askeri lise',\n",
       "       'Muhasebe/Finansman', 'Makina Teknolojisi ', 'Dış ticaret',\n",
       "       'web tasarım programcılığı',\n",
       "       'Askeri Lise Olduğu İçin Bölüm Seçimi Yoktu',\n",
       "       'Grafik tasarim ve fotografcilik', 'Bilisim teknolojileri',\n",
       "       'Lisede IB(international Bachalorate) programindan mezun oldum ayrica sayisal bolumu derslerini de basari ile verdim',\n",
       "       'IT', 'AŞÇILIK', 'mobilya dekorasyon ', 'Konservatuvar',\n",
       "       'İlk üç yıl sayısal ve son yıl eşit ağırlık öğrencisi idim.',\n",
       "       'elektrik-elektornik', 'Elektrik- Elektronik', 'ÇOÇUK GELİŞİMİ',\n",
       "       'Mekanik', 'teknik lise', 'Uçak gövde motor', 'Hapisinden vardı ',\n",
       "       'Kontrol ve Otomasyon Teknolojileri',\n",
       "       'Büro Yönetimi ve Sekreterlik', 'Muhasebe finansman ',\n",
       "       'Alan dersleri C# Java', 'Elektro mekanik taşıyıcılar',\n",
       "       'muhasebe ve finansman', 'Meslek bilişim teknolojileri',\n",
       "       'Endüstriyel Otomasyon Teknolojileri', 'Veri tabanı Programcılığı',\n",
       "       'Peyzaj Planlama ve Tasarımı', 'Elektrik ve Elektronik',\n",
       "       'ELEKTRİK ELEKTRONİK/ ENDÜSTRİYEL BAKIM VE ONARIM',\n",
       "       '3 sene sayısal son sene eşit ağırlık okudum',\n",
       "       'Bilişim teknolojileri ', 'grafik', 'turizm otelcilik',\n",
       "       '3 sene sayısal son sene eşit ağırlık', 'Mekatronik/Otomasyon',\n",
       "       'fen', 'HEMŞİRE', 'imam hatip programı', 'Elektronik Güvenlik',\n",
       "       'Bilişim Teknolojileri / Web Programcılığı ve Tasarımı',\n",
       "       'Teknik bilgisayar', 'WEB PROGRAMCILIĞI', 'Askeri müfredat',\n",
       "       'edebi', 'Okul birincisi', 'Bilgisayar Bölümü', 'TM+sozel',\n",
       "       'Müzik', 'Laboratuvar Hizmetleri', 'Çocuk gelişimi ve özel egitim',\n",
       "       'Güzellik ve saç bakımı', 'X', 'Elektrik elektronik tekolojisi',\n",
       "       '11 yillik egtim', 'Anadolu Teknik Lisesi', 'spor',\n",
       "       'Büro Yönetimi ve Hukuk Sekreterliği', 'Mimari Yapı Ressamlığı',\n",
       "       'Makine (Bilgisayar Destekli Endüstriyel Modelleme)',\n",
       "       'Bilişim Teknolojileri Veritabanı Programcılığı',\n",
       "       'Gıda teknolojisi', 'Web Tasarımı',\n",
       "       'Bilgisayar destekli makina imalatı', 'diş protez',\n",
       "       'Otomativ Bölümü', 'Muhasebe/ Dış ticaret',\n",
       "       'elektronik ve haberleşme', 'Alanı yok',\n",
       "       'Elektrik-Elektronik Tesisat ve Pano monitörlüğü',\n",
       "       'Bilisim teknolojileri/ag isletmenligi', 'BÖLÜM YOK', 'Düz',\n",
       "       'Yabanci', 'Büro Yönetimi', 'gıda teknisyenliği',\n",
       "       'Çocuk Gelişimi ve eğitimi', 'makina bakım onarım',\n",
       "       'Alan ayrımı olmayan',\n",
       "       'BİLİŞİM TEKNOLOJİLERİ/VERİ TABANI PROGRAMCILIĞI',\n",
       "       'ELEKTRİK ELEKTRONİK TEKNOLOJİSİ ALANI - ENDÜSTRİYEL BAKIM ONARIM BÖLÜMÜ',\n",
       "       'Endüstriyel Otomasyon', 'Borsa finans hizmetler',\n",
       "       'Elektrik elektronik bölümü anadolu teknik', 'Genel kültür',\n",
       "       'Tarım Teknolojileri Alanı/ Endüstriyel sebze ve meyve yetiştiriciliği dalı',\n",
       "       'Bilişim Teknolojileri/Veritabanı', 'ELEKTRİK-ELEKTRONİK BÖLÜMÜ',\n",
       "       'Büro yönetimi', 'Teknik Servis', 'Web Programlama',\n",
       "       'TM ve MF aynı anda', 'anestezi', 'Edebiyat vé dil',\n",
       "       'Bilişim/Web Programlama', 'güzellik ve saç bakımı',\n",
       "       'Bölüm ayrımı yok', 'Tesisat teknolojisi ve iklimlendirme',\n",
       "       'METAL TEKNOLOJİLERİ', 'Çocuk Gelişimi Ve Eğitimi',\n",
       "       'Çocuk gelişimi ve eğitimi /Erken Çocukluk', 'Radyo Televizyon',\n",
       "       'Biyoloji', 'Grafik Tasarımı', 'Science, 16.5/20',\n",
       "       'Elektrik elektronik haberlesme',\n",
       "       'bilgisayar destekli makine ressamlığı', 'yazılım',\n",
       "       'TESİSAT TEKNOLOJİSİ VE İKLİMLENDİRME', 'Bilgiseyar',\n",
       "       'Servis bölümü', 'Veri Tabanlı Programlama',\n",
       "       'Makine Teknolojileri', 'ENDÜSTRİYEL OTOMASYON TEKNOLOJİLERİ',\n",
       "       'İmam hatip lisesi', 'Diş Protez Teknisyenliği',\n",
       "       'MUHASEBE FİNANSMAN', 'elektrik pano montatörlüğü',\n",
       "       'Makine Teknolojileri-Bilgisayar Destekli Endüstriyel Modelleme',\n",
       "       'Çoçuk gelişi Bölümü', 'dış ticaret',\n",
       "       'teknik Lise elektrik Elektronik',\n",
       "       'Makine Teknolojisi Alanı (zorunlu sayısal)',\n",
       "       'Hasta ve yaşlı hizemetleri', 'Yiyecek İcecek Hizmetleri',\n",
       "       'Kimya Teknolojisi', 'Borsa Finans', 'Eşit ağırlıklı',\n",
       "       'deri giyim tasarım', 'Elektrik Tesisatları ve Pano Monitörlüğü',\n",
       "       'Alan Yok', 'Pazarlama Ve Perakendecilik', 'baccalaureate',\n",
       "       'Bilişim Teknolojiler Alanı', 'Cocuk gelisimi',\n",
       "       'Bilişim Teknolojileri - Web Tasarım', 'Görüntü ve Ses Sistemleri',\n",
       "       'MUHASEBE VE FİNANSMAN ALANI', 'ASKERİ LİSE',\n",
       "       'MUHASEBE VE FİNANMAN', 'Askeri lise', 'Turizm Meslek Lisesi',\n",
       "       'mutfak', 'İmam Hatip', 'düz lise', 'Özel eğitim',\n",
       "       'Bilişim ve Teknolojileri | Web Programcılığı',\n",
       "       'Türkçe - Matematik - Sosyal', 'Otomasyon teknolajileri',\n",
       "       'Plastik Teknolojisi / Kalıp', 'Web tasarim',\n",
       "       'mobilya ve dekerasyon', 'Muhasebe ve finasman',\n",
       "       'Grafik tasarım ve fotoraf', 'Ön büro',\n",
       "       'duz lise. bolum kaldirildi.', 'Sosyal Hizmetler',\n",
       "       'Muhasebe Ve Finansman Uygulamaları', 'Hasta ve yaşlı hizmetleri',\n",
       "       'Bilişim Teknolojileri-Programlama',\n",
       "       'mobilya ve iç mekan tasarımı alanı', 'Fen bilimleri',\n",
       "       'bilgisayar programcılığı',\n",
       "       'Uluslararası Bakalorya Programı ve MF bölümü çift diploma',\n",
       "       'Grafik tasarim', 'SANAT VE TASARIM',\n",
       "       'Bilgisayar Destekli Makine Ressamlığı',\n",
       "       'Bilişim Teknolojileri - Web Programcılığı',\n",
       "       'Giyim Üretim Teknolojileri', 'genel', 'Resim Bölümü',\n",
       "       'Bölüm olmayan', 'muhasebe ve finasman', 'Muhasebe- Dış Ticaret',\n",
       "       'Giyim üretim teknolojisi / kadın giysi modelistliği',\n",
       "       'güvenlik sistemleri', 'Sanat ve tasarım', 'elektrik',\n",
       "       'turizm lisesi', 'Çocuk gelişimi,TM',\n",
       "       'bilişim teknolojileri/web programcılığı', 'ağ işletmenliği',\n",
       "       'hasta ve yaşlı bakımı', 'Bilimsel', 'Ulaştırma Hizmetleri',\n",
       "       'Cnc Tezgahları ve Modelleme', 'BİYOMEDİKAL',\n",
       "       'YİYECEK VE İÇECEK BÖLÜMÜ', 'Alan-Dal Yok',\n",
       "       'Elektromekanik - Deniz Motorları', 'Ahşap', 'Tarım teknoloji',\n",
       "       'Kadın Giyim Modelistliği', 'Anestezi ve Reanimasyon',\n",
       "       'grafik tasarımı', 'Elektrik elektronik teknolojisi',\n",
       "       'makine / cnc', 'AÇIK ÖĞRETİM', 'Kimya Teknolijisi',\n",
       "       'Uçak Teknisyenliği (Gövde-Motor)',\n",
       "       'Anadolu İletişim Meslek Lisesi/Radyo Televizyon Programcılığı',\n",
       "       'Turizm ve Otelcilik/Konaklama ve Seyahat',\n",
       "       'Anestezi Ve Reanimasyon', 'Bilişim ve Teknolojileri',\n",
       "       'Kadın terziligi', 'askeri', 'Güzellik ve Saç Bakımı',\n",
       "       'Giyim üretimi', 'Açık öğretim', 'Web program', 'Genel Bilim Lise',\n",
       "       'Radyoloji teknisyeni', 'BİLİMSEL', 'Sağlık lisesi',\n",
       "       'Sağlık hizmetleri/ Sağlık bakım teknisyeniliği.',\n",
       "       'Uygulamalı Askeri Bilimler - Akademik Eğitim', 'IB programı',\n",
       "       'Hemşire yardımcılığı', 'Halkla ilişkiler ve organizasyon',\n",
       "       'Sağlık', 'Hemşire', 'açık lise', 'TEKNİK LİSE',\n",
       "       'Çocuk Gelişimi ve Eğitimi alanı/erken çocukluk dalı',\n",
       "       'ÖZEL EĞİTİM', 'Yiyecek içecek hizmetleri', 'Muhasebe bölümü',\n",
       "       'Bilişim ve teknoloji', 'Turizm, konaklama ve seyahat alanı',\n",
       "       'Elektronik Haberleşme', 'Uçak Elektrik-Elektroniği',\n",
       "       'Açıköğretim okuduğum için bölümüm yok', 'Bölümü yok/ Dalı yok',\n",
       "       'anestezi ve reanimasyon', 'Çocuk Gelişimi- Özel Eğitim', 'farklı',\n",
       "       'açık öğretim', 'International Baccalaureate: 27',\n",
       "       'Bilişim teklonojileri bölümü Veri tabanı dalı', 'Gemi Yapımı',\n",
       "       'Bilişim Teknolojileri - Ağ İşletmenliği',\n",
       "       'motorlu araçlar teknolojisi', 'güverte', 'American Curriculum',\n",
       "       'International Baccalaureate diploma programı', 'Eşit - Dil',\n",
       "       'Bilgisayarlı muhasebe ve finansman', 'Grafik ve fotoğrafçılık',\n",
       "       'Web tasarım', 'Grafik tasarım ve fotoğraf',\n",
       "       'Büro yönetimi yönetici asistanlığı',\n",
       "       'Meslek lisesi, Tekstil bölümü', 'Acil Tıp teknisyeni', 'Anestezi',\n",
       "       'Bilişim Teknolojileri - Veritabanı', 'hem saysal hem sözel',\n",
       "       'Hemșire yardimcisi', 'Güzel sanatlar lisesi- resim bölümü',\n",
       "       'Kimya teknolojisi', 'MUHASEBE-BİLGİSAYARLI MUHASEBE',\n",
       "       'Halkla ilişkiler ve organizyon bölümü', 'Amerikan lisesi',\n",
       "       'Yabancı Dil/Eşit Ağırlık',\n",
       "       'Endüstriyel Otomasyon teknolojileri ,mekatronik alt dali',\n",
       "       'Diğer', 'Laboratuvar Teknisyenliği',\n",
       "       'Bilisim Teknolojileri/Web programcılığı',\n",
       "       'Açık lise olduğu için bölümüm yoktu.', 'Spor bilimleri',\n",
       "       'Açıköğretim', 'Tesisat&İklimlendirme', 'Gemi Makineleri',\n",
       "       'Tıbbı sekreterlik', 'Çocuk gelişim',\n",
       "       'Askeri lise okudum diğerden kastınızı anlamadım.', 'CNC',\n",
       "       'Bilisim Teknolojileri veri tabani programciligi',\n",
       "       'SAĞLIK BAKIM TEKNİSYENLİĞİ', 'Endüstriyel bakım onarım',\n",
       "       'Biyomedikal Cihaz Teknolojileri', 'Bilgisayar Proğramcılığı',\n",
       "       'düz', 'Sağlık meslek lisesi', 'Grafik ve fotoğraf',\n",
       "       'Yiyecek içecek servisi', 'giyim üretim teknolojileri',\n",
       "       'Bilişim teknolojileri / Veri tabanı programcılığı',\n",
       "       'Erken çocuklu eğitimi ve çocuk gelişimi',\n",
       "       'Endüstriyel Otomasyon/ Mekatronik', 'Taknik',\n",
       "       'Sağlık Meslek Lisesi', 'Grafik tasarım', 'kimya bölümü',\n",
       "       'Elektrik- elektronik', 'Kimya bölümü',\n",
       "       'Bilişim Teknolojileri - Veri Tabanı', 'Denizcilik alanı',\n",
       "       'Elektrik elektronik ve pano', 'Müzik bölümü',\n",
       "       'Saglik Meslek Lisesi',\n",
       "       'Heybeliada Askeri Deniz Lisesi, 4 yıl okudum', 'Radyoloji',\n",
       "       'Elektrik ve elektronik bölümü pano monitörlüğü ve tesisatçılık dalı',\n",
       "       'Harita', 'ELEKTRIK ELEKTRONİK', 'İmam hatip',\n",
       "       'Grafikerlik ve fotoğrafçılık', 'Anestezi teknisyenliği',\n",
       "       'Yiyecek icecek hizmetleri'], dtype=object)"
      ]
     },
     "execution_count": 31,
     "metadata": {},
     "output_type": "execute_result"
    }
   ],
   "source": [
    "df = df['Lise Bolum Diger'].fillna(0)"
   ]
  },
  {
   "cell_type": "code",
   "execution_count": 32,
   "metadata": {},
   "outputs": [],
   "source": [
    "df = df[df['Universite Kacinci Sinif'].notna() & (df['Universite Kacinci Sinif'] != '')]"
   ]
  },
  {
   "cell_type": "code",
   "execution_count": 33,
   "metadata": {},
   "outputs": [],
   "source": [
    "df = df[df['Universite Adi'].notna() & (df['Universite Adi'] != '')]"
   ]
  },
  {
   "cell_type": "code",
   "execution_count": 34,
   "metadata": {},
   "outputs": [],
   "source": [
    "df = df[df['Bölüm'].notna() & (df['Bölüm'] != '')]"
   ]
  },
  {
   "cell_type": "code",
   "execution_count": 40,
   "metadata": {},
   "outputs": [],
   "source": [
    "df.loc[(df['Universite Kacinci Sinif'] == '1') & (df['Universite Not Ortalamasi'].isnull()), 'Universite Not Ortalamasi'] = 0"
   ]
  },
  {
   "cell_type": "code",
   "execution_count": 41,
   "metadata": {},
   "outputs": [],
   "source": [
    "df.loc[(df['Universite Kacinci Sinif'] == 'Hazırlık') & (df['Universite Not Ortalamasi'].isnull()), 'Universite Not Ortalamasi'] = 0"
   ]
  },
  {
   "cell_type": "code",
   "execution_count": 42,
   "metadata": {},
   "outputs": [],
   "source": [
    "df = df[df['Universite Not Ortalamasi'].notna() & (df['Universite Not Ortalamasi'] != '')]"
   ]
  },
  {
   "cell_type": "code",
   "execution_count": 43,
   "metadata": {},
   "outputs": [
    {
     "name": "stderr",
     "output_type": "stream",
     "text": [
      "C:\\Users\\Emirhan\\AppData\\Local\\Temp\\ipykernel_17800\\2706039071.py:1: SettingWithCopyWarning: \n",
      "A value is trying to be set on a copy of a slice from a DataFrame.\n",
      "Try using .loc[row_indexer,col_indexer] = value instead\n",
      "\n",
      "See the caveats in the documentation: https://pandas.pydata.org/pandas-docs/stable/user_guide/indexing.html#returning-a-view-versus-a-copy\n",
      "  df['Daha Once Baska Bir Universiteden Mezun Olmus'] = df['Daha Once Baska Bir Universiteden Mezun Olmus'].fillna('Hayır')\n"
     ]
    }
   ],
   "source": [
    "df['Daha Once Baska Bir Universiteden Mezun Olmus'] = df['Daha Once Baska Bir Universiteden Mezun Olmus'].fillna('Hayır')"
   ]
  },
  {
   "cell_type": "code",
   "execution_count": 44,
   "metadata": {},
   "outputs": [],
   "source": [
    "df = df[df['Lise Adi'].notna() & (df['Lise Adi'] != '')]"
   ]
  },
  {
   "cell_type": "code",
   "execution_count": 45,
   "metadata": {},
   "outputs": [
    {
     "data": {
      "text/plain": [
       "array(['0', 'Kamu', 'Özel Sektör', 'Diğer', nan, 'KAMU', 'ÖZEL SEKTÖR',\n",
       "       'DİĞER', '-'], dtype=object)"
      ]
     },
     "execution_count": 45,
     "metadata": {},
     "output_type": "execute_result"
    }
   ],
   "source": [
    "unique_val = df['Anne Sektor'].unique()\n",
    "unique_val"
   ]
  },
  {
   "cell_type": "code",
   "execution_count": 48,
   "metadata": {},
   "outputs": [],
   "source": [
    "df.loc[df['Anne Calisma Durumu'] == 'Hayır', 'Anne Sektor'] = 0"
   ]
  },
  {
   "cell_type": "code",
   "execution_count": 49,
   "metadata": {},
   "outputs": [],
   "source": [
    "df.loc[df['Anne Calisma Durumu'] == 'Emekli', 'Anne Sektor'] = 0"
   ]
  },
  {
   "cell_type": "code",
   "execution_count": null,
   "metadata": {},
   "outputs": [],
   "source": [
    "df['Daha Once Baska Bir Universiteden Mezun Olmus'] = df['Daha Once Baska Bir Universiteden Mezun Olmus'].fillna('Hayır')"
   ]
  },
  {
   "cell_type": "code",
   "execution_count": 51,
   "metadata": {},
   "outputs": [],
   "source": [
    "df['Girisimcilik Kulupleri Tarzi Bir Kulube Uye misiniz?'] = df['Girisimcilik Kulupleri Tarzi Bir Kulube Uye misiniz?'].fillna('Hayır')"
   ]
  },
  {
   "cell_type": "code",
   "execution_count": 52,
   "metadata": {},
   "outputs": [],
   "source": [
    "df.loc[df['Ingilizce Biliyor musunuz?'].isnull(), ['Ingilizce Biliyor musunuz?', 'Ingilizce Seviyeniz?']] = 'Yok'"
   ]
  },
  {
   "cell_type": "code",
   "execution_count": 53,
   "metadata": {},
   "outputs": [],
   "source": [
    "df.loc[df['Ingilizce Biliyor musunuz?'] == 'Evet', ['Ingilizce Seviyeniz?']] = 'Baslangic'"
   ]
  },
  {
   "cell_type": "code",
   "execution_count": 54,
   "metadata": {},
   "outputs": [],
   "source": [
    "df.loc[df['Ingilizce Biliyor musunuz?'] == 'Hayır', ['Ingilizce Seviyeniz?']] = 'Yok'"
   ]
  },
  {
   "cell_type": "code",
   "execution_count": 55,
   "metadata": {},
   "outputs": [],
   "source": [
    "df.loc[df['Girisimcilikle Ilgili Deneyiminiz Var Mi?'] == 'Hayır', ['Girisimcilikle Ilgili Deneyiminizi Aciklayabilir misiniz?']] = 'Yok'"
   ]
  },
  {
   "cell_type": "code",
   "execution_count": 56,
   "metadata": {},
   "outputs": [],
   "source": [
    "df.loc[df['Girisimcilikle Ilgili Deneyiminiz Var Mi?'].isnull(), ['Girisimcilikle Ilgili Deneyiminiz Var Mi?','Girisimcilikle Ilgili Deneyiminizi Aciklayabilir misiniz?']] = 'Yok'"
   ]
  },
  {
   "cell_type": "code",
   "execution_count": 57,
   "metadata": {},
   "outputs": [],
   "source": [
    "df.loc[(df['Girisimcilikle Ilgili Deneyiminiz Var Mi?'] == 'Evet') & \n",
    "       (df['Girisimcilikle Ilgili Deneyiminizi Aciklayabilir misiniz?'].isnull()), \n",
    "       'Girisimcilikle Ilgili Deneyiminizi Aciklayabilir misiniz?'] = 'Yok'"
   ]
  },
  {
   "cell_type": "code",
   "execution_count": 58,
   "metadata": {},
   "outputs": [],
   "source": [
    "df.loc[df['Profesyonel Bir Spor Daliyla Mesgul musunuz?'].isnull(), ['Profesyonel Bir Spor Daliyla Mesgul musunuz?','Spor Dalindaki Rolunuz Nedir?']] = 'Yok'"
   ]
  },
  {
   "cell_type": "code",
   "execution_count": 59,
   "metadata": {},
   "outputs": [],
   "source": [
    "df.loc[df['Profesyonel Bir Spor Daliyla Mesgul musunuz?'] == 'Hayır', ['Spor Dalindaki Rolunuz Nedir?']] = 'Yok'"
   ]
  },
  {
   "cell_type": "code",
   "execution_count": 60,
   "metadata": {},
   "outputs": [],
   "source": [
    "df.loc[df['Daha Önceden Mezun Olunduysa, Mezun Olunan Üniversite'].isnull(), ['Daha Önceden Mezun Olunduysa, Mezun Olunan Üniversite']] = 'Yok'"
   ]
  },
  {
   "cell_type": "code",
   "execution_count": 65,
   "metadata": {},
   "outputs": [],
   "source": [
    "df = df[df['Lise Mezuniyet Notu'].notna() & (df['Lise Mezuniyet Notu'] != '')]"
   ]
  },
  {
   "cell_type": "code",
   "execution_count": 67,
   "metadata": {},
   "outputs": [],
   "source": [
    "df.loc[df['Universite Adi'] == ('MARMARA ÜNİVERSİTESİ'), ['Universite Turu']] = 'Devlet'\n",
    "df.loc[df['Universite Adi'] == ('HACETTEPE ÜNİVERSİTESİ'), ['Universite Turu']] = 'Devlet'\n",
    "df.loc[df['Universite Adi'] == ('BEYKENT ÜNİVERSİTESİ'), ['Universite Turu']] = 'Özel'\n",
    "df.loc[df['Universite Adi'] == ('VAN YÜZÜNCÜ YIL ÜNİVERSİTESİ'), ['Universite Turu']] = 'Devlet'"
   ]
  },
  {
   "cell_type": "code",
   "execution_count": 68,
   "metadata": {},
   "outputs": [],
   "source": [
    "df.loc[df['Universite Turu'] == 'DEVLET', ['Burslu ise Burs Yuzdesi']]= 100.0"
   ]
  },
  {
   "cell_type": "code",
   "execution_count": 69,
   "metadata": {},
   "outputs": [],
   "source": [
    "df.loc[df['Universite Turu'] == 'Devlet', ['Burslu ise Burs Yuzdesi']]= 100.0\n"
   ]
  },
  {
   "cell_type": "code",
   "execution_count": 76,
   "metadata": {},
   "outputs": [],
   "source": [
    "df.loc[(df['Aktif olarak bir STK üyesi misiniz?'].isnull()) & \n",
    "       (df['Hangi STK\\'nin Uyesisiniz?']=='Yok'), \n",
    "       'Aktif olarak bir STK üyesi misiniz?'] = 'Hayır'"
   ]
  },
  {
   "cell_type": "code",
   "execution_count": 77,
   "metadata": {},
   "outputs": [],
   "source": [
    "df = df[df['Hangi STK\\'nin Uyesisiniz?'].notna() & (df['Hangi STK\\'nin Uyesisiniz?'] != '')]"
   ]
  },
  {
   "cell_type": "code",
   "execution_count": 78,
   "metadata": {},
   "outputs": [],
   "source": [
    "df.loc[df['Stk Projesine Katildiniz Mi?'].isnull(), ['Stk Projesine Katildiniz Mi?']]='Hayır'"
   ]
  },
  {
   "cell_type": "code",
   "execution_count": 79,
   "metadata": {},
   "outputs": [],
   "source": [
    "df.loc[df['Baska Bir Kurumdan Burs Aliyor mu?'].isnull(), ['Baska Bir Kurumdan Burs Aliyor mu?']]='Hayır'"
   ]
  },
  {
   "cell_type": "code",
   "execution_count": null,
   "metadata": {},
   "outputs": [],
   "source": []
  }
 ],
 "metadata": {
  "kernelspec": {
   "display_name": "Python 3",
   "language": "python",
   "name": "python3"
  },
  "language_info": {
   "codemirror_mode": {
    "name": "ipython",
    "version": 3
   },
   "file_extension": ".py",
   "mimetype": "text/x-python",
   "name": "python",
   "nbconvert_exporter": "python",
   "pygments_lexer": "ipython3",
   "version": "3.11.5"
  }
 },
 "nbformat": 4,
 "nbformat_minor": 2
}
