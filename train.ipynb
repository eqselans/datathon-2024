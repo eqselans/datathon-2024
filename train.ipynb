{
 "cells": [
  {
   "cell_type": "code",
   "execution_count": 110,
   "metadata": {},
   "outputs": [],
   "source": [
    "import numpy as np\n",
    "import pandas as pd\n",
    "import seaborn as sns\n",
    "import matplotlib.pyplot as plt"
   ]
  },
  {
   "cell_type": "code",
   "execution_count": 111,
   "metadata": {},
   "outputs": [
    {
     "name": "stderr",
     "output_type": "stream",
     "text": [
      "C:\\Users\\erena\\AppData\\Local\\Temp\\ipykernel_17104\\2436019669.py:1: DtypeWarning: Columns (13,15,19,30,32,37,41,42) have mixed types. Specify dtype option on import or set low_memory=False.\n",
      "  df = pd.read_csv('train.csv')\n"
     ]
    }
   ],
   "source": [
    "df = pd.read_csv('train.csv')"
   ]
  },
  {
   "cell_type": "code",
   "execution_count": 112,
   "metadata": {},
   "outputs": [],
   "source": [
    "df = df[df['Cinsiyet'].notna() & (df['Cinsiyet'] != '')]"
   ]
  },
  {
   "cell_type": "code",
   "execution_count": 113,
   "metadata": {},
   "outputs": [
    {
     "data": {
      "text/plain": [
       "array(['Hayır', 'Evet', nan], dtype=object)"
      ]
     },
     "execution_count": 113,
     "metadata": {},
     "output_type": "execute_result"
    }
   ],
   "source": [
    "unique_val = df['Baska Bir Kurumdan Burs Aliyor mu?'].unique()\n",
    "unique_val"
   ]
  },
  {
   "cell_type": "code",
   "execution_count": 114,
   "metadata": {},
   "outputs": [],
   "source": [
    "df.loc[df['Baska Bir Kurumdan Burs Aliyor mu?'] == 'Hayır', 'Burs Aldigi Baska Kurum'] = 0"
   ]
  },
  {
   "cell_type": "code",
   "execution_count": 115,
   "metadata": {},
   "outputs": [],
   "source": [
    "df.loc[df['Baska Bir Kurumdan Burs Aliyor mu?'].isnull(), 'Burs Aldigi Baska Kurum'] = 0"
   ]
  },
  {
   "cell_type": "code",
   "execution_count": 116,
   "metadata": {},
   "outputs": [
    {
     "data": {
      "text/html": [
       "<div>\n",
       "<style scoped>\n",
       "    .dataframe tbody tr th:only-of-type {\n",
       "        vertical-align: middle;\n",
       "    }\n",
       "\n",
       "    .dataframe tbody tr th {\n",
       "        vertical-align: top;\n",
       "    }\n",
       "\n",
       "    .dataframe thead th {\n",
       "        text-align: right;\n",
       "    }\n",
       "</style>\n",
       "<table border=\"1\" class=\"dataframe\">\n",
       "  <thead>\n",
       "    <tr style=\"text-align: right;\">\n",
       "      <th></th>\n",
       "      <th>Basvuru Yili</th>\n",
       "      <th>Degerlendirme Puani</th>\n",
       "      <th>Burslu ise Burs Yuzdesi</th>\n",
       "      <th>id</th>\n",
       "    </tr>\n",
       "  </thead>\n",
       "  <tbody>\n",
       "    <tr>\n",
       "      <th>count</th>\n",
       "      <td>64956.000000</td>\n",
       "      <td>64955.000000</td>\n",
       "      <td>22404.000000</td>\n",
       "      <td>64956.000000</td>\n",
       "    </tr>\n",
       "    <tr>\n",
       "      <th>mean</th>\n",
       "      <td>2018.272461</td>\n",
       "      <td>32.112539</td>\n",
       "      <td>34.202910</td>\n",
       "      <td>32545.815752</td>\n",
       "    </tr>\n",
       "    <tr>\n",
       "      <th>std</th>\n",
       "      <td>2.671200</td>\n",
       "      <td>18.144754</td>\n",
       "      <td>41.639146</td>\n",
       "      <td>18802.364670</td>\n",
       "    </tr>\n",
       "    <tr>\n",
       "      <th>min</th>\n",
       "      <td>2014.000000</td>\n",
       "      <td>0.000000</td>\n",
       "      <td>0.000000</td>\n",
       "      <td>0.000000</td>\n",
       "    </tr>\n",
       "    <tr>\n",
       "      <th>25%</th>\n",
       "      <td>2016.000000</td>\n",
       "      <td>18.000000</td>\n",
       "      <td>0.000000</td>\n",
       "      <td>16272.750000</td>\n",
       "    </tr>\n",
       "    <tr>\n",
       "      <th>50%</th>\n",
       "      <td>2019.000000</td>\n",
       "      <td>29.000000</td>\n",
       "      <td>0.000000</td>\n",
       "      <td>32520.500000</td>\n",
       "    </tr>\n",
       "    <tr>\n",
       "      <th>75%</th>\n",
       "      <td>2021.000000</td>\n",
       "      <td>44.000000</td>\n",
       "      <td>75.000000</td>\n",
       "      <td>48835.250000</td>\n",
       "    </tr>\n",
       "    <tr>\n",
       "      <th>max</th>\n",
       "      <td>2022.000000</td>\n",
       "      <td>102.000000</td>\n",
       "      <td>100.000000</td>\n",
       "      <td>65124.000000</td>\n",
       "    </tr>\n",
       "  </tbody>\n",
       "</table>\n",
       "</div>"
      ],
      "text/plain": [
       "       Basvuru Yili  Degerlendirme Puani  Burslu ise Burs Yuzdesi  \\\n",
       "count  64956.000000         64955.000000             22404.000000   \n",
       "mean    2018.272461            32.112539                34.202910   \n",
       "std        2.671200            18.144754                41.639146   \n",
       "min     2014.000000             0.000000                 0.000000   \n",
       "25%     2016.000000            18.000000                 0.000000   \n",
       "50%     2019.000000            29.000000                 0.000000   \n",
       "75%     2021.000000            44.000000                75.000000   \n",
       "max     2022.000000           102.000000               100.000000   \n",
       "\n",
       "                 id  \n",
       "count  64956.000000  \n",
       "mean   32545.815752  \n",
       "std    18802.364670  \n",
       "min        0.000000  \n",
       "25%    16272.750000  \n",
       "50%    32520.500000  \n",
       "75%    48835.250000  \n",
       "max    65124.000000  "
      ]
     },
     "execution_count": 116,
     "metadata": {},
     "output_type": "execute_result"
    }
   ],
   "source": [
    "df.describe()"
   ]
  },
  {
   "cell_type": "code",
   "execution_count": 117,
   "metadata": {},
   "outputs": [],
   "source": [
    "df = df[df['Degerlendirme Puani'].notna() & (df['Degerlendirme Puani'] != '')]"
   ]
  },
  {
   "cell_type": "code",
   "execution_count": 118,
   "metadata": {},
   "outputs": [],
   "source": [
    "df = df[df['Dogum Tarihi'].notna() & (df['Dogum Tarihi'] != '')]"
   ]
  },
  {
   "cell_type": "code",
   "execution_count": 119,
   "metadata": {},
   "outputs": [],
   "source": [
    "df = df[df['Dogum Yeri'].notna() & (df['Dogum Yeri'] != '')]"
   ]
  },
  {
   "cell_type": "code",
   "execution_count": 120,
   "metadata": {},
   "outputs": [],
   "source": [
    "df = df[df['Ikametgah Sehri'].notna() & (df['Ikametgah Sehri'] != '')]"
   ]
  },
  {
   "cell_type": "code",
   "execution_count": 121,
   "metadata": {},
   "outputs": [],
   "source": [
    "df['Lise Bolum Diger'] = df['Lise Bolum Diger'].fillna(0)\n"
   ]
  },
  {
   "cell_type": "code",
   "execution_count": 122,
   "metadata": {},
   "outputs": [],
   "source": [
    "df = df[df['Universite Kacinci Sinif'].notna() & (df['Universite Kacinci Sinif'] != '')]"
   ]
  },
  {
   "cell_type": "code",
   "execution_count": 123,
   "metadata": {},
   "outputs": [],
   "source": [
    "df = df[df['Universite Adi'].notna() & (df['Universite Adi'] != '')]"
   ]
  },
  {
   "cell_type": "code",
   "execution_count": 124,
   "metadata": {},
   "outputs": [],
   "source": [
    "df = df[df['Bölüm'].notna() & (df['Bölüm'] != '')]"
   ]
  },
  {
   "cell_type": "code",
   "execution_count": 125,
   "metadata": {},
   "outputs": [],
   "source": [
    "df.loc[(df['Universite Kacinci Sinif'] == '1') & (df['Universite Not Ortalamasi'].isnull()), 'Universite Not Ortalamasi'] = 0"
   ]
  },
  {
   "cell_type": "code",
   "execution_count": 126,
   "metadata": {},
   "outputs": [],
   "source": [
    "df.loc[(df['Universite Kacinci Sinif'] == 'Hazırlık') & (df['Universite Not Ortalamasi'].isnull()), 'Universite Not Ortalamasi'] = 0"
   ]
  },
  {
   "cell_type": "code",
   "execution_count": 127,
   "metadata": {},
   "outputs": [],
   "source": [
    "df = df[df['Universite Not Ortalamasi'].notna() & (df['Universite Not Ortalamasi'] != '')]"
   ]
  },
  {
   "cell_type": "code",
   "execution_count": 128,
   "metadata": {},
   "outputs": [],
   "source": [
    "df['Daha Once Baska Bir Universiteden Mezun Olmus'] = df['Daha Once Baska Bir Universiteden Mezun Olmus'].fillna('Hayır')"
   ]
  },
  {
   "cell_type": "code",
   "execution_count": 129,
   "metadata": {},
   "outputs": [],
   "source": [
    "df = df[df['Lise Adi'].notna() & (df['Lise Adi'] != '')]"
   ]
  },
  {
   "cell_type": "code",
   "execution_count": 130,
   "metadata": {},
   "outputs": [
    {
     "data": {
      "text/plain": [
       "array(['0', 'Kamu', 'Özel Sektör', 'Diğer', nan, 'KAMU', 'ÖZEL SEKTÖR',\n",
       "       'DİĞER', '-'], dtype=object)"
      ]
     },
     "execution_count": 130,
     "metadata": {},
     "output_type": "execute_result"
    }
   ],
   "source": [
    "unique_val = df['Anne Sektor'].unique()\n",
    "unique_val"
   ]
  },
  {
   "cell_type": "code",
   "execution_count": 131,
   "metadata": {},
   "outputs": [],
   "source": [
    "df.loc[df['Anne Calisma Durumu'] == 'Hayır', 'Anne Sektor'] = 0"
   ]
  },
  {
   "cell_type": "code",
   "execution_count": 132,
   "metadata": {},
   "outputs": [],
   "source": [
    "df.loc[df['Anne Calisma Durumu'] == 'Emekli', 'Anne Sektor'] = 0"
   ]
  },
  {
   "cell_type": "code",
   "execution_count": 133,
   "metadata": {},
   "outputs": [],
   "source": [
    "df['Daha Once Baska Bir Universiteden Mezun Olmus'] = df['Daha Once Baska Bir Universiteden Mezun Olmus'].fillna('Hayır')"
   ]
  },
  {
   "cell_type": "code",
   "execution_count": 134,
   "metadata": {},
   "outputs": [],
   "source": [
    "df['Girisimcilik Kulupleri Tarzi Bir Kulube Uye misiniz?'] = df['Girisimcilik Kulupleri Tarzi Bir Kulube Uye misiniz?'].fillna('Hayır')"
   ]
  },
  {
   "cell_type": "code",
   "execution_count": 135,
   "metadata": {},
   "outputs": [],
   "source": [
    "df.loc[df['Ingilizce Biliyor musunuz?'].isnull(), ['Ingilizce Biliyor musunuz?', 'Ingilizce Seviyeniz?']] = 'Yok'"
   ]
  },
  {
   "cell_type": "code",
   "execution_count": 136,
   "metadata": {},
   "outputs": [],
   "source": [
    "df.loc[df['Ingilizce Biliyor musunuz?'] == 'Evet', ['Ingilizce Seviyeniz?']] = 'Baslangic'"
   ]
  },
  {
   "cell_type": "code",
   "execution_count": 137,
   "metadata": {},
   "outputs": [],
   "source": [
    "df.loc[df['Ingilizce Biliyor musunuz?'] == 'Hayır', ['Ingilizce Seviyeniz?']] = 'Yok'"
   ]
  },
  {
   "cell_type": "code",
   "execution_count": 138,
   "metadata": {},
   "outputs": [],
   "source": [
    "df.loc[df['Girisimcilikle Ilgili Deneyiminiz Var Mi?'] == 'Hayır', ['Girisimcilikle Ilgili Deneyiminizi Aciklayabilir misiniz?']] = 'Yok'"
   ]
  },
  {
   "cell_type": "code",
   "execution_count": 139,
   "metadata": {},
   "outputs": [],
   "source": [
    "df.loc[df['Girisimcilikle Ilgili Deneyiminiz Var Mi?'].isnull(), ['Girisimcilikle Ilgili Deneyiminiz Var Mi?','Girisimcilikle Ilgili Deneyiminizi Aciklayabilir misiniz?']] = 'Yok'"
   ]
  },
  {
   "cell_type": "code",
   "execution_count": 140,
   "metadata": {},
   "outputs": [],
   "source": [
    "df.loc[(df['Girisimcilikle Ilgili Deneyiminiz Var Mi?'] == 'Evet') & \n",
    "       (df['Girisimcilikle Ilgili Deneyiminizi Aciklayabilir misiniz?'].isnull()), \n",
    "       'Girisimcilikle Ilgili Deneyiminizi Aciklayabilir misiniz?'] = 'Yok'"
   ]
  },
  {
   "cell_type": "code",
   "execution_count": 141,
   "metadata": {},
   "outputs": [],
   "source": [
    "df.loc[df['Profesyonel Bir Spor Daliyla Mesgul musunuz?'].isnull(), ['Profesyonel Bir Spor Daliyla Mesgul musunuz?','Spor Dalindaki Rolunuz Nedir?']] = 'Yok'"
   ]
  },
  {
   "cell_type": "code",
   "execution_count": 142,
   "metadata": {},
   "outputs": [],
   "source": [
    "df.loc[df['Profesyonel Bir Spor Daliyla Mesgul musunuz?'] == 'Hayır', ['Spor Dalindaki Rolunuz Nedir?']] = 'Yok'"
   ]
  },
  {
   "cell_type": "code",
   "execution_count": 143,
   "metadata": {},
   "outputs": [],
   "source": [
    "df.loc[df['Daha Önceden Mezun Olunduysa, Mezun Olunan Üniversite'].isnull(), ['Daha Önceden Mezun Olunduysa, Mezun Olunan Üniversite']] = 'Yok'"
   ]
  },
  {
   "cell_type": "code",
   "execution_count": 144,
   "metadata": {},
   "outputs": [],
   "source": [
    "df = df[df['Lise Mezuniyet Notu'].notna() & (df['Lise Mezuniyet Notu'] != '')]"
   ]
  },
  {
   "cell_type": "code",
   "execution_count": 145,
   "metadata": {},
   "outputs": [],
   "source": [
    "df.loc[df['Universite Adi'] == ('MARMARA ÜNİVERSİTESİ'), ['Universite Turu']] = 'Devlet'\n",
    "df.loc[df['Universite Adi'] == ('HACETTEPE ÜNİVERSİTESİ'), ['Universite Turu']] = 'Devlet'\n",
    "df.loc[df['Universite Adi'] == ('BEYKENT ÜNİVERSİTESİ'), ['Universite Turu']] = 'Özel'\n",
    "df.loc[df['Universite Adi'] == ('VAN YÜZÜNCÜ YIL ÜNİVERSİTESİ'), ['Universite Turu']] = 'Devlet'"
   ]
  },
  {
   "cell_type": "code",
   "execution_count": 146,
   "metadata": {},
   "outputs": [],
   "source": [
    "df.loc[df['Universite Turu'] == 'DEVLET', ['Burslu ise Burs Yuzdesi']]= 100.0"
   ]
  },
  {
   "cell_type": "code",
   "execution_count": 147,
   "metadata": {},
   "outputs": [],
   "source": [
    "df.loc[df['Universite Turu'] == 'Devlet', ['Burslu ise Burs Yuzdesi']]= 100.0\n"
   ]
  },
  {
   "cell_type": "code",
   "execution_count": 148,
   "metadata": {},
   "outputs": [],
   "source": [
    "df.loc[(df['Aktif olarak bir STK üyesi misiniz?'].isnull()) & \n",
    "       (df['Hangi STK\\'nin Uyesisiniz?']=='Yok'), \n",
    "       'Aktif olarak bir STK üyesi misiniz?'] = 'Hayır'"
   ]
  },
  {
   "cell_type": "code",
   "execution_count": 149,
   "metadata": {},
   "outputs": [],
   "source": [
    "df=df.drop(\"Hangi STK'nin Uyesisiniz?\", axis=1)"
   ]
  },
  {
   "cell_type": "code",
   "execution_count": 150,
   "metadata": {},
   "outputs": [],
   "source": [
    "df.loc[df['Stk Projesine Katildiniz Mi?'].isnull(), ['Stk Projesine Katildiniz Mi?']]='Hayır'"
   ]
  },
  {
   "cell_type": "code",
   "execution_count": 151,
   "metadata": {},
   "outputs": [],
   "source": [
    "df.loc[df['Baska Bir Kurumdan Burs Aliyor mu?'].isnull(), ['Baska Bir Kurumdan Burs Aliyor mu?']]='Hayır'"
   ]
  },
  {
   "cell_type": "code",
   "execution_count": 152,
   "metadata": {},
   "outputs": [],
   "source": [
    "df=df.drop(\"Lise Adi Diger\", axis=1)"
   ]
  },
  {
   "cell_type": "code",
   "execution_count": 153,
   "metadata": {},
   "outputs": [],
   "source": [
    "from unidecode import unidecode\n",
    "df[\"Lise Turu\"]=df[\"Lise Turu\"].str.lower()"
   ]
  },
  {
   "cell_type": "code",
   "execution_count": 154,
   "metadata": {},
   "outputs": [],
   "source": [
    "city_map = {\n",
    "    'istanbul': 3,\n",
    "    'ankara': 2,\n",
    "    'izmir': 1\n",
    "}\n",
    "\n",
    "# Şehir değişkenini küçük harfe çevirip haritaya göre atama yapıyoruz, diğerlerini 0 yapıyoruz\n",
    "df['Lise Sehir'] = df['Lise Sehir'].str.lower().map(city_map).fillna(0)"
   ]
  },
  {
   "cell_type": "code",
   "execution_count": 155,
   "metadata": {},
   "outputs": [],
   "source": [
    "df=df.drop(\"Lise Bolum Diger\", axis=1)"
   ]
  },
  {
   "cell_type": "code",
   "execution_count": 156,
   "metadata": {},
   "outputs": [],
   "source": [
    "evet_hayir_emekli={'Evet':1,'Hayır':0,'Emekli':0}\n",
    "df['Anne Calisma Durumu'] = df['Anne Calisma Durumu'].map(evet_hayir_emekli).fillna(0)"
   ]
  },
  {
   "cell_type": "code",
   "execution_count": 157,
   "metadata": {},
   "outputs": [],
   "source": [
    "df=df.drop('Anne Sektor',axis=1)\n",
    "df=df.drop('Anne Egitim Durumu',axis=1)"
   ]
  },
  {
   "cell_type": "code",
   "execution_count": 158,
   "metadata": {},
   "outputs": [],
   "source": [
    "df=df.drop('Baba Sektor',axis=1)\n",
    "df=df.drop('Baba Egitim Durumu',axis=1)\n",
    "df['Baba Calisma Durumu'] = df['Baba Calisma Durumu'].map(evet_hayir_emekli).fillna(0)"
   ]
  },
  {
   "cell_type": "code",
   "execution_count": 159,
   "metadata": {},
   "outputs": [],
   "source": [
    "df[\"Kardes Sayisi\"]=df[\"Kardes Sayisi\"].fillna(0)"
   ]
  },
  {
   "cell_type": "code",
   "execution_count": 160,
   "metadata": {},
   "outputs": [],
   "source": [
    "df=df.drop(\"Uye Oldugunuz Kulubun Ismi\",axis=1)"
   ]
  },
  {
   "cell_type": "code",
   "execution_count": 161,
   "metadata": {},
   "outputs": [],
   "source": [
    "evet_hayir={'Evet':1,'Hayır':0,'evet':1,'EVET':1,'hayır':0,'HAYIR':0}\n",
    "df['Profesyonel Bir Spor Daliyla Mesgul musunuz?'] = df['Profesyonel Bir Spor Daliyla Mesgul musunuz?'].map(evet_hayir).fillna(0)"
   ]
  },
  {
   "cell_type": "code",
   "execution_count": 162,
   "metadata": {},
   "outputs": [],
   "source": [
    "df[\"Aktif olarak bir STK üyesi misiniz?\"]=df[\"Aktif olarak bir STK üyesi misiniz?\"].map(evet_hayir).fillna(0)"
   ]
  },
  {
   "cell_type": "code",
   "execution_count": 163,
   "metadata": {},
   "outputs": [],
   "source": [
    "df[\"Stk Projesine Katildiniz Mi?\"]=df[\"Stk Projesine Katildiniz Mi?\"].map(evet_hayir)\n",
    "df[\"Girisimcilikle Ilgili Deneyiminiz Var Mi?\"]=df[\"Girisimcilikle Ilgili Deneyiminiz Var Mi?\"].map(evet_hayir).fillna(0)\n",
    "df=df.drop(\"Girisimcilikle Ilgili Deneyiminizi Aciklayabilir misiniz?\",axis=1)"
   ]
  },
  {
   "cell_type": "code",
   "execution_count": 164,
   "metadata": {},
   "outputs": [],
   "source": [
    "df=df.drop(\"Daha Önceden Mezun Olunduysa, Mezun Olunan Üniversite\",axis=1)"
   ]
  },
  {
   "cell_type": "code",
   "execution_count": 165,
   "metadata": {},
   "outputs": [],
   "source": [
    "df=df.drop(\"Ingilizce Seviyeniz?\",axis=1)"
   ]
  },
  {
   "cell_type": "code",
   "execution_count": 166,
   "metadata": {},
   "outputs": [],
   "source": [
    "df[\"Ingilizce Biliyor musunuz?\"]=df[\"Ingilizce Biliyor musunuz?\"].map(evet_hayir).fillna(0)"
   ]
  },
  {
   "cell_type": "code",
   "execution_count": 167,
   "metadata": {},
   "outputs": [],
   "source": [
    "df=df.drop(\"Spor Dalindaki Rolunuz Nedir?\",axis=1)"
   ]
  },
  {
   "cell_type": "code",
   "execution_count": 168,
   "metadata": {},
   "outputs": [],
   "source": [
    "df[\"Girisimcilik Kulupleri Tarzi Bir Kulube Uye misiniz?\"]=df[\"Girisimcilik Kulupleri Tarzi Bir Kulube Uye misiniz?\"].map(evet_hayir)"
   ]
  },
  {
   "cell_type": "code",
   "execution_count": 169,
   "metadata": {},
   "outputs": [],
   "source": [
    "df=df.drop(\"Baska Kurumdan Aldigi Burs Miktari\",axis=1)"
   ]
  },
  {
   "cell_type": "code",
   "execution_count": 170,
   "metadata": {},
   "outputs": [],
   "source": [
    "df=df.drop(\"Burs Aldigi Baska Kurum\",axis=1)"
   ]
  },
  {
   "cell_type": "code",
   "execution_count": 171,
   "metadata": {},
   "outputs": [],
   "source": [
    "df[\"Baska Bir Kurumdan Burs Aliyor mu?\"]=df[\"Baska Bir Kurumdan Burs Aliyor mu?\"].map(evet_hayir)"
   ]
  },
  {
   "cell_type": "code",
   "execution_count": 172,
   "metadata": {},
   "outputs": [],
   "source": [
    "df[\"Burs Aliyor mu?\"]=df[\"Burs Aliyor mu?\"].map(evet_hayir)"
   ]
  },
  {
   "cell_type": "code",
   "execution_count": 173,
   "metadata": {},
   "outputs": [],
   "source": [
    "uni_not_mapping = {'ORTALAMA BULUNMUYOR': 0, 'Not ortalaması yok': 0, 'Ortalama bulunmuyor': 0,'Hazırlığım': 0,'0':0,\n",
    "                   '0 - 1.79': 0,'1.00 - 2.50':1,'1.80 - 2.49':1,'2.50 ve altı':1,'2.00 - 2.50':1,\"3.00-2.50\":2,\n",
    "                   \"2.50 - 3.00\":2,\"2.50 - 2.99\":2,'2.50 -3.00':2,'3.00 - 3.50':3,'3.50-3':3,'3.00 - 3.49':3,'3.00 - 4.00':3,'3.50 - 4.00':4,'4-3.5':4,'4.0-3.5':4}"
   ]
  },
  {
   "cell_type": "code",
   "execution_count": 174,
   "metadata": {},
   "outputs": [],
   "source": [
    "df[\"Universite Not Ortalamasi\"]=df[\"Universite Not Ortalamasi\"].map(uni_not_mapping)"
   ]
  },
  {
   "cell_type": "code",
   "execution_count": 175,
   "metadata": {},
   "outputs": [],
   "source": [
    "df[\"Universite Not Ortalamasi\"]=df[\"Universite Not Ortalamasi\"].fillna(0)"
   ]
  },
  {
   "cell_type": "code",
   "execution_count": 176,
   "metadata": {},
   "outputs": [],
   "source": [
    "df[\"Daha Once Baska Bir Universiteden Mezun Olmus\"]=df[\"Daha Once Baska Bir Universiteden Mezun Olmus\"].map(evet_hayir)"
   ]
  },
  {
   "cell_type": "code",
   "execution_count": 177,
   "metadata": {},
   "outputs": [
    {
     "data": {
      "text/plain": [
       "Lise Turu\n",
       "anadolu lisesi        16087\n",
       "diğer                 11967\n",
       "devlet                 6203\n",
       "düz lise               5406\n",
       "özel                   4446\n",
       "meslek lisesi          3285\n",
       "fen lisesi             2240\n",
       "meslek                 2222\n",
       "özel lisesi            1867\n",
       "i̇mam hatip lisesi     1046\n",
       "Name: count, dtype: int64"
      ]
     },
     "execution_count": 177,
     "metadata": {},
     "output_type": "execute_result"
    }
   ],
   "source": [
    "df[\"Lise Turu\"].value_counts()"
   ]
  },
  {
   "cell_type": "code",
   "execution_count": 178,
   "metadata": {},
   "outputs": [],
   "source": [
    "lise_mapping = {'anadolu lisesi':0,'diğer':0,'devlet':0,'düz lise':0,'özel':1,'meslek lisesi':2,'fen lisesi':3,'meslek':2,'özel lisesi':1,'imam hatip lisesi':4}"
   ]
  },
  {
   "cell_type": "code",
   "execution_count": 179,
   "metadata": {},
   "outputs": [],
   "source": [
    "df[\"Lise Turu\"]=df[\"Lise Turu\"].map(lise_mapping)"
   ]
  },
  {
   "cell_type": "code",
   "execution_count": 180,
   "metadata": {},
   "outputs": [],
   "source": [
    "df[\"Lise Turu\"]=df[\"Lise Turu\"].fillna(0)"
   ]
  },
  {
   "cell_type": "code",
   "execution_count": 181,
   "metadata": {},
   "outputs": [],
   "source": [
    "lisetürü=df[\"Lise Bolumu\"].value_counts()"
   ]
  },
  {
   "cell_type": "code",
   "execution_count": 182,
   "metadata": {},
   "outputs": [],
   "source": [
    "df = df[df['Cinsiyet'] != 'Belirtmek istemiyorum']"
   ]
  },
  {
   "cell_type": "code",
   "execution_count": 183,
   "metadata": {},
   "outputs": [],
   "source": [
    "cinsiyet_mapping = {'Kadın':0,'Erkek':1,'erkek':1,'ERKEK':1}"
   ]
  },
  {
   "cell_type": "code",
   "execution_count": 184,
   "metadata": {},
   "outputs": [],
   "source": [
    "df['Cinsiyet'] = df['Cinsiyet'].map(cinsiyet_mapping)"
   ]
  },
  {
   "cell_type": "code",
   "execution_count": 185,
   "metadata": {},
   "outputs": [],
   "source": [
    "df.loc[(df['Universite Turu'] == 'Devlet') & (df['Universite Turu'] == 'devlet') & (df['Universite Turu'] == 'DEVLET'), 'Burslu ise Burs Yuzdesi'] = 100"
   ]
  },
  {
   "cell_type": "code",
   "execution_count": 186,
   "metadata": {},
   "outputs": [],
   "source": [
    "df.loc[df['Universite Adi'] == ('AFYON KOCATEPE ÜNİVERSİTESİ'), ['Universite Turu']] = 'Devlet'\n",
    "df.loc[df['Universite Adi'] == ('AKDENİZ ÜNİVERSİTESİ'), ['Universite Turu']] = 'Devlet'\n",
    "df.loc[df['Universite Adi'] == ('BAHÇEŞEHİR ÜNİVERSİTESİ'), ['Universite Turu']] = 'Özel'\n",
    "df.loc[df['Universite Adi'] == ('ANKARA YILDIRIM BEYAZIT ÜNİVERSİTESİ'), ['Universite Turu']] = 'Devlet'"
   ]
  },
  {
   "cell_type": "code",
   "execution_count": 187,
   "metadata": {},
   "outputs": [],
   "source": [
    "df.loc[df['Universite Adi'] == ('TRAKYA ÜNİVERSİTESİ'), ['Universite Turu']] = 'Devlet'\n",
    "df.loc[df['Universite Adi'] == ('SELÇUK ÜNİVERSİTESİ'), ['Universite Turu']] = 'Devlet'\n",
    "df.loc[df['Universite Adi'] == ('BAŞKENT ÜNİVERSİTESİ'), ['Universite Turu']] = 'Özel'\n",
    "df.loc[df['Universite Adi'] == ('ÇUKUROVA ÜNİVERSİTESİ'), ['Universite Turu']] = 'Devlet'"
   ]
  },
  {
   "cell_type": "code",
   "execution_count": 188,
   "metadata": {},
   "outputs": [],
   "source": [
    "df.loc[df['Universite Adi'] == ('GAZİ ÜNİVERSİTESİ'), ['Universite Turu']] = 'Devlet'\n",
    "df.loc[df['Universite Adi'] == ('YILDIZ TEKNİK ÜNİVERSİTESİ'), ['Universite Turu']] = 'Devlet'\n",
    "df.loc[df['Universite Adi'] == ('İSTANBUL AREL ÜNİVERSİTESİ'), ['Universite Turu']] = 'Özel'\n",
    "df.loc[df['Universite Adi'] == ('İSTANBUL AYDIN ÜNİVERSİTESİ'), ['Universite Turu']] = 'Özel'\n",
    "df.loc[df['Universite Adi'] == ('ÖZYEĞİN ÜNİVERSİTESİ'), ['Universite Turu']] = 'Özel'\n",
    "df.loc[df['Universite Adi'] == ('BURSA ULUDAĞ ÜNİVERSİTESİ'), ['Universite Turu']] = 'Devlet'\n",
    "df.loc[df['Universite Adi'] == ('BOĞAZİÇİ ÜNİVERSİTESİ'), ['Universite Turu']] = 'Devlet'"
   ]
  },
  {
   "cell_type": "code",
   "execution_count": 189,
   "metadata": {},
   "outputs": [],
   "source": [
    "df.loc[df['Universite Adi'] == ('BİLECİK ŞEYH EDEBALİ ÜNİVERSİTESİ'), ['Universite Turu']] = 'Devlet'\n",
    "df.loc[df['Universite Adi'] == ('DOKUZ EYLÜL ÜNİVERSİTESİ'), ['Universite Turu']] = 'Devlet'\n",
    "df.loc[df['Universite Adi'] == ('DOĞUŞ ÜNİVERSİTESİ'), ['Universite Turu']] = 'Özel'\n",
    "df.loc[df['Universite Adi'] == ('MEF ÜNİVERSİTESİ'), ['Universite Turu']] = 'Özel'\n",
    "df.loc[df['Universite Adi'] == ('YEDİTEPE ÜNİVERSİTESİ'), ['Universite Turu']] = 'Özel'\n",
    "df.loc[df['Universite Adi'] == ('EGE ÜNİVERSİTESİ'), ['Universite Turu']] = 'Devlet'\n",
    "df.loc[df['Universite Adi'] == ('BOĞAZİÇİ ÜNİVERSİTESİ'), ['Universite Turu']] = 'Devlet'"
   ]
  },
  {
   "cell_type": "code",
   "execution_count": 190,
   "metadata": {},
   "outputs": [],
   "source": [
    "df.loc[df['Universite Adi'] == ('İSTANBUL TEKNİK ÜNİVERSİTESİ'), ['Universite Turu']] = 'Devlet'\n",
    "df.loc[df['Universite Adi'] == ('TOKAT GAZİOSMANPAŞA ÜNİVERSİTESİ'), ['Universite Turu']] = 'Devlet'\n",
    "df.loc[df['Universite Adi'] == ('HASAN KALYONCU ÜNİVERSİTESİ'), ['Universite Turu']] = 'Özel'\n",
    "df.loc[df['Universite Adi'] == ('SİVAS CUMHURİYET ÜNİVERSİTESİ'), ['Universite Turu']] = 'Devlet'\n",
    "df.loc[df['Universite Adi'] == ('YOZGAT BOZOK ÜNİVERSİTESİ'), ['Universite Turu']] = 'Devlet'\n",
    "df.loc[df['Universite Adi'] == ('AYDIN ADNAN MENDERES'), ['Universite Turu']] = 'Devlet'\n",
    "df.loc[df['Universite Adi'] == ('ARDAHAN ÜNİVERSİTESİ'), ['Universite Turu']] = 'Devlet'\n",
    "df.loc[df['Universite Adi'] == ('ATATÜRK ÜNİVERSİTESİ'), ['Universite Turu']] = 'Devlet'\n",
    "df.loc[df['Universite Adi'] == ('DİCLE ÜNİVERSİTESİ'), ['Universite Turu']] = 'Devlet'\n",
    "df.loc[df['Universite Adi'] == ('ERCİYES ÜNİVERSİTESİ'), ['Universite Turu']] = 'Devlet'\n",
    "df.loc[df['Universite Adi'] == ('ERZURUM TEKNİK ÜNİVERSİTESİ'), ['Universite Turu']] = 'Devlet'\n",
    "df.loc[df['Universite Adi'] == ('GÜMÜŞHANE ÜNİVERSİTESİ'), ['Universite Turu']] = 'Devlet'\n",
    "df.loc[df['Universite Adi'] == ('KARABÜK ÜNİVERSİTESİ'), ['Universite Turu']] = 'Devlet'\n",
    "df.loc[df['Universite Adi'] == ('KASTAMONU ÜNİVERSİTESİ'), ['Universite Turu']] = 'Devlet'\n",
    "df.loc[df['Universite Adi'] == ('KIRŞEHİR AHİ EVRAN ÜNİVERSİTESİ'), ['Universite Turu']] = 'Devlet'\n",
    "df.loc[df['Universite Adi'] == ('KOCAELİ ÜNİVERSİTESİ'), ['Universite Turu']] = 'Devlet'\n",
    "df.loc[df['Universite Adi'] == ('MARDİN ARTUKLU ÜNİVERSİTESİ'), ['Universite Turu']] = 'Devlet'\n",
    "df.loc[df['Universite Adi'] == ('MEHMET AKİF ERSOY ÜNİVERSİTESİ'), ['Universite Turu']] = 'Devlet'\n",
    "df.loc[df['Universite Adi'] == ('MERSİN ÜNİVERSİTESİ'), ['Universite Turu']] = 'Devlet'\n",
    "df.loc[df['Universite Adi'] == ('MUĞLA SITKI KOÇMAN ÜNİVERSİTESİ'), ['Universite Turu']] = 'Devlet'"
   ]
  },
  {
   "cell_type": "code",
   "execution_count": 191,
   "metadata": {},
   "outputs": [],
   "source": [
    "df.loc[df['Universite Adi'] == ('İSTANBUL ÜNİVERSİTESİ'), ['Universite Turu']] = 'Devlet'\n",
    "df.loc[df['Universite Adi'] == ('İSTANBUL ÜNİVERSİTESİ-'), ['Universite Turu']] = 'Devlet'\n",
    "df.loc[df['Universite Adi'] == ('NECMETTİN ERBAKAN ÜNİVERSİTESİ'), ['Universite Turu']] = 'Devlet'\n",
    "df.loc[df['Universite Adi'] == ('ESKİŞEHİR TEKNİK ÜNİVERSİTESİ'), ['Universite Turu']] = 'Özel'\n",
    "df.loc[df['Universite Adi'] == ('MUŞ ALPARSLAN ÜNİVERSİTESİ'), ['Universite Turu']] = 'Devlet'\n",
    "df.loc[df['Universite Adi'] == ('NUH NACİ YAZGAN ÜNİVERSİTESİ'), ['Universite Turu']] = 'Özel'\n",
    "df.loc[df['Universite Adi'] == ('ONDOKUZ MAYIS ÜNİVERSİTESİ'), ['Universite Turu']] = 'Devlet'\n",
    "df.loc[df['Universite Adi'] == ('SİNOP ÜNİVERSİTESİ'), ['Universite Turu']] = 'Devlet'\n",
    "df.loc[df['Universite Adi'] == ('SİİRT ÜNİVERSİTESİ'), ['Universite Turu']] = 'Devlet'\n",
    "df.loc[df['Universite Adi'] == ('TEKİRDAĞ NAMIK KEMAL ÜNİVERSİTESİ'), ['Universite Turu']] = 'Devlet'\n",
    "df.loc[df['Universite Adi'] == ('YALOVA ÜNİVERSİTESİ'), ['Universite Turu']] = 'Devlet'\n",
    "df.loc[df['Universite Adi'] == ('ÇANAKKALE ONSEKİZ MART ÜNİVERSİTESİ'), ['Universite Turu']] = 'Devlet'"
   ]
  },
  {
   "cell_type": "code",
   "execution_count": 192,
   "metadata": {},
   "outputs": [],
   "source": [
    "df.loc[df['Universite Adi'] == ('İZMİR BAKIRÇAY ÜNİVERSİTESİ'), ['Universite Turu']] = 'Devlet'\n",
    "df.loc[df['Universite Adi'] == ('İZMİR YÜKSEK TEKNOLOJİ ENSTİTÜSÜ'), ['Universite Turu']] = 'Devlet'\n",
    "df.loc[df['Universite Adi'] == ('SAĞLIK BİLİMLERİ ÜNİVERSİTESİ'), ['Universite Turu']] = 'Devlet'\n"
   ]
  },
  {
   "cell_type": "code",
   "execution_count": 193,
   "metadata": {},
   "outputs": [],
   "source": [
    "df.loc[(df['Universite Turu'].isnull()) , 'Universite Turu'] = 'Özel'"
   ]
  },
  {
   "cell_type": "code",
   "execution_count": 194,
   "metadata": {},
   "outputs": [],
   "source": [
    "df = df[df['Universite Adi'] != 'Diğer']"
   ]
  },
  {
   "cell_type": "code",
   "execution_count": 195,
   "metadata": {},
   "outputs": [
    {
     "data": {
      "text/plain": [
       "Universite Turu\n",
       "Devlet    38172\n",
       "Özel       7340\n",
       "DEVLET     6925\n",
       "ÖZEL       2148\n",
       "Name: count, dtype: int64"
      ]
     },
     "execution_count": 195,
     "metadata": {},
     "output_type": "execute_result"
    }
   ],
   "source": [
    "df['Universite Turu'].value_counts()"
   ]
  },
  {
   "cell_type": "code",
   "execution_count": 196,
   "metadata": {},
   "outputs": [],
   "source": [
    "universite_tur_mapping = {'Devlet':1,'DEVLET':1,'Özel':0,'ÖZEL':0}"
   ]
  },
  {
   "cell_type": "code",
   "execution_count": 197,
   "metadata": {},
   "outputs": [],
   "source": [
    "df['Universite Turu'] = df['Universite Turu'].map(universite_tur_mapping)"
   ]
  },
  {
   "cell_type": "code",
   "execution_count": 198,
   "metadata": {},
   "outputs": [],
   "source": [
    "df.loc[(df['Universite Turu']==1) , 'Burslu ise Burs Yuzdesi'] = 100"
   ]
  },
  {
   "cell_type": "code",
   "execution_count": 199,
   "metadata": {},
   "outputs": [],
   "source": [
    "df.loc[(df['Universite Turu']==0) & (df['Burslu ise Burs Yuzdesi'].isnull()), 'Burslu ise Burs Yuzdesi'] = 0"
   ]
  },
  {
   "cell_type": "code",
   "execution_count": 200,
   "metadata": {},
   "outputs": [],
   "source": [
    "df.loc[df['Lise Bolumu'].str.contains('Fen', case=False, na=False), 'Lise Bolumu'] = 'SAY'\n",
    "df.loc[df['Lise Bolumu'].str.contains('Sayısal', case=False, na=False), 'Lise Bolumu'] = 'SAY'\n",
    "df.loc[df['Lise Bolumu'].str.contains('Sayisal', case=False, na=False), 'Lise Bolumu'] = 'SAY'\n",
    "df.loc[df['Lise Bolumu'].str.contains('mf', case=False, na=False), 'Lise Bolumu'] = 'SAY'"
   ]
  },
  {
   "cell_type": "code",
   "execution_count": 201,
   "metadata": {},
   "outputs": [],
   "source": [
    "df.loc[df['Lise Bolumu'].str.contains('eşit', case=False, na=False), 'Lise Bolumu'] = 'EA'\n",
    "df.loc[df['Lise Bolumu'].str.contains('esıt', case=False, na=False), 'Lise Bolumu'] = 'EA'\n",
    "df.loc[df['Lise Bolumu'].str.contains('Türkçe-Matematik', case=False, na=False), 'Lise Bolumu'] = 'EA'\n",
    "df.loc[df['Lise Bolumu'].str.contains('Türkçe - Matematik', case=False, na=False), 'Lise Bolumu'] = 'EA'\n",
    "df.loc[df['Lise Bolumu'].str.contains('TÜRKÇE /MATEMATİK', case=False, na=False), 'Lise Bolumu'] = 'EA'\n",
    "df.loc[df['Lise Bolumu'].str.contains('Türkçe- Matematik', case=False, na=False), 'Lise Bolumu'] = 'EA'\n",
    "df.loc[df['Lise Bolumu'].str.contains('Türkçe Matematik', case=False, na=False), 'Lise Bolumu'] = 'EA'\n",
    "df.loc[df['Lise Bolumu'].str.contains('TM', case=False, na=False), 'Lise Bolumu'] = 'EA'"
   ]
  },
  {
   "cell_type": "code",
   "execution_count": 202,
   "metadata": {},
   "outputs": [],
   "source": [
    "df.loc[df['Lise Bolumu'].str.contains('söz', case=False, na=False), 'Lise Bolumu'] = 'SOZ'\n",
    "df.loc[df['Lise Bolumu'].str.contains('sosyal', case=False, na=False), 'Lise Bolumu'] = 'SOZ'\n",
    "df.loc[df['Lise Bolumu'].str.contains('ts', case=False, na=False), 'Lise Bolumu'] = 'SOZ'"
   ]
  },
  {
   "cell_type": "code",
   "execution_count": 203,
   "metadata": {},
   "outputs": [],
   "source": [
    "df.loc[df['Lise Bolumu'].str.contains('yabancı', case=False, na=False), 'Lise Bolumu'] = 'DIL'\n",
    "df.loc[df['Lise Bolumu'].str.contains('dil', case=False, na=False), 'Lise Bolumu'] = 'DIL'\n",
    "df.loc[df['Lise Bolumu'].str.contains('dıl', case=False, na=False), 'Lise Bolumu'] = 'DIL'\n"
   ]
  },
  {
   "cell_type": "code",
   "execution_count": 204,
   "metadata": {},
   "outputs": [],
   "source": [
    "cs = df['Lise Bolumu'].value_counts()"
   ]
  },
  {
   "cell_type": "code",
   "execution_count": 205,
   "metadata": {},
   "outputs": [],
   "source": [
    "# Türkçe karakterleri İngilizce karakterlere çeviren fonksiyon\n",
    "def convert_characters(text):\n",
    "    # Karakter dönüşüm tablosu\n",
    "    turkish_to_english = str.maketrans(\"çğıöşüÇĞİÖŞÜ\", \"cgiosuCGIOSU\")\n",
    "    \n",
    "    # Küçük harfe çevir, Türkçe karakterleri dönüştür ve boşlukları kaldır\n",
    "    return text.lower().translate(turkish_to_english).replace(\" \", \"\")"
   ]
  },
  {
   "cell_type": "code",
   "execution_count": 206,
   "metadata": {},
   "outputs": [],
   "source": [
    "df['Lise Adi'] = df['Lise Adi'].apply(convert_characters)"
   ]
  },
  {
   "cell_type": "code",
   "execution_count": 207,
   "metadata": {},
   "outputs": [],
   "source": [
    "df['Bölüm'] = df['Bölüm'].apply(convert_characters)"
   ]
  },
  {
   "cell_type": "code",
   "execution_count": 208,
   "metadata": {},
   "outputs": [],
   "source": [
    "df['Dogum Yeri'] = df['Dogum Yeri'].apply(convert_characters)\n"
   ]
  },
  {
   "cell_type": "code",
   "execution_count": 209,
   "metadata": {},
   "outputs": [],
   "source": [
    "df = df[df['Lise Bolumu'].notna() & (df['Lise Bolumu'] != '')]"
   ]
  },
  {
   "cell_type": "code",
   "execution_count": 210,
   "metadata": {},
   "outputs": [],
   "source": [
    "cs = df['Dogum Yeri'].value_counts()"
   ]
  },
  {
   "cell_type": "code",
   "execution_count": 211,
   "metadata": {},
   "outputs": [],
   "source": [
    "df.loc[(df['Dogum Yeri']=='İstanbul') , 'Dogum Yeri'] = 'istanbul'"
   ]
  },
  {
   "cell_type": "code",
   "execution_count": 212,
   "metadata": {},
   "outputs": [],
   "source": [
    "cs = df['Dogum Yeri'].value_counts()"
   ]
  },
  {
   "cell_type": "code",
   "execution_count": 213,
   "metadata": {},
   "outputs": [],
   "source": [
    "import re\n",
    "def extract_year(date_str):\n",
    "\n",
    "    match = re.search(r'(\\d{4})', str(date_str))\n",
    "    if match:\n",
    "        return int(match.group(1))\n",
    "    return None\n",
    "\n",
    "df['Dogum Yili'] = df['Dogum Tarihi'].apply(extract_year)\n",
    "df['Basvuru Yasi'] = df['Basvuru Yili'] - df['Dogum Yili']"
   ]
  },
  {
   "cell_type": "code",
   "execution_count": 214,
   "metadata": {},
   "outputs": [
    {
     "name": "stderr",
     "output_type": "stream",
     "text": [
      "C:\\Users\\erena\\AppData\\Local\\Temp\\ipykernel_17104\\1723020219.py:4: UserWarning: Could not infer format, so each element will be parsed individually, falling back to `dateutil`. To ensure parsing is consistent and as-expected, please specify a format.\n",
      "  df.loc[mask, 'Dogum Yili'] = pd.to_datetime(df.loc[mask, 'Dogum Tarihi'], dayfirst=True, errors='coerce').dt.year\n"
     ]
    }
   ],
   "source": [
    "df['Dogum Tarihi'] = df['Dogum Tarihi'].str.replace('__', '', regex=False)\n",
    "df['Dogum Tarihi'] = df['Dogum Tarihi'].str.replace('_', '', regex=False)\n",
    "mask = df['Dogum Yili'].isna()  # Dogum_Yili sütunu boş olanlar\n",
    "df.loc[mask, 'Dogum Yili'] = pd.to_datetime(df.loc[mask, 'Dogum Tarihi'], dayfirst=True, errors='coerce').dt.year"
   ]
  },
  {
   "cell_type": "code",
   "execution_count": 215,
   "metadata": {},
   "outputs": [],
   "source": [
    "df['Basvuru Yasi'] = df['Basvuru Yili'] - df['Dogum Yili']"
   ]
  },
  {
   "cell_type": "code",
   "execution_count": 216,
   "metadata": {},
   "outputs": [],
   "source": [
    "df = df[df['Dogum Yili'] <= 2012]"
   ]
  },
  {
   "cell_type": "code",
   "execution_count": 217,
   "metadata": {},
   "outputs": [],
   "source": [
    "df = df[df['Dogum Yili'] > 1970]"
   ]
  },
  {
   "cell_type": "code",
   "execution_count": 218,
   "metadata": {},
   "outputs": [
    {
     "data": {
      "text/plain": [
       "Lise Mezuniyet Notu\n",
       "75 - 100              19894\n",
       "84-70                  8808\n",
       "100-85                 6772\n",
       "4.00-3.50              3226\n",
       "50 - 75                2557\n",
       "3.00 - 4.00            2330\n",
       "3.50-3.00              2312\n",
       "69-55                  2056\n",
       "3.50-3                 1790\n",
       "3.00-2.50              1753\n",
       "50 - 74                1002\n",
       "2.50 ve altı            170\n",
       "54-45                    82\n",
       "Not ortalaması yok       10\n",
       "25 - 50                   8\n",
       "44-0                      5\n",
       "25 - 49                   2\n",
       "0 - 25                    1\n",
       "0 - 24                    1\n",
       "Name: count, dtype: int64"
      ]
     },
     "execution_count": 218,
     "metadata": {},
     "output_type": "execute_result"
    }
   ],
   "source": [
    "df[\"Lise Mezuniyet Notu\"].value_counts()"
   ]
  },
  {
   "cell_type": "code",
   "execution_count": 219,
   "metadata": {},
   "outputs": [],
   "source": [
    "lise_not_mapping = {'0 - 24':1,'0 - 25':1,'25 - 49':1,'44-0':1,'25 - 50':1,'Not ortalaması yok':0,'54-45':2,'2.50 ve altı':2,'50 - 74':3,'3.00-2.50':3,'3.50-3':4,'69-55':3,'3.50-3.00':4,'3.00 - 4.00':4,'50 - 75':3,'4.00-3.50':5,'100-85':5,'84-70':4,'75 - 100':5}"
   ]
  },
  {
   "cell_type": "code",
   "execution_count": 220,
   "metadata": {},
   "outputs": [],
   "source": [
    "df[\"Lise Mezuniyet Notu\"] = df[\"Lise Mezuniyet Notu\"].map(lise_not_mapping)"
   ]
  },
  {
   "cell_type": "code",
   "execution_count": 221,
   "metadata": {},
   "outputs": [],
   "source": [
    "df =df.drop(\"Dogum Yili\",axis=1)"
   ]
  },
  {
   "cell_type": "code",
   "execution_count": 222,
   "metadata": {},
   "outputs": [],
   "source": [
    "df = df.drop(\"Dogum Tarihi\",axis=1)"
   ]
  },
  {
   "cell_type": "code",
   "execution_count": null,
   "metadata": {},
   "outputs": [],
   "source": []
  }
 ],
 "metadata": {
  "kernelspec": {
   "display_name": "Python 3",
   "language": "python",
   "name": "python3"
  },
  "language_info": {
   "codemirror_mode": {
    "name": "ipython",
    "version": 3
   },
   "file_extension": ".py",
   "mimetype": "text/x-python",
   "name": "python",
   "nbconvert_exporter": "python",
   "pygments_lexer": "ipython3",
   "version": "3.11.7"
  }
 },
 "nbformat": 4,
 "nbformat_minor": 2
}
